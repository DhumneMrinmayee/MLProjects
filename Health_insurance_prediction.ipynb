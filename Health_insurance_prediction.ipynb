{
  "nbformat": 4,
  "nbformat_minor": 0,
  "metadata": {
    "colab": {
      "name": "Health_insurance_prediction.ipynb",
      "provenance": []
    },
    "kernelspec": {
      "name": "python3",
      "display_name": "Python 3"
    },
    "language_info": {
      "name": "python"
    }
  },
  "cells": [
    {
      "cell_type": "code",
      "execution_count": 106,
      "metadata": {
        "id": "qPimJNQktwxX"
      },
      "outputs": [],
      "source": [
        "# Import necessary libraries\n",
        "\n",
        "import pandas as pd\n",
        "import numpy as np\n",
        "import matplotlib.pyplot as plt\n",
        "\n",
        "import plotly as px\n",
        "import seaborn as sns\n",
        "from sklearn.model_selection import train_test_split\n",
        "from sklearn.linear_model import LinearRegression\n",
        "from sklearn import metrics"
      ]
    },
    {
      "cell_type": "code",
      "source": [
        "# load the data (from csv file to a Pandas DataFrame)\n",
        "df = pd.read_csv('/content/insurance.csv')"
      ],
      "metadata": {
        "id": "0LQiWWcet4TB"
      },
      "execution_count": 107,
      "outputs": []
    },
    {
      "cell_type": "code",
      "source": [
        "# Disply the dataframe\n",
        "df.head()"
      ],
      "metadata": {
        "colab": {
          "base_uri": "https://localhost:8080/",
          "height": 206
        },
        "id": "Gy8QlS_pt7P0",
        "outputId": "e9b77d88-f30d-48dd-9a39-017710fc0e73"
      },
      "execution_count": 108,
      "outputs": [
        {
          "output_type": "execute_result",
          "data": {
            "text/plain": [
              "   age     sex     bmi  children smoker     region      charges\n",
              "0   19  female  27.900         0    yes  southwest  16884.92400\n",
              "1   18    male  33.770         1     no  southeast   1725.55230\n",
              "2   28    male  33.000         3     no  southeast   4449.46200\n",
              "3   33    male  22.705         0     no  northwest  21984.47061\n",
              "4   32    male  28.880         0     no  northwest   3866.85520"
            ],
            "text/html": [
              "\n",
              "  <div id=\"df-65b6cace-9a17-436e-bd9f-daf56f1142f0\">\n",
              "    <div class=\"colab-df-container\">\n",
              "      <div>\n",
              "<style scoped>\n",
              "    .dataframe tbody tr th:only-of-type {\n",
              "        vertical-align: middle;\n",
              "    }\n",
              "\n",
              "    .dataframe tbody tr th {\n",
              "        vertical-align: top;\n",
              "    }\n",
              "\n",
              "    .dataframe thead th {\n",
              "        text-align: right;\n",
              "    }\n",
              "</style>\n",
              "<table border=\"1\" class=\"dataframe\">\n",
              "  <thead>\n",
              "    <tr style=\"text-align: right;\">\n",
              "      <th></th>\n",
              "      <th>age</th>\n",
              "      <th>sex</th>\n",
              "      <th>bmi</th>\n",
              "      <th>children</th>\n",
              "      <th>smoker</th>\n",
              "      <th>region</th>\n",
              "      <th>charges</th>\n",
              "    </tr>\n",
              "  </thead>\n",
              "  <tbody>\n",
              "    <tr>\n",
              "      <th>0</th>\n",
              "      <td>19</td>\n",
              "      <td>female</td>\n",
              "      <td>27.900</td>\n",
              "      <td>0</td>\n",
              "      <td>yes</td>\n",
              "      <td>southwest</td>\n",
              "      <td>16884.92400</td>\n",
              "    </tr>\n",
              "    <tr>\n",
              "      <th>1</th>\n",
              "      <td>18</td>\n",
              "      <td>male</td>\n",
              "      <td>33.770</td>\n",
              "      <td>1</td>\n",
              "      <td>no</td>\n",
              "      <td>southeast</td>\n",
              "      <td>1725.55230</td>\n",
              "    </tr>\n",
              "    <tr>\n",
              "      <th>2</th>\n",
              "      <td>28</td>\n",
              "      <td>male</td>\n",
              "      <td>33.000</td>\n",
              "      <td>3</td>\n",
              "      <td>no</td>\n",
              "      <td>southeast</td>\n",
              "      <td>4449.46200</td>\n",
              "    </tr>\n",
              "    <tr>\n",
              "      <th>3</th>\n",
              "      <td>33</td>\n",
              "      <td>male</td>\n",
              "      <td>22.705</td>\n",
              "      <td>0</td>\n",
              "      <td>no</td>\n",
              "      <td>northwest</td>\n",
              "      <td>21984.47061</td>\n",
              "    </tr>\n",
              "    <tr>\n",
              "      <th>4</th>\n",
              "      <td>32</td>\n",
              "      <td>male</td>\n",
              "      <td>28.880</td>\n",
              "      <td>0</td>\n",
              "      <td>no</td>\n",
              "      <td>northwest</td>\n",
              "      <td>3866.85520</td>\n",
              "    </tr>\n",
              "  </tbody>\n",
              "</table>\n",
              "</div>\n",
              "      <button class=\"colab-df-convert\" onclick=\"convertToInteractive('df-65b6cace-9a17-436e-bd9f-daf56f1142f0')\"\n",
              "              title=\"Convert this dataframe to an interactive table.\"\n",
              "              style=\"display:none;\">\n",
              "        \n",
              "  <svg xmlns=\"http://www.w3.org/2000/svg\" height=\"24px\"viewBox=\"0 0 24 24\"\n",
              "       width=\"24px\">\n",
              "    <path d=\"M0 0h24v24H0V0z\" fill=\"none\"/>\n",
              "    <path d=\"M18.56 5.44l.94 2.06.94-2.06 2.06-.94-2.06-.94-.94-2.06-.94 2.06-2.06.94zm-11 1L8.5 8.5l.94-2.06 2.06-.94-2.06-.94L8.5 2.5l-.94 2.06-2.06.94zm10 10l.94 2.06.94-2.06 2.06-.94-2.06-.94-.94-2.06-.94 2.06-2.06.94z\"/><path d=\"M17.41 7.96l-1.37-1.37c-.4-.4-.92-.59-1.43-.59-.52 0-1.04.2-1.43.59L10.3 9.45l-7.72 7.72c-.78.78-.78 2.05 0 2.83L4 21.41c.39.39.9.59 1.41.59.51 0 1.02-.2 1.41-.59l7.78-7.78 2.81-2.81c.8-.78.8-2.07 0-2.86zM5.41 20L4 18.59l7.72-7.72 1.47 1.35L5.41 20z\"/>\n",
              "  </svg>\n",
              "      </button>\n",
              "      \n",
              "  <style>\n",
              "    .colab-df-container {\n",
              "      display:flex;\n",
              "      flex-wrap:wrap;\n",
              "      gap: 12px;\n",
              "    }\n",
              "\n",
              "    .colab-df-convert {\n",
              "      background-color: #E8F0FE;\n",
              "      border: none;\n",
              "      border-radius: 50%;\n",
              "      cursor: pointer;\n",
              "      display: none;\n",
              "      fill: #1967D2;\n",
              "      height: 32px;\n",
              "      padding: 0 0 0 0;\n",
              "      width: 32px;\n",
              "    }\n",
              "\n",
              "    .colab-df-convert:hover {\n",
              "      background-color: #E2EBFA;\n",
              "      box-shadow: 0px 1px 2px rgba(60, 64, 67, 0.3), 0px 1px 3px 1px rgba(60, 64, 67, 0.15);\n",
              "      fill: #174EA6;\n",
              "    }\n",
              "\n",
              "    [theme=dark] .colab-df-convert {\n",
              "      background-color: #3B4455;\n",
              "      fill: #D2E3FC;\n",
              "    }\n",
              "\n",
              "    [theme=dark] .colab-df-convert:hover {\n",
              "      background-color: #434B5C;\n",
              "      box-shadow: 0px 1px 3px 1px rgba(0, 0, 0, 0.15);\n",
              "      filter: drop-shadow(0px 1px 2px rgba(0, 0, 0, 0.3));\n",
              "      fill: #FFFFFF;\n",
              "    }\n",
              "  </style>\n",
              "\n",
              "      <script>\n",
              "        const buttonEl =\n",
              "          document.querySelector('#df-65b6cace-9a17-436e-bd9f-daf56f1142f0 button.colab-df-convert');\n",
              "        buttonEl.style.display =\n",
              "          google.colab.kernel.accessAllowed ? 'block' : 'none';\n",
              "\n",
              "        async function convertToInteractive(key) {\n",
              "          const element = document.querySelector('#df-65b6cace-9a17-436e-bd9f-daf56f1142f0');\n",
              "          const dataTable =\n",
              "            await google.colab.kernel.invokeFunction('convertToInteractive',\n",
              "                                                     [key], {});\n",
              "          if (!dataTable) return;\n",
              "\n",
              "          const docLinkHtml = 'Like what you see? Visit the ' +\n",
              "            '<a target=\"_blank\" href=https://colab.research.google.com/notebooks/data_table.ipynb>data table notebook</a>'\n",
              "            + ' to learn more about interactive tables.';\n",
              "          element.innerHTML = '';\n",
              "          dataTable['output_type'] = 'display_data';\n",
              "          await google.colab.output.renderOutput(dataTable, element);\n",
              "          const docLink = document.createElement('div');\n",
              "          docLink.innerHTML = docLinkHtml;\n",
              "          element.appendChild(docLink);\n",
              "        }\n",
              "      </script>\n",
              "    </div>\n",
              "  </div>\n",
              "  "
            ]
          },
          "metadata": {},
          "execution_count": 108
        }
      ]
    },
    {
      "cell_type": "code",
      "source": [
        "# number of rows and columns\n",
        "df.shape"
      ],
      "metadata": {
        "colab": {
          "base_uri": "https://localhost:8080/"
        },
        "id": "TAoXKqV3uB18",
        "outputId": "e90e542c-8da2-4d5b-a733-81fd17d8e5cf"
      },
      "execution_count": 109,
      "outputs": [
        {
          "output_type": "execute_result",
          "data": {
            "text/plain": [
              "(1338, 7)"
            ]
          },
          "metadata": {},
          "execution_count": 109
        }
      ]
    },
    {
      "cell_type": "code",
      "source": [
        "# getting informations about the dataset\n",
        "df.info()"
      ],
      "metadata": {
        "colab": {
          "base_uri": "https://localhost:8080/"
        },
        "id": "xnterOdLuGEk",
        "outputId": "0a4579ea-f96d-4d2e-dc86-5c55627edee4"
      },
      "execution_count": 110,
      "outputs": [
        {
          "output_type": "stream",
          "name": "stdout",
          "text": [
            "<class 'pandas.core.frame.DataFrame'>\n",
            "RangeIndex: 1338 entries, 0 to 1337\n",
            "Data columns (total 7 columns):\n",
            " #   Column    Non-Null Count  Dtype  \n",
            "---  ------    --------------  -----  \n",
            " 0   age       1338 non-null   int64  \n",
            " 1   sex       1338 non-null   object \n",
            " 2   bmi       1338 non-null   float64\n",
            " 3   children  1338 non-null   int64  \n",
            " 4   smoker    1338 non-null   object \n",
            " 5   region    1338 non-null   object \n",
            " 6   charges   1338 non-null   float64\n",
            "dtypes: float64(2), int64(2), object(3)\n",
            "memory usage: 73.3+ KB\n"
          ]
        }
      ]
    },
    {
      "cell_type": "code",
      "source": [
        "# checking for null values\n",
        "df.isnull().sum()"
      ],
      "metadata": {
        "colab": {
          "base_uri": "https://localhost:8080/"
        },
        "id": "6JNfLNTouNtF",
        "outputId": "6a31155f-ece1-415b-bee0-6d6f7363bd70"
      },
      "execution_count": 111,
      "outputs": [
        {
          "output_type": "execute_result",
          "data": {
            "text/plain": [
              "age         0\n",
              "sex         0\n",
              "bmi         0\n",
              "children    0\n",
              "smoker      0\n",
              "region      0\n",
              "charges     0\n",
              "dtype: int64"
            ]
          },
          "metadata": {},
          "execution_count": 111
        }
      ]
    },
    {
      "cell_type": "code",
      "source": [
        "# statistical Measures of the dataset\n",
        "df.describe()"
      ],
      "metadata": {
        "colab": {
          "base_uri": "https://localhost:8080/",
          "height": 300
        },
        "id": "66S_jpnhuSDM",
        "outputId": "52b473f5-f5ed-4c21-fa89-4e8c84163961"
      },
      "execution_count": 112,
      "outputs": [
        {
          "output_type": "execute_result",
          "data": {
            "text/plain": [
              "               age          bmi     children       charges\n",
              "count  1338.000000  1338.000000  1338.000000   1338.000000\n",
              "mean     39.207025    30.663397     1.094918  13270.422265\n",
              "std      14.049960     6.098187     1.205493  12110.011237\n",
              "min      18.000000    15.960000     0.000000   1121.873900\n",
              "25%      27.000000    26.296250     0.000000   4740.287150\n",
              "50%      39.000000    30.400000     1.000000   9382.033000\n",
              "75%      51.000000    34.693750     2.000000  16639.912515\n",
              "max      64.000000    53.130000     5.000000  63770.428010"
            ],
            "text/html": [
              "\n",
              "  <div id=\"df-ccce7042-e472-41ea-bae7-01fccd0f9f22\">\n",
              "    <div class=\"colab-df-container\">\n",
              "      <div>\n",
              "<style scoped>\n",
              "    .dataframe tbody tr th:only-of-type {\n",
              "        vertical-align: middle;\n",
              "    }\n",
              "\n",
              "    .dataframe tbody tr th {\n",
              "        vertical-align: top;\n",
              "    }\n",
              "\n",
              "    .dataframe thead th {\n",
              "        text-align: right;\n",
              "    }\n",
              "</style>\n",
              "<table border=\"1\" class=\"dataframe\">\n",
              "  <thead>\n",
              "    <tr style=\"text-align: right;\">\n",
              "      <th></th>\n",
              "      <th>age</th>\n",
              "      <th>bmi</th>\n",
              "      <th>children</th>\n",
              "      <th>charges</th>\n",
              "    </tr>\n",
              "  </thead>\n",
              "  <tbody>\n",
              "    <tr>\n",
              "      <th>count</th>\n",
              "      <td>1338.000000</td>\n",
              "      <td>1338.000000</td>\n",
              "      <td>1338.000000</td>\n",
              "      <td>1338.000000</td>\n",
              "    </tr>\n",
              "    <tr>\n",
              "      <th>mean</th>\n",
              "      <td>39.207025</td>\n",
              "      <td>30.663397</td>\n",
              "      <td>1.094918</td>\n",
              "      <td>13270.422265</td>\n",
              "    </tr>\n",
              "    <tr>\n",
              "      <th>std</th>\n",
              "      <td>14.049960</td>\n",
              "      <td>6.098187</td>\n",
              "      <td>1.205493</td>\n",
              "      <td>12110.011237</td>\n",
              "    </tr>\n",
              "    <tr>\n",
              "      <th>min</th>\n",
              "      <td>18.000000</td>\n",
              "      <td>15.960000</td>\n",
              "      <td>0.000000</td>\n",
              "      <td>1121.873900</td>\n",
              "    </tr>\n",
              "    <tr>\n",
              "      <th>25%</th>\n",
              "      <td>27.000000</td>\n",
              "      <td>26.296250</td>\n",
              "      <td>0.000000</td>\n",
              "      <td>4740.287150</td>\n",
              "    </tr>\n",
              "    <tr>\n",
              "      <th>50%</th>\n",
              "      <td>39.000000</td>\n",
              "      <td>30.400000</td>\n",
              "      <td>1.000000</td>\n",
              "      <td>9382.033000</td>\n",
              "    </tr>\n",
              "    <tr>\n",
              "      <th>75%</th>\n",
              "      <td>51.000000</td>\n",
              "      <td>34.693750</td>\n",
              "      <td>2.000000</td>\n",
              "      <td>16639.912515</td>\n",
              "    </tr>\n",
              "    <tr>\n",
              "      <th>max</th>\n",
              "      <td>64.000000</td>\n",
              "      <td>53.130000</td>\n",
              "      <td>5.000000</td>\n",
              "      <td>63770.428010</td>\n",
              "    </tr>\n",
              "  </tbody>\n",
              "</table>\n",
              "</div>\n",
              "      <button class=\"colab-df-convert\" onclick=\"convertToInteractive('df-ccce7042-e472-41ea-bae7-01fccd0f9f22')\"\n",
              "              title=\"Convert this dataframe to an interactive table.\"\n",
              "              style=\"display:none;\">\n",
              "        \n",
              "  <svg xmlns=\"http://www.w3.org/2000/svg\" height=\"24px\"viewBox=\"0 0 24 24\"\n",
              "       width=\"24px\">\n",
              "    <path d=\"M0 0h24v24H0V0z\" fill=\"none\"/>\n",
              "    <path d=\"M18.56 5.44l.94 2.06.94-2.06 2.06-.94-2.06-.94-.94-2.06-.94 2.06-2.06.94zm-11 1L8.5 8.5l.94-2.06 2.06-.94-2.06-.94L8.5 2.5l-.94 2.06-2.06.94zm10 10l.94 2.06.94-2.06 2.06-.94-2.06-.94-.94-2.06-.94 2.06-2.06.94z\"/><path d=\"M17.41 7.96l-1.37-1.37c-.4-.4-.92-.59-1.43-.59-.52 0-1.04.2-1.43.59L10.3 9.45l-7.72 7.72c-.78.78-.78 2.05 0 2.83L4 21.41c.39.39.9.59 1.41.59.51 0 1.02-.2 1.41-.59l7.78-7.78 2.81-2.81c.8-.78.8-2.07 0-2.86zM5.41 20L4 18.59l7.72-7.72 1.47 1.35L5.41 20z\"/>\n",
              "  </svg>\n",
              "      </button>\n",
              "      \n",
              "  <style>\n",
              "    .colab-df-container {\n",
              "      display:flex;\n",
              "      flex-wrap:wrap;\n",
              "      gap: 12px;\n",
              "    }\n",
              "\n",
              "    .colab-df-convert {\n",
              "      background-color: #E8F0FE;\n",
              "      border: none;\n",
              "      border-radius: 50%;\n",
              "      cursor: pointer;\n",
              "      display: none;\n",
              "      fill: #1967D2;\n",
              "      height: 32px;\n",
              "      padding: 0 0 0 0;\n",
              "      width: 32px;\n",
              "    }\n",
              "\n",
              "    .colab-df-convert:hover {\n",
              "      background-color: #E2EBFA;\n",
              "      box-shadow: 0px 1px 2px rgba(60, 64, 67, 0.3), 0px 1px 3px 1px rgba(60, 64, 67, 0.15);\n",
              "      fill: #174EA6;\n",
              "    }\n",
              "\n",
              "    [theme=dark] .colab-df-convert {\n",
              "      background-color: #3B4455;\n",
              "      fill: #D2E3FC;\n",
              "    }\n",
              "\n",
              "    [theme=dark] .colab-df-convert:hover {\n",
              "      background-color: #434B5C;\n",
              "      box-shadow: 0px 1px 3px 1px rgba(0, 0, 0, 0.15);\n",
              "      filter: drop-shadow(0px 1px 2px rgba(0, 0, 0, 0.3));\n",
              "      fill: #FFFFFF;\n",
              "    }\n",
              "  </style>\n",
              "\n",
              "      <script>\n",
              "        const buttonEl =\n",
              "          document.querySelector('#df-ccce7042-e472-41ea-bae7-01fccd0f9f22 button.colab-df-convert');\n",
              "        buttonEl.style.display =\n",
              "          google.colab.kernel.accessAllowed ? 'block' : 'none';\n",
              "\n",
              "        async function convertToInteractive(key) {\n",
              "          const element = document.querySelector('#df-ccce7042-e472-41ea-bae7-01fccd0f9f22');\n",
              "          const dataTable =\n",
              "            await google.colab.kernel.invokeFunction('convertToInteractive',\n",
              "                                                     [key], {});\n",
              "          if (!dataTable) return;\n",
              "\n",
              "          const docLinkHtml = 'Like what you see? Visit the ' +\n",
              "            '<a target=\"_blank\" href=https://colab.research.google.com/notebooks/data_table.ipynb>data table notebook</a>'\n",
              "            + ' to learn more about interactive tables.';\n",
              "          element.innerHTML = '';\n",
              "          dataTable['output_type'] = 'display_data';\n",
              "          await google.colab.output.renderOutput(dataTable, element);\n",
              "          const docLink = document.createElement('div');\n",
              "          docLink.innerHTML = docLinkHtml;\n",
              "          element.appendChild(docLink);\n",
              "        }\n",
              "      </script>\n",
              "    </div>\n",
              "  </div>\n",
              "  "
            ]
          },
          "metadata": {},
          "execution_count": 112
        }
      ]
    },
    {
      "cell_type": "code",
      "source": [
        "# Gender column\n",
        "plt.figure(figsize=(6,6))\n",
        "sns.countplot(x='sex', data=df)\n",
        "plt.title('Sex Distribution')\n",
        "plt.show()"
      ],
      "metadata": {
        "colab": {
          "base_uri": "https://localhost:8080/",
          "height": 410
        },
        "id": "kjTFeM9OyhhK",
        "outputId": "f0064f75-4bd0-419d-e20b-d028e0b00522"
      },
      "execution_count": 113,
      "outputs": [
        {
          "output_type": "display_data",
          "data": {
            "text/plain": [
              "<Figure size 432x432 with 1 Axes>"
            ],
            "image/png": "[encoded data removed]"
          },
          "metadata": {}
        }
      ]
    },
    {
      "cell_type": "code",
      "source": [
        "import plotly.graph_objs as go\n",
        "import plotly.figure_factory as ff\n",
        "import random\n",
        "\n",
        "np.random.seed(1338)\n",
        "age = np.random.uniform(low=0, high=80, size=1000)\n",
        "charge = np.random.normal(loc=3000, scale =1000, size= 1000)\n",
        "bmi = np.random.normal(loc=3000, scale = 1000, size =1000)\n",
        "gender = random.choices([\"female\", \"male\"], k =1000);\n",
        "df1 = pd.DataFrame({\"age\": age, \"charge\": charge, \"sex\": gender, \"bmi\": bmi})\n",
        "\n",
        "female = df[df.sex =='female']\n",
        "male = df[df.sex =='male']\n"
      ],
      "metadata": {
        "id": "xoOU0vEd1d0Q"
      },
      "execution_count": 114,
      "outputs": []
    },
    {
      "cell_type": "code",
      "source": [
        "female.head()"
      ],
      "metadata": {
        "colab": {
          "base_uri": "https://localhost:8080/",
          "height": 206
        },
        "id": "xV-S7Yfi4Q5N",
        "outputId": "b3c880ee-36d0-4c17-91ab-e4e4fdefab0d"
      },
      "execution_count": 115,
      "outputs": [
        {
          "output_type": "execute_result",
          "data": {
            "text/plain": [
              "   age     sex    bmi  children smoker     region      charges\n",
              "0   19  female  27.90         0    yes  southwest  16884.92400\n",
              "5   31  female  25.74         0     no  southeast   3756.62160\n",
              "6   46  female  33.44         1     no  southeast   8240.58960\n",
              "7   37  female  27.74         3     no  northwest   7281.50560\n",
              "9   60  female  25.84         0     no  northwest  28923.13692"
            ],
            "text/html": [
              "\n",
              "  <div id=\"df-e6eeb517-da51-4321-8ce3-d64d58932055\">\n",
              "    <div class=\"colab-df-container\">\n",
              "      <div>\n",
              "<style scoped>\n",
              "    .dataframe tbody tr th:only-of-type {\n",
              "        vertical-align: middle;\n",
              "    }\n",
              "\n",
              "    .dataframe tbody tr th {\n",
              "        vertical-align: top;\n",
              "    }\n",
              "\n",
              "    .dataframe thead th {\n",
              "        text-align: right;\n",
              "    }\n",
              "</style>\n",
              "<table border=\"1\" class=\"dataframe\">\n",
              "  <thead>\n",
              "    <tr style=\"text-align: right;\">\n",
              "      <th></th>\n",
              "      <th>age</th>\n",
              "      <th>sex</th>\n",
              "      <th>bmi</th>\n",
              "      <th>children</th>\n",
              "      <th>smoker</th>\n",
              "      <th>region</th>\n",
              "      <th>charges</th>\n",
              "    </tr>\n",
              "  </thead>\n",
              "  <tbody>\n",
              "    <tr>\n",
              "      <th>0</th>\n",
              "      <td>19</td>\n",
              "      <td>female</td>\n",
              "      <td>27.90</td>\n",
              "      <td>0</td>\n",
              "      <td>yes</td>\n",
              "      <td>southwest</td>\n",
              "      <td>16884.92400</td>\n",
              "    </tr>\n",
              "    <tr>\n",
              "      <th>5</th>\n",
              "      <td>31</td>\n",
              "      <td>female</td>\n",
              "      <td>25.74</td>\n",
              "      <td>0</td>\n",
              "      <td>no</td>\n",
              "      <td>southeast</td>\n",
              "      <td>3756.62160</td>\n",
              "    </tr>\n",
              "    <tr>\n",
              "      <th>6</th>\n",
              "      <td>46</td>\n",
              "      <td>female</td>\n",
              "      <td>33.44</td>\n",
              "      <td>1</td>\n",
              "      <td>no</td>\n",
              "      <td>southeast</td>\n",
              "      <td>8240.58960</td>\n",
              "    </tr>\n",
              "    <tr>\n",
              "      <th>7</th>\n",
              "      <td>37</td>\n",
              "      <td>female</td>\n",
              "      <td>27.74</td>\n",
              "      <td>3</td>\n",
              "      <td>no</td>\n",
              "      <td>northwest</td>\n",
              "      <td>7281.50560</td>\n",
              "    </tr>\n",
              "    <tr>\n",
              "      <th>9</th>\n",
              "      <td>60</td>\n",
              "      <td>female</td>\n",
              "      <td>25.84</td>\n",
              "      <td>0</td>\n",
              "      <td>no</td>\n",
              "      <td>northwest</td>\n",
              "      <td>28923.13692</td>\n",
              "    </tr>\n",
              "  </tbody>\n",
              "</table>\n",
              "</div>\n",
              "      <button class=\"colab-df-convert\" onclick=\"convertToInteractive('df-e6eeb517-da51-4321-8ce3-d64d58932055')\"\n",
              "              title=\"Convert this dataframe to an interactive table.\"\n",
              "              style=\"display:none;\">\n",
              "        \n",
              "  <svg xmlns=\"http://www.w3.org/2000/svg\" height=\"24px\"viewBox=\"0 0 24 24\"\n",
              "       width=\"24px\">\n",
              "    <path d=\"M0 0h24v24H0V0z\" fill=\"none\"/>\n",
              "    <path d=\"M18.56 5.44l.94 2.06.94-2.06 2.06-.94-2.06-.94-.94-2.06-.94 2.06-2.06.94zm-11 1L8.5 8.5l.94-2.06 2.06-.94-2.06-.94L8.5 2.5l-.94 2.06-2.06.94zm10 10l.94 2.06.94-2.06 2.06-.94-2.06-.94-.94-2.06-.94 2.06-2.06.94z\"/><path d=\"M17.41 7.96l-1.37-1.37c-.4-.4-.92-.59-1.43-.59-.52 0-1.04.2-1.43.59L10.3 9.45l-7.72 7.72c-.78.78-.78 2.05 0 2.83L4 21.41c.39.39.9.59 1.41.59.51 0 1.02-.2 1.41-.59l7.78-7.78 2.81-2.81c.8-.78.8-2.07 0-2.86zM5.41 20L4 18.59l7.72-7.72 1.47 1.35L5.41 20z\"/>\n",
              "  </svg>\n",
              "      </button>\n",
              "      \n",
              "  <style>\n",
              "    .colab-df-container {\n",
              "      display:flex;\n",
              "      flex-wrap:wrap;\n",
              "      gap: 12px;\n",
              "    }\n",
              "\n",
              "    .colab-df-convert {\n",
              "      background-color: #E8F0FE;\n",
              "      border: none;\n",
              "      border-radius: 50%;\n",
              "      cursor: pointer;\n",
              "      display: none;\n",
              "      fill: #1967D2;\n",
              "      height: 32px;\n",
              "      padding: 0 0 0 0;\n",
              "      width: 32px;\n",
              "    }\n",
              "\n",
              "    .colab-df-convert:hover {\n",
              "      background-color: #E2EBFA;\n",
              "      box-shadow: 0px 1px 2px rgba(60, 64, 67, 0.3), 0px 1px 3px 1px rgba(60, 64, 67, 0.15);\n",
              "      fill: #174EA6;\n",
              "    }\n",
              "\n",
              "    [theme=dark] .colab-df-convert {\n",
              "      background-color: #3B4455;\n",
              "      fill: #D2E3FC;\n",
              "    }\n",
              "\n",
              "    [theme=dark] .colab-df-convert:hover {\n",
              "      background-color: #434B5C;\n",
              "      box-shadow: 0px 1px 3px 1px rgba(0, 0, 0, 0.15);\n",
              "      filter: drop-shadow(0px 1px 2px rgba(0, 0, 0, 0.3));\n",
              "      fill: #FFFFFF;\n",
              "    }\n",
              "  </style>\n",
              "\n",
              "      <script>\n",
              "        const buttonEl =\n",
              "          document.querySelector('#df-e6eeb517-da51-4321-8ce3-d64d58932055 button.colab-df-convert');\n",
              "        buttonEl.style.display =\n",
              "          google.colab.kernel.accessAllowed ? 'block' : 'none';\n",
              "\n",
              "        async function convertToInteractive(key) {\n",
              "          const element = document.querySelector('#df-e6eeb517-da51-4321-8ce3-d64d58932055');\n",
              "          const dataTable =\n",
              "            await google.colab.kernel.invokeFunction('convertToInteractive',\n",
              "                                                     [key], {});\n",
              "          if (!dataTable) return;\n",
              "\n",
              "          const docLinkHtml = 'Like what you see? Visit the ' +\n",
              "            '<a target=\"_blank\" href=https://colab.research.google.com/notebooks/data_table.ipynb>data table notebook</a>'\n",
              "            + ' to learn more about interactive tables.';\n",
              "          element.innerHTML = '';\n",
              "          dataTable['output_type'] = 'display_data';\n",
              "          await google.colab.output.renderOutput(dataTable, element);\n",
              "          const docLink = document.createElement('div');\n",
              "          docLink.innerHTML = docLinkHtml;\n",
              "          element.appendChild(docLink);\n",
              "        }\n",
              "      </script>\n",
              "    </div>\n",
              "  </div>\n",
              "  "
            ]
          },
          "metadata": {},
          "execution_count": 115
        }
      ]
    },
    {
      "cell_type": "code",
      "source": [
        "\n",
        "fig = ff.create_distplot(hist_data =[df1.charge.values.tolist()],\n",
        "                        group_labels = [\"Insurance charges\"],\n",
        "                        bin_size=[200],colors= [' deeppink'])\n",
        "fig[\"layout\"].update(title=\"Distribution of Insurance charges\")\n",
        "fig.show()"
      ],
      "metadata": {
        "colab": {
          "base_uri": "https://localhost:8080/",
          "height": 542
        },
        "id": "0edLE0Gk5k0J",
        "outputId": "cdbce25d-5a7f-4f96-e76b-36bef80fd94d"
      },
      "execution_count": 116,
      "outputs": [
        {
          "output_type": "display_data",
          "data": {
            "text/html": [
              "<html>\n",
              "<head><meta charset=\"utf-8\" /></head>\n",
              "<body>\n",
              "    <div>            <script src=\"https://cdnjs.cloudflare.com/ajax/libs/mathjax/2.7.5/MathJax.js?config=TeX-AMS-MML_SVG\"></script><script type=\"text/javascript\">if (window.MathJax) {MathJax.Hub.Config({SVG: {font: \"STIX-Web\"}});}</script>                <script type=\"text/javascript\">window.PlotlyConfig = {MathJaxConfig: 'local'};</script>\n",
              "        <script src=\"https://cdn.plot.ly/plotly-2.8.3.min.js\"></script>                <div id=\"786f65e0-8f94-4f36-9b69-5f7506a988d3\" class=\"plotly-graph-div\" style=\"height:525px; width:100%;\"></div>            <script type=\"text/javascript\">                                    window.PLOTLYENV=window.PLOTLYENV || {};                                    if (document.getElementById(\"786f65e0-8f94-4f36-9b69-5f7506a988d3\")) {                    Plotly.newPlot(                        \"786f65e0-8f94-4f36-9b69-5f7506a988d3\",                        [{\"autobinx\":false,\"histnorm\":\"probability density\",\"legendgroup\":\"Insurance charges\",\"marker\":{\"color\":\" deeppink\"},\"name\":\"Insurance charges\",\"opacity\":0.7,\"x\":[3781.6326764768887,1716.3833337147196,2659.3500911370325,2492.4520544078937,2326.808627928856,3542.931568367179,3991.5140383492076,3577.4366849882404,1363.7594521231333,2182.6008087493187,1157.341318255058,820.5425577234068,3693.427447885162,3755.170061910482,2918.688952407856,3607.4553101443526,4519.7124694538,4147.85443678275,2705.794901469946,3623.04273018382,4639.951314085321,3533.3238716430687,2480.807809042715,2213.288508409686,3540.4885726067137,2899.2284711034845,3181.2840480385435,4358.903659659757,2302.2091709682068,2099.1316883574946,1673.8160008436105,2611.8223223651275,3022.3669152555717,2357.1507230584025,2295.9452673016303,1462.0659089972623,2690.448754424535,3544.0887704309143,2657.6565267305887,4736.834493399628,1454.8249746975441,4019.2425367702767,2730.4844849955657,5188.639504679306,3665.334801836588,2407.488746596939,3775.7517877875234,2495.9389310655874,2721.7353667178363,1043.7722139929356,2427.3534148997055,1857.6991249694156,4407.892284183765,2315.147349112166,3661.9563817710114,4871.108564049601,4628.587673217577,3427.8940088454124,1745.9569094123376,3152.5218214653514,3682.9016168458447,3457.715868742881,4114.012010227964,2824.3832577533954,3096.809932337753,2735.5971754973125,1950.1756470573573,3354.702939230063,2297.6318580959596,3668.6895777427108,3794.5250758531242,2781.9043744747246,3373.8699571441102,3363.6384113237505,2727.210326151097,3406.2384825603945,3185.7529005896986,2760.5563667833344,3558.1183840126787,1956.855134776139,3984.4548853841657,2052.122599478165,2621.782505751321,1630.6315373136124,3397.0571468450657,1550.067934958354,3193.244633812224,3822.1453731502797,4023.7413736580643,936.8279826504581,4405.352356575564,2177.859961601818,2893.825172646612,3608.9996940811475,2238.377057602621,4196.62465778823,3258.2888791640767,4576.953664226927,2864.9799618998923,2758.990611322107,3874.5523091322148,4490.517515840457,2692.9850898600616,2674.321343968203,2438.053493652741,2261.144832868637,3207.5675489473765,2319.9506221684724,3211.6541536459617,1368.7680294761738,3728.1111731526616,3745.0489665704954,2411.895493857744,3290.284398321363,2263.2707990494323,2675.860162210292,3326.8346471042346,3417.0227440256126,2926.208870661235,2258.715517878607,2330.3522267896237,4031.957431271202,2318.9667289773333,2823.633808744281,4938.519612035775,4105.7061632700215,3017.1617352261273,3733.8772785759697,2055.2303461845013,1984.302025386452,2811.865530339169,3966.400579538238,1378.0090608666976,3887.6618891124817,2776.796212623513,2802.0332648443464,2983.283452019877,3276.1936776653083,1928.505300213061,2521.544582001963,268.1100648876072,1923.2061843321662,3058.837823319685,3277.150652071042,1323.1799463681036,2656.410771185275,4148.722774410689,2423.79147054077,3001.376488204752,3084.149440143511,2047.8748526382328,3634.033318311118,2611.852446627214,3180.7219046661735,2666.949958716264,3420.6458977856946,1964.908953877169,3019.661733606017,2726.6985431508765,3079.196477654537,1419.7795320754562,1177.8971111129822,3163.7364182756496,2575.489282160263,5064.887338507711,4311.60175140554,3566.1762197392977,3189.31175389298,2904.1999351822833,3096.687839401748,4122.324346597954,2845.7944676237266,3557.4490175235883,3892.2053401060334,3581.4623461348865,1844.5129845111953,4008.52706988403,3367.837766197409,3729.3281878223884,3615.983592692663,2852.1482016655355,2953.657035736974,3994.735339071024,2526.803803698729,1566.8156713971719,3261.0185044288864,2732.443660781879,4770.4919094539355,1555.996609023052,3296.7754456830926,4620.079795335847,2272.252481120744,1552.6512436352525,3067.779040911848,2308.0333379478316,3445.997811943035,2223.887498178955,4160.898490841736,3734.2433699207522,3800.522433671158,3947.409463144807,3785.772938847199,3650.7001211653874,4400.367271344924,3032.606788889351,1141.6022494454267,3283.2285682139,3015.5373094881406,3102.2971030245862,2038.754967273833,3882.025949685231,2689.890427455193,4245.830037246191,4088.842903796663,2306.167396700914,3301.248955058587,4359.683034878776,3140.435851556562,2753.6830964595083,3359.60619744391,3220.276699877971,3020.5766392749124,1688.0464677981736,1289.2134584766557,3495.232265517642,3498.7771744128913,3920.3247804604352,4311.673719574648,2701.677440667797,3356.1772561580187,3672.8056482484208,3344.891224859278,3880.627165329478,3937.591047652397,2284.753365491787,3926.423523970322,2061.5732919066713,1961.879315184218,5049.309529815977,2804.4649570236393,3967.6082238477193,3338.027047161451,2609.6402589869076,2830.9139278695675,4140.61787846674,2870.5691789754146,2594.2195162683884,1871.515185507155,4007.174189451169,2821.2278782982457,3683.753838641461,4873.531049616096,4347.145610975429,4092.9005594031714,3003.111283445646,1261.0335748560865,2638.563178074447,3927.538311885748,2515.9549652377,3264.594083660254,3943.777605696451,4776.275769743688,1890.9385352887227,2949.405577194734,1975.7417808181756,4292.217942446825,2277.1026042837525,2555.353164412779,3298.9955556057703,2220.6975578365114,1964.7317003959702,4121.402492044497,2101.7895189387123,2877.694450106433,1769.2272329009909,2141.7064684550674,1701.9508580997453,2571.4625568538368,3202.475939640991,1821.2713215054614,4017.518267896516,2472.6008289155384,1546.658755892011,2041.7505610100766,1314.4323633353467,2883.642484402836,4008.578023732059,3915.3991287855583,3566.771140653674,3031.9310853752727,3215.1094773217983,3097.5241906717183,723.5194382622894,1501.9695518337664,3121.4077723162986,3495.7091974004406,3993.9270435164008,6114.027004387747,3133.678876105738,1352.9095899707802,4184.698225388449,2671.0801473514225,4148.879208707948,3272.9102527912178,2881.2486959761063,3836.108103443282,4369.390921497934,2361.7299339836272,3158.1260862390295,1612.6021584019784,2770.208719920492,3133.781026506069,4280.068106898594,3231.6079250578437,2546.4732921757677,780.5356641412609,3338.8105052105575,1754.3275933650593,3071.6920495955624,4100.081681726364,4026.039136007141,2158.4316815994234,4053.6316166034917,3166.1644375885407,3086.572783904286,4573.619047301051,3857.442145106046,4554.399286785204,510.78466324125884,2166.243659746182,1602.5326647549032,1018.3104696097521,2123.8606830273816,3324.393423237027,3977.13624275463,3560.5209519145683,2491.1494411612853,4699.929826558151,2402.4388156378755,2612.949698749085,3341.767265183716,2362.191030304506,3303.942216595163,4577.52511752184,4278.681711619522,3053.24015095129,2643.886624203824,4974.841874159713,2566.346455843201,1221.666935326199,2233.832515988768,2833.514710688914,4034.1348969453666,3980.633382535897,4254.308648521163,3036.763964502959,2677.9971473578253,1235.08359955669,3237.3458445442798,3840.251002102849,1569.950065385345,3897.173780808029,2953.6844426285543,2685.5535367356897,3168.266037225899,2560.6305819530594,3940.7471547675227,2563.5247955345426,3115.9063843496424,1487.0373247431296,3147.9953099683316,3568.517015152331,2091.7813565275537,2968.490931598774,3654.8270386251656,2993.754585016296,1380.2722483728955,2534.693812506654,2654.7045655252,2830.627931022385,4346.898192921926,2631.7398196521053,1872.913801897079,4092.0708165707333,2493.2553822834216,4203.912061172936,2641.2485949669863,3721.552287970535,3126.7825236077415,4080.9077705388163,1775.6813958384628,2282.249540948826,3622.1689699809067,2766.979352724414,953.1996678129615,4303.033848901307,3593.9124565980733,2597.9517677322847,1241.5640220792445,4086.170306355823,3307.3186589969514,3134.8730603569375,1308.4797374057584,2612.1768795110834,3566.080649281872,4231.953313471325,4877.80197908845,1133.977792019466,3822.3721975229328,2483.36631227314,3433.582765073667,2136.8218140818553,3697.9086421582138,427.21999156208585,4288.473554950988,2941.0875405022693,2603.0294284962274,2096.980943027579,2683.4098247599,2874.5217713842612,3138.268228326516,1887.2678720240478,4244.3175023220665,2607.412485804119,2100.5930904500406,4413.51868904493,496.4995609783541,4066.446311119518,5338.180261276297,3875.2765513375534,3366.4906444824073,1749.0436536220193,3643.0050182100963,1491.9887601497185,3449.9420585821485,2025.632313893457,2083.7232330450443,3101.98932421497,3951.109391231029,2641.4808792316953,3877.0383317324236,2189.5438876395924,2889.1355501070084,2263.548684591002,2832.9163119677,3290.442583073621,3379.0654927595738,2258.6990383235834,2444.962705468149,3486.1776253856287,3115.134590544206,4338.751996134939,4556.998822977812,3417.207286006119,3267.382450621726,2557.941362314763,2846.848843994053,1142.306800333451,1979.6275053232998,5956.454217635857,3876.1742822204405,3104.3953274612854,2960.43566597083,4099.433200962985,3043.0069566507727,2163.67413552154,2373.217679102798,2715.9514684875016,2051.048658107639,2192.459093835326,4398.210668511427,2361.6014022083077,2651.5225479089404,1448.254169480411,4112.356098714311,3216.5610476780507,3511.460391728595,2063.1222307560583,3014.379349056927,1905.5905247418727,2215.0243309092343,3458.3882671162573,4981.5410144416055,2711.7436986941893,4563.172124339354,4154.240980811396,2242.726192299308,3113.204167590797,3468.843937111634,1481.2829171618705,3063.4172951237692,3214.0584682607714,508.0754515286226,1885.9751830950438,4399.365381884699,3835.964025417045,4203.4228169876715,2783.100921431952,2138.4081456006083,3696.045894148727,1617.8943063621937,3173.9245481182543,2760.8151669317735,2478.1432635345977,2789.967608140496,4757.416042617623,4259.947271035941,2031.8133689537344,3889.8230614308854,3966.705796758978,2683.6967735814287,3034.8212360261386,3978.440260948117,4077.4821166819756,4031.1376299533554,3070.9677107115226,866.6147923312387,1616.7098096403854,2487.7570339206763,5531.971808759246,4198.091982226108,2554.79162223399,5125.698941749271,3734.078146782318,4106.02071276087,3409.6267069773266,3424.777497161801,1925.4393670497957,3306.688418270702,3150.4742502394356,2531.464667619325,2908.551584157396,3153.4914083692743,3497.793277132482,544.0835891610732,2895.0034494988176,4035.1183377053703,4688.610862808886,2543.500215925322,2674.1703559891284,3512.4361555524138,4720.355297855083,1712.6157028413058,2699.705715446417,3378.111080872725,4407.698530522928,4767.92974832418,1547.624635080096,705.1877525163072,2232.777654253326,2535.127383620218,2936.6970117659553,2360.2754557417593,5265.5800200318545,2982.566373514247,3412.455352554788,829.0090400152053,2537.434574491152,4074.4530651759956,1874.4855066182022,2717.6441547674726,3988.964554381932,1449.1674201565022,3080.303326370537,3111.2565567639513,1502.2263890743798,2454.956320197103,2139.792733455916,1652.3801622930753,2793.6756537277847,527.4051174253127,2844.069628069084,1397.9899188072905,2402.7379410976537,3556.5985861368727,2885.0563746385633,1820.5803809837814,5025.431118751605,4446.673987713003,2287.212386480314,3020.6582272181154,2743.327368905999,2434.2264969643693,2784.548641985199,3725.4119279023457,2544.039480960837,4333.903849235565,819.6562033688356,2302.8334300580145,3130.282131558775,2059.5170646281167,1544.033428913553,4137.976538736893,2027.5596664016762,2300.1455030860607,2661.3541128832876,3415.957879355142,3998.3500178280765,4185.730728456643,4434.736398556542,3426.860032621628,3595.156859530786,3715.8604122115457,2524.059367093055,2842.640111395803,2372.812137653599,3391.23991728866,3577.0800049631625,3909.9439585987398,3308.983841468217,2725.5307918648687,2205.8716444058045,991.8960837785799,4780.9862589901895,3221.6359135503503,1270.0106935736594,3309.5036586993915,2712.9020804412903,2876.817413432442,3730.619864756463,3049.4938567248123,3619.8038976345083,2009.3857437430233,4249.3064656705665,3022.551660500815,3571.0072123240025,1943.8312101015354,689.9731715877315,3647.1630400922986,4179.1124713654335,5162.099213095074,2546.7140519851937,1939.4349885783663,3010.6604124102546,2562.9757476518066,3044.7818090657884,1685.1915902279982,3752.184202830615,2624.4779429427363,2756.516360835943,4142.602244901399,3743.8329143054234,5114.033918067729,3260.5231720133925,3519.743041309007,3100.9666958657876,2137.2138439424325,4336.154148837394,939.3655968508633,3207.295585449492,4139.689058405953,3734.631042421964,2750.2357185050178,3425.342873270649,3388.5867549984923,2381.0357380501127,4610.29585260481,2016.5212966215206,1440.6846769733215,4290.822201753161,3021.5163534108165,4039.736742449535,4644.592101202541,3301.136611697024,4020.216097316273,4470.571334102314,3609.6991482717117,5793.410355506055,3224.0539996763787,2303.546310952497,2006.4243838100829,2984.248233065193,2232.9304605642187,4148.269502585658,2641.0861762724876,3805.4005861461033,4662.832882447968,2152.067113638127,3651.556005580281,1838.480746667522,2997.420652394995,3215.162124784728,4414.967896259508,2324.717678699398,2167.9459948446965,1773.2877232424885,2704.097459635315,3316.4411037398813,3336.945026969799,2496.9448969754144,2362.0763530996924,1649.6348769363942,3762.833891255077,2200.9543902640385,3444.097130100285,3607.7805372041385,1724.5330826888307,4093.7970568305373,4369.757027886988,2726.7385615214566,3590.4469274645535,3414.468156327577,4020.5906496747393,4604.137152939972,2937.1057614982415,4662.304701230833,3195.1066607496005,1937.128576627897,1844.5196188888801,3625.967790251398,3142.407566120335,2169.715091114107,2400.960774901361,2595.9219199463228,1521.1552741152059,2130.8247624843734,3098.323277873228,3194.7759038345016,3478.4387268145792,2964.8689077145887,3664.73340063231,2275.15855038092,1162.7152130256807,985.0240101603979,2153.884061259398,1984.5446044876844,3406.2193980885586,2848.759168664795,4892.243850558365,695.6831368320491,1464.2212960724007,1921.6007231665465,3069.215354492434,2242.5678100271903,3916.540365949267,3636.0418651814157,2786.0212452480905,2780.3422459200124,3760.449105215712,4474.528887863666,2426.603520633985,2711.5625060232255,3960.7030719378567,2616.261001773691,4139.27188131195,3575.170307280362,2917.9363705304486,3841.0936566137834,5214.806765779216,1755.7074673780976,3767.2210183660864,1557.3674193773454,4623.369234049891,5197.5420774067525,3720.657672772297,3494.1503725906405,2903.344548206518,2850.1898073952393,3352.4439336918176,4151.456244696808,3850.4274331957167,1765.2138952198484,4877.594319273161,3994.179322407863,1084.2385942199817,4872.713561245098,3448.5082701766896,3331.555221894383,2122.603496607361,1136.4582993584443,2298.42240371757,3337.650111774225,1398.6318696515355,1544.5777582472103,1160.572122153543,2909.879659848227,4419.8101745174845,3483.378945856156,2687.665523676277,3070.5352864951906,3038.3709954147307,4294.669999221092,3713.375679898751,3010.526004483286,1912.2868214933114,4330.993228979989,2149.9262600798056,1622.4171169427434,2850.040091274264,3946.973003745935,2704.446218904975,1726.9634653254636,1573.8975427237144,3937.0435782393083,4230.678216259288,5802.228637999693,3291.8526498424753,2659.510849463975,2208.042310576289,4140.107173016988,2053.6377185584265,4145.257948938331,2682.606338227437,3933.4316738531375,4409.310717751205,4298.668328390011,3431.98230906786,2307.9248813843724,3381.5571461862437,2464.5278999558914,1144.6001164656832,2193.6550836173938,3304.0889202982116,3430.279769387636,1470.2266360189178,5457.573371777582,3093.8402378150995,1739.8519448006562,3793.438499932646,3265.4384301535097,2860.7336759629266,4060.433593580261,4171.191303055384,2454.314947393337,3569.612085730099,3317.176736974808,4210.204365473195,2534.396834472758,3643.1161122265453,2863.8792244167053,2199.5584044223006,2683.2746069529835,4787.592708927624,4108.222127495011,4453.399815813091,4531.153000234267,2525.2134887401207,3120.57360808123,4493.755447040834,2882.698976028225,2269.0163461707793,1903.4029231482195,1592.9111924180268,2892.3405486982747,3590.3296790518743,4642.207737520695,5001.732967763199,3434.60424690963,2911.5843224145037,2129.29968741271,3288.1753312005912,2941.0080659239256,3301.710322365699,1515.3002297154453,3449.5572431946707,3868.141554591655,4896.594996307743,3384.1391920375186,2247.389544801526,2250.1311912124006,1446.1251813006706,3598.8927540135273,2033.234625252446,4177.372700245283,3722.380486821422,3383.7037401472476,2857.916393446443,3128.977909794873,1768.3027811033235,3068.187043063269,3511.0065897935438,3110.135198708581,2596.2921021379393,2578.2903812369063,1667.1442457037806,3238.054597873374,3314.382057359471,2212.055045515002,2180.779776089247,2108.6469037222732,3230.0321176992757,3871.1945347751653,1205.2665489395395,3090.9452307405118,2637.150075211673,3371.8197180547595,2980.264934559391,727.6058411448917,4186.052585353025,4761.525205256223,2321.6009585323154,4511.251213799069,2076.1366697156864,3282.677929946605,3070.006836585546,3487.131221610089,3504.2996451524455,3406.861771363878,2916.3568522538685,3618.014812502188,2673.107712890918,2767.1347734121696,3666.6317657109657,1791.1197341060508,2926.9906685464534,3628.358725134024,3681.72052924097,3935.755881184071,3108.1127592949138,2904.1655477421714,2248.396940354205,3571.4883205997576,3624.546589600024,4054.6590982496386,1189.5801475891665,2212.274243930257,3262.941431882824,550.988486135469,1768.9857548352365,2217.5385658996,2211.4591446234417,1675.420143519033,4286.211847893642,3368.775570336534,3043.130313187754,2422.370241129042,2702.4742965949554,4283.186200563055,3714.9333263953467,3997.0846637885948,1824.321757876964,3180.8525515275214,2789.045436473105,2405.6072082575306,3905.4602789302307,1815.114372560086,3791.4872720337435,1521.004573038591,3144.3043269063137,3731.7862187619803,2634.597441249349,2988.9286851171646,1162.8541789768872,4235.498052685198,3800.4985257314274,1811.9599722822384,1659.2061047489246,3694.214437482112,3336.512791762013,3923.2346091133895,3697.6548202972,2551.11915149085,2649.0017012872045,3010.787823597021,2901.8431995520236,4258.409223111514,3101.3345632257965,3506.0895674534927,2877.0814281459543,2829.841921054293,2717.4997720842553,2785.088137860891,3360.3009076950116,3620.2314419161767,4969.681745466094,3503.5806829685994,2984.958520126999,2981.295244966871,2174.5848909209344,2777.9382824284094,2969.780720993745,3286.974628188485,4073.145610073684,3456.466816880243,4284.295301300199,3777.9153572439454,3060.903391783576,2377.4590170139304,3301.912773159452,2820.0534076824283,3383.156127165993,3406.564795792958,2066.587904512368,389.3127781928074,2785.034032311571,2753.496004945558,3184.3195789360207,3397.1440856465642,1702.4365371293766,4706.149709024157,1537.796248875176,3946.968461996252,2960.3648149591286,3995.6409315773685,2917.618604401629,3151.72524220562,3160.0767591521794,3557.3512230867786,1598.9643967943525,2848.497181822052],\"xaxis\":\"x\",\"xbins\":{\"end\":6114.027004387747,\"size\":200,\"start\":268.1100648876072},\"yaxis\":\"y\",\"type\":\"histogram\"},{\"legendgroup\":\"Insurance charges\",\"marker\":{\"color\":\" deeppink\"},\"mode\":\"lines\",\"name\":\"Insurance charges\",\"showlegend\":false,\"x\":[268.1100648876072,279.8018987666075,291.4937326456078,303.1855665246081,314.87740040360836,326.56923428260865,338.26106816160893,349.95290204060916,361.64473591960945,373.33656979860973,385.02840367761,396.7202375566103,408.4120714356106,420.10390531461087,431.79573919361115,443.48757307261144,455.17940695161167,466.871240830612,478.56307470961224,490.2549085886126,501.9467424676128,513.638576346613,525.3304102256134,537.0222441046137,548.714077983614,560.4059118626142,572.0977457416145,583.7895796206149,595.4814134996151,607.1732473786153,618.8650812576157,630.5569151366159,642.2487490156161,653.9405828946165,665.6324167736168,677.324250652617,689.0160845316173,700.7079184106176,712.3997522896179,724.0915861686182,735.7834200476184,747.4752539266187,759.167087805619,770.8589216846192,782.5507555636195,794.2425894426198,805.9344233216201,817.6262572006203,829.3180910796207,841.0099249586209,852.7017588376211,864.3935927166215,876.0854265956217,887.777260474622,899.4690943536224,911.1609282326227,922.852762111623,934.5445959906232,946.2364298696235,957.9282637486237,969.6200976276241,981.3119315066243,993.0037653856245,1004.6955992646249,1016.3874331436251,1028.0792670226256,1039.7711009016257,1051.4629347806258,1063.1547686596264,1074.8466025386265,1086.5384364176268,1098.2302702966272,1109.9221041756273,1121.6139380546276,1133.305771933628,1144.9976058126283,1156.6894396916286,1168.3812735706288,1180.073107449629,1191.7649413286294,1203.4567752076296,1215.14860908663,1226.8404429656302,1238.5322768446304,1250.2241107236307,1261.915944602631,1273.6077784816312,1285.2996123606317,1296.9914462396318,1308.6832801186322,1320.3751139976323,1332.0669478766326,1343.758781755633,1355.4506156346333,1367.1424495136334,1378.8342833926338,1390.5261172716341,1402.2179511506342,1413.9097850296346,1425.601618908635,1437.293452787635,1448.9852866666354,1460.6771205456357,1472.368954424636,1484.0607883036362,1495.7526221826365,1507.4444560616369,1519.1362899406372,1530.8281238196375,1542.5199576986379,1554.2117915776382,1565.9036254566383,1577.5954593356387,1589.287293214639,1600.9791270936391,1612.6709609726395,1624.3627948516398,1636.05462873064,1647.7464626096403,1659.4382964886406,1671.130130367641,1682.821964246641,1694.5137981256414,1706.2056320046418,1717.8974658836419,1729.5892997626422,1741.2811336416426,1752.9729675206427,1764.664801399643,1776.3566352786434,1788.0484691576437,1799.7403030366438,1811.4321369156442,1823.1239707946445,1834.8158046736446,1846.507638552645,1858.1994724316453,1869.8913063106456,1881.5831401896457,1893.274974068646,1904.9668079476464,1916.6586418266465,1928.3504757056469,1940.0423095846472,1951.7341434636473,1963.4259773426477,1975.117811221648,1986.8096451006484,1998.5014789796485,2010.1933128586488,2021.8851467376494,2033.5769806166495,2045.2688144956498,2056.96064837465,2068.6524822536503,2080.3443161326504,2092.036150011651,2103.7279838906516,2115.4198177696517,2127.111651648652,2138.803485527652,2150.495319406652,2162.1871532856526,2173.878987164653,2185.5708210436533,2197.2626549226534,2208.9544888016535,2220.646322680654,2232.338156559654,2244.0299904386547,2255.721824317655,2267.413658196655,2279.105492075655,2290.7973259546557,2302.4891598336562,2314.1809937126563,2325.8728275916565,2337.5646614706566,2349.256495349657,2360.9483292286573,2372.6401631076574,2384.331996986658,2396.023830865658,2407.7156647446586,2419.4074986236587,2431.0993325026593,2442.7911663816594,2454.4830002606595,2466.1748341396597,2477.86666801866,2489.5585018976603,2501.250335776661,2512.942169655661,2524.634003534661,2536.3258374136612,2548.017671292662,2559.709505171662,2571.4013390506625,2583.0931729296626,2594.785006808663,2606.476840687663,2618.1686745666634,2629.8605084456635,2641.552342324664,2653.244176203664,2664.936010082665,2676.627843961665,2688.319677840665,2700.011511719665,2711.7033455986657,2723.395179477666,2735.0870133566664,2746.7788472356665,2758.470681114667,2770.162514993667,2781.8543488726673,2793.546182751668,2805.238016630668,2816.9298505096685,2828.6216843886687,2840.313518267669,2852.005352146669,2863.6971860256695,2875.3890199046696,2887.08085378367,2898.7726876626703,2910.464521541671,2922.1563554206705,2933.848189299671,2945.540023178671,2957.2318570576717,2968.923690936672,2980.6155248156724,2992.3073586946725,3003.9991925736726,3015.6910264526728,3027.3828603316733,3039.0746942106734,3050.766528089674,3062.458361968674,3074.1501958476747,3085.8420297266744,3097.533863605675,3109.225697484675,3120.9175313636756,3132.6093652426757,3144.3011991216763,3155.9930330006764,3167.6848668796765,3179.3767007586766,3191.068534637677,3202.7603685166773,3214.452202395678,3226.144036274678,3237.835870153678,3249.5277040326782,3261.219537911679,3272.9113717906794,3284.6032056696795,3296.29503954868,3307.98687342768,3319.6787073066803,3331.3705411856804,3343.062375064681,3354.754208943681,3366.4460428226816,3378.1378767016818,3389.8297105806823,3401.521544459682,3413.2133783386826,3424.9052122176827,3436.5970460966832,3448.2888799756834,3459.980713854684,3471.672547733684,3483.364381612684,3495.0562154916843,3506.748049370685,3518.439883249685,3530.1317171286855,3541.8235510076856,3553.5153848866858,3565.207218765686,3576.8990526446864,3588.5908865236865,3600.282720402687,3611.9745542816872,3623.666388160688,3635.3582220396875,3647.050055918688,3658.741889797688,3670.4337236766887,3682.125557555689,3693.8173914346894,3705.5092253136895,3717.2010591926896,3728.8928930716897,3740.5847269506903,3752.2765608296904,3763.968394708691,3775.6602285876916,3787.3520624666917,3799.043896345692,3810.735730224692,3822.4275641036925,3834.1193979826926,3845.811231861693,3857.5030657406933,3869.194899619694,3880.8867334986935,3892.578567377694,3904.270401256694,3915.9622351356948,3927.654069014695,3939.3459028936954,3951.037736772695,3962.7295706516957,3974.421404530696,3986.1132384096964,3997.8050722886965,4009.496906167697,4021.188740046697,4032.8805739256973,4044.5724078046974,4056.264241683698,4067.956075562698,4079.6479094416986,4091.3397433206987,4103.031577199699,4114.723411078699,4126.4152449576995,4138.1070788367,4149.7989127157,4161.4907465947,4173.182580473701,4184.874414352701,4196.566248231701,4208.258082110701,4219.949915989702,4231.641749868702,4243.3335837477025,4255.025417626703,4266.717251505703,4278.409085384703,4290.100919263703,4301.792753142704,4313.484587021704,4325.176420900705,4336.868254779705,4348.560088658705,4360.2519225377055,4371.943756416706,4383.635590295706,4395.327424174706,4407.019258053706,4418.711091932707,4430.402925811707,4442.094759690707,4453.786593569707,4465.478427448707,4477.1702613277075,4488.862095206709,4500.553929085709,4512.245762964709,4523.937596843709,4535.62943072271,4547.32126460171,4559.013098480709,4570.70493235971,4582.39676623871,4594.088600117711,4605.780433996711,4617.472267875712,4629.164101754712,4640.855935633712,4652.547769512712,4664.239603391712,4675.931437270713,4687.623271149713,4699.315105028712,4711.006938907713,4722.698772786714,4734.390606665715,4746.082440544714,4757.774274423715,4769.466108302715,4781.157942181715,4792.849776060716,4804.541609939715,4816.233443818716,4827.925277697716,4839.617111576717,4851.308945455717,4863.000779334717,4874.692613213718,4886.384447092718,4898.076280971718,4909.768114850718,4921.459948729719,4933.151782608719,4944.8436164877185,4956.5354503667195,4968.22728424572,4979.919118124721,4991.61095200372,5003.302785882721,5014.994619761721,5026.686453640721,5038.378287519721,5050.070121398721,5061.761955277722,5073.453789156722,5085.145623035723,5096.837456914723,5108.529290793723,5120.221124672724,5131.912958551723,5143.604792430724,5155.296626309724,5166.988460188725,5178.680294067724,5190.3721279467245,5202.0639618257255,5213.755795704726,5225.447629583726,5237.139463462726,5248.831297341727,5260.523131220727,5272.214965099727,5283.906798978727,5295.598632857727,5307.290466736728,5318.9823006157285,5330.674134494729,5342.365968373729,5354.057802252729,5365.74963613173,5377.441470010729,5389.13330388973,5400.82513776873,5412.516971647731,5424.20880552673,5435.9006394057305,5447.592473284732,5459.284307163732,5470.976141042732,5482.667974921732,5494.359808800732,5506.051642679733,5517.743476558732,5529.435310437733,5541.127144316733,5552.818978195734,5564.510812074734,5576.202645953734,5587.894479832735,5599.586313711735,5611.278147590735,5622.969981469735,5634.661815348736,5646.353649227736,5658.045483106735,5669.7373169857365,5681.429150864737,5693.120984743738,5704.812818622737,5716.504652501738,5728.196486380738,5739.888320259738,5751.580154138738,5763.271988017738,5774.963821896739,5786.655655775739,5798.3474896547405,5810.03932353374,5821.73115741274,5833.422991291741,5845.114825170741,5856.806659049741,5868.498492928741,5880.190326807742,5891.882160686742,5903.5739945657415,5915.2658284447425,5926.957662323743,5938.649496202744,5950.341330081743,5962.033163960744,5973.724997839744,5985.416831718744,5997.108665597744,6008.800499476744,6020.492333355745,6032.1841672347455,6043.876001113746,6055.567834992746,6067.259668871746,6078.951502750747,6090.643336629746,6102.335170508747],\"xaxis\":\"x\",\"y\":[1.2630611469900317e-05,1.3224453516468782e-05,1.3828275310067579e-05,1.4441218948927715e-05,1.5062401737391886e-05,1.569092325101835e-05,1.6325872768800875e-05,1.6966337004999502e-05,1.7611408068137e-05,1.8260191570697515e-05,1.8911814810038057e-05,1.9565434939039147e-05,2.022024704411129e-05,2.0875492048347887e-05,2.1530464358864476e-05,2.2184519179659194e-05,2.2837079414623496e-05,2.3487642089560758e-05,2.4135784227156296e-05,2.4781168114694392e-05,2.5423545910837155e-05,2.6062763544860533e-05,2.669876386927426e-05,2.7331589034626084e-05,2.796138206339545e-05,2.8588387608115046e-05,2.9212951887119983e-05,2.9835521799522398e-05,3.045664322906048e-05,3.107695855429914e-05,3.1697203390199246e-05,3.231820259326322e-05,3.294086556925618e-05,3.356618092884571e-05,3.41952105423598e-05,3.4829083050190946e-05,3.546898689013616e-05,3.611616290712198e-05,3.6771896614278615e-05,3.7437510177159187e-05,3.8114354195003827e-05,3.880379935428218e-05,3.950722803026383e-05,4.0226025912023176e-05,4.096157372504105e-05,4.1715239123385504e-05,4.2488368820314225e-05,4.328228102202596e-05,4.409825822420233e-05,4.493754042494506e-05,4.580131880077248e-05,4.669072988456021e-05,4.760685027579293e-05,4.8550691904358956e-05,4.952319785952058e-05,5.052523878581057e-05,5.155760983764294e-05,5.262102817460986e-05,5.371613097001168e-05,5.484347389638307e-05,5.600353004389802e-05,5.719668922080863e-05,5.8423257579743714e-05,5.968345750997812e-05,6.097742773387774e-05,6.230522354577616e-05,6.366681713365243e-05,6.506209792820806e-05,6.649087293027469e-05,6.795286697585091e-05,6.944772290833052e-05,7.097500163943738e-05,7.253418209376286e-05,7.412466104627306e-05,7.574575287734093e-05,7.739668928533098e-05,7.907661901206096e-05,8.078460765110076e-05,8.251963762235058e-05,8.428060840817767e-05,8.606633715611744e-05,8.787555976032389e-05,8.970693253820315e-05,9.155903461966325e-05,9.343037116391248e-05,9.531937751258176e-05,9.722442437806457e-05,9.914382415239287e-05,0.00010107583840483398,0.00010301868661593953,0.00010497055617232974,0.00010692961362049429,0.00010889401714983031,0.00011086193024561316,0.00011283153642224017,0.00011480105491658643,0.00011676875719137905,0.00011873298406984413,0.00012069216329622342,0.00012264482729277144,0.0001245896308631727,0.00012652536857553134,0.00012845099154568695,0.00013036562333402013,0.00013226857466643754,0.00013415935669309283,0.00013603769250670428,0.00013790352665607556,0.0001397570324094864,0.00014159861654678858,0.0001434289214879838,0.00014524882459937007,0.0001470594345555242,0.00014886208467586228,0.00015065832319767776,0.00015244990049270292,0.0001542387532806819,0.00015602698594044406,0.00015781684906578992,0.0001596107154594131,0.00016141105380236204,0.00016322040027849546,0.00016504132847234388,0.0001668764178941316,0.0001687282215168637,0.00017059923273681323,0.00017249185218998672,0.00017440835487279725,0.0001763508580248793,0.00017832129023546633,0.00018032136223180794,0.00018235253979858514,0.00018441601926112684,0.00018651270594244684,0.00018864319597479645,0.00019080776181073679,0.00019300634173692632,0.00019523853364624872,0.00019750359327099106,0.0001998004370220647,0.00020212764951734523,0.00020448349581681416,0.00020686593831410513,0.00020927265816418506,0.00021170108105619839,0.000214148407070007,0.00021661164428577273,0.0002190876457491947,0.000221573149331907,0.00022406481996824833,0.00022655929369731133,0.00022905322289401285,0.0002315433220359695,0.0002340264133252272,0.0002364994714662647,0.00023895966689491506,0.00024140440675752143,0.00024383137295616881,0.0002462385566044045,0.0002486242882784574,0.0002509872635013275,0.0002533265629607408,0.0002556416670360953,0.0002579324642931753,0.00026019925369735194,0.00026244274039477386,0.0002646640250150465,0.00026686458655629167,0.00026904625902232106,0.0002712112020899262,0.00027336186618986236,0.0002755009524859132,0.00027763136833036976,0.00027975617885939115,0.00028187855546616634,0.0002840017219519208,0.00028612889920314984,0.00028826324927684323,0.0002904078197929984,0.00029256548953483986,0.00029473891614164454,0.00029693048674704305,0.0002991422723676085,0.0003013759867832909,0.00030363295057396196,0.00030591406088650174,0.0003082197674062137,0.00031055005489693627,0.00031290443255818493,0.00031528193032739823,0.0003176811021332822,0.0003201000359848488,0.000322536370662479,0.00032498731866459037,0.00032744969495850947,0.0003299199509889982,0.00033239421331440674,0.00033486832617017485,0.00033733789720364346,0.0003397983455837869,0.0003422449516651069,0.000344672907376754,0.0003470773665158087,0.000349453494147077,0.00035179651434988026,0.00035410175560403204,0.0003563646931710595,0.00035858098790111806,0.0003607465209790985,0.00036285742421318364,0.0003649101055634768,0.00036690126970520244,0.0003688279335182496,0.00037068743649047,0.0003724774461141978,0.0003741959584421632,0.00037584129404871964,0.0003774120897137199,0.0003789072862083368,0.00038032611261374055,0.00038166806764424263,0.00038293289847594886,0.00038412057760009823,0.0003852312782272906,0.0003862653487651862,0.0003872232868786471,0.000388105713618556,0.0003889133480746976,0.00038964698297027533,0.00039030746157208313,0.00039089565624236475,0.00039141244890725555,0.0003918587136637294,0.00039223530169339173,0.00039254302859845913,0.0003927826642238982,0.00039295492498093727,0.00039306046864180877,0.00039309989153432585,0.00039307372802824063,0.0003929824521736643,0.0003928264813253566,0.00039260618156549727,0.00039232187472157143,0.0003919738467650735,0.0003915623573705593,0.00039108765041280573,0.00039054996518202113,0.00038994954810270987,0.00038928666475040004,0.0003885616119714594,0.00038777472992412073,0.00038692641387307107,0.0003860171255850489,0.000385047404188369,0.00038401787637473575,0.00038292926583676466,0.00038178240184897835,0.0003805782269134497,0.00037931780340353456,0.00037800231915014035,0.000376633091924651,0.00037521157278096087,0.0003737393482260933,0.00037221814119468773,0.0003706498108073559,0.0003690363508967106,0.0003673798872879436,0.00036568267382341594,0.00036394708712305025,0.0003621756200746617,0.0003603708740509588,0.0003585355498530972,0.00035667243738458373,0.00035478440406427284,0.0003528743819933712,0.0003509453538989478,0.000349000337885581,0.0003470423710375455,0.0003450744919263986,0.0003430997220929359,0.0003411210465881699,0.0003391413936750971,0.0003371636138113174,0.0003351904580517885,0.00033322455603076003,0.00033126839370183406,0.00032932429103465897,0.0003273943798854706,0.00032548058227598866,0.00032358458933050727,0.0003217078411337741,0.0003198515077819133,0.0003180164719046409,0.0003162033129388829,0.000314412293431202,0.0003126433476388373,0.0003108960726864002,0.0003091697225172369,0.00030746320485512435,0.0003057750813634469,0.0003041035711555269,0.0003024465577717529,0.0003008015996970505,0.0002991659444467066,0.0002975365462003236,0.00029591008691356654,0.00029428300078629003,0.00029265150191453863,0.00029101161490380803,0.00028935920817282646,0.00028769002963195363,0.0002859997443790298,0.0002842839740190231,0.0002825383371828918,0.0002807584907963846,0.0002789401716315797,0.00027707923766323827,0.00027517170874875055,0.0002732138061547157,0.0002712019904649273,0.0002691329974235519,0.0002670038712932043,0.0002648119953399647,0.0002625551190954937,0.0002602313820895969,0.0002578393337940052,0.00025537794956892934,0.0002528466424571616,0.00025024527072519754,0.00024757414110607585,0.0002448340077534697,0.0002420260669701033,0.00023915194782498227,0.00023621369882248055,0.0002332137708313076,0.00023015499652223525,0.00022704056659973007,0.0002238740031438841,0.00022065913040508512,0.0002174000434144567,0.0002141010747882684,0.00021076676011419748,0.0002074018023117228,0.00020401103535816866,0.0002005993877663175,0.00019717184618932464,0.00019373341951432708,0.00019028910378798264,0.00018684384829566314,0.00018340252309158447,0.00017996988825023897,0.00017655056508054844,0.00017314900951362477,0.0001697694878433641,0.00016641605496668776,0.00016309253523754769,0.00015980250601614583,0.00015654928396262804,0.0001533359140930481,0.00015016516158507405,0.00014703950629193387,0.00014396113989581736,0.0001409319656065366,0.00013795360028799914,0.00013502737887406428,0.00013215436091689348,0.00012933533909500905,0.00012657084949513345,0.00012386118347148883,0.00012120640087866748,0.00011860634446945991,0.00011606065524704412,0.00011356878856173014,0.00011113003074580137,0.00010874351608587693,0.0001064082439403577,0.00010412309581980336,0.0001018868522602192,9.96982093330089e-05,9.755579465046202e-05,9.545818274183622e-05,9.34039096920247e-05,9.13914869522288e-05,8.941941424960343e-05,8.74861915402918e-05,8.559032996727066e-05,8.373036180076716e-05,8.190484935441901e-05,8.011239288461191e-05,7.835163749339515e-05,7.662127906683038e-05,7.492006929054342e-05,7.32468197924547e-05,7.160040546921162e-05,6.99797670576493e-05,6.838391301577347e-05,6.681192077930088e-05,6.526293745984308e-05,6.373618004948365e-05,6.223093519393053e-05,6.074655859280391e-05,5.9282474081096814e-05,5.783817244064098e-05,5.641320998469965e-05,5.500720695278686e-05,5.361984574667336e-05,5.225086903244805e-05,5.090007772763889e-05,4.956732888689479e-05,4.82525334947184e-05,4.695565416933684e-05,4.567670277806367e-05,4.441573796152933e-05,4.317286256194246e-05,4.1948220949126486e-05,4.0741996237434915e-05,3.955440738674198e-05,3.838570618151105e-05,3.723617408334894e-05,3.610611895443442e-05,3.499587165161459e-05,3.390578249374884e-05,3.2836217607894e-05,3.178755516310413e-05,3.076018150383026e-05,2.9754487198070705e-05,2.8770863018437706e-05,2.780969587710043e-05,2.687136473805613e-05,2.595623653232081e-05,2.5064662103364315e-05,2.4196972211415387e-05,2.3353473626108522e-05,2.2534445337327014e-05,2.174013491402629e-05,2.0970755040305137e-05,2.0226480257067654e-05,1.950744393629986e-05,1.8813735513333965e-05,1.8145398000502415e-05,1.7502425803371796e-05,1.6884762858303223e-05,1.6292301107488263e-05,1.572487932486916e-05,1.5182282303533643e-05,1.4664240412295078e-05,1.417042952626495e-05,1.3700471333325353e-05,1.3253934015527811e-05,1.2830333301606776e-05,1.242913388401013e-05,1.2049751191126995e-05,1.1691553502747256e-05,1.1353864394221503e-05,1.1035965492316704e-05,1.0737099523388466e-05,1.0456473632226305e-05,1.0193262947789377e-05,9.946614370045475e-06,9.715650550281287e-06,9.499474035578985e-06,9.29717154668246e-06,9.107818357223347e-06,8.93048274126986e-06,8.764230455425647e-06,8.60812922125897e-06,8.461253173712601e-06,8.322687241340937e-06,8.191531424763936e-06,8.066904940617726e-06,7.947950199526392e-06,7.833836588209177e-06,7.72376402776254e-06,7.616966282396262e-06,7.512713995431317e-06,7.410317432152055e-06,7.3091289121068395e-06,7.208544916626752e-06,7.108007860633742e-06,7.0070075211871855e-06,6.905082118620138e-06,6.801819049492449e-06,6.6968552738869045e-06,6.589877362750586e-06,6.480621213991526e-06,6.368871448845402e-06,6.254460502591713e-06,6.137267426002384e-06,6.017216415923499e-06,5.894275095115893e-06,5.768452562901825e-06,5.6397972392880255e-06,5.508394526063975e-06,5.3743643089214815e-06,5.237858324924508e-06,5.099057419694383e-06,4.958168718490228e-06,4.815422734978529e-06,4.671070440925789e-06],\"yaxis\":\"y\",\"type\":\"scatter\"},{\"legendgroup\":\"Insurance charges\",\"marker\":{\"color\":\" deeppink\",\"symbol\":\"line-ns-open\"},\"mode\":\"markers\",\"name\":\"Insurance charges\",\"showlegend\":false,\"x\":[3781.6326764768887,1716.3833337147196,2659.3500911370325,2492.4520544078937,2326.808627928856,3542.931568367179,3991.5140383492076,3577.4366849882404,1363.7594521231333,2182.6008087493187,1157.341318255058,820.5425577234068,3693.427447885162,3755.170061910482,2918.688952407856,3607.4553101443526,4519.7124694538,4147.85443678275,2705.794901469946,3623.04273018382,4639.951314085321,3533.3238716430687,2480.807809042715,2213.288508409686,3540.4885726067137,2899.2284711034845,3181.2840480385435,4358.903659659757,2302.2091709682068,2099.1316883574946,1673.8160008436105,2611.8223223651275,3022.3669152555717,2357.1507230584025,2295.9452673016303,1462.0659089972623,2690.448754424535,3544.0887704309143,2657.6565267305887,4736.834493399628,1454.8249746975441,4019.2425367702767,2730.4844849955657,5188.639504679306,3665.334801836588,2407.488746596939,3775.7517877875234,2495.9389310655874,2721.7353667178363,1043.7722139929356,2427.3534148997055,1857.6991249694156,4407.892284183765,2315.147349112166,3661.9563817710114,4871.108564049601,4628.587673217577,3427.8940088454124,1745.9569094123376,3152.5218214653514,3682.9016168458447,3457.715868742881,4114.012010227964,2824.3832577533954,3096.809932337753,2735.5971754973125,1950.1756470573573,3354.702939230063,2297.6318580959596,3668.6895777427108,3794.5250758531242,2781.9043744747246,3373.8699571441102,3363.6384113237505,2727.210326151097,3406.2384825603945,3185.7529005896986,2760.5563667833344,3558.1183840126787,1956.855134776139,3984.4548853841657,2052.122599478165,2621.782505751321,1630.6315373136124,3397.0571468450657,1550.067934958354,3193.244633812224,3822.1453731502797,4023.7413736580643,936.8279826504581,4405.352356575564,2177.859961601818,2893.825172646612,3608.9996940811475,2238.377057602621,4196.62465778823,3258.2888791640767,4576.953664226927,2864.9799618998923,2758.990611322107,3874.5523091322148,4490.517515840457,2692.9850898600616,2674.321343968203,2438.053493652741,2261.144832868637,3207.5675489473765,2319.9506221684724,3211.6541536459617,1368.7680294761738,3728.1111731526616,3745.0489665704954,2411.895493857744,3290.284398321363,2263.2707990494323,2675.860162210292,3326.8346471042346,3417.0227440256126,2926.208870661235,2258.715517878607,2330.3522267896237,4031.957431271202,2318.9667289773333,2823.633808744281,4938.519612035775,4105.7061632700215,3017.1617352261273,3733.8772785759697,2055.2303461845013,1984.302025386452,2811.865530339169,3966.400579538238,1378.0090608666976,3887.6618891124817,2776.796212623513,2802.0332648443464,2983.283452019877,3276.1936776653083,1928.505300213061,2521.544582001963,268.1100648876072,1923.2061843321662,3058.837823319685,3277.150652071042,1323.1799463681036,2656.410771185275,4148.722774410689,2423.79147054077,3001.376488204752,3084.149440143511,2047.8748526382328,3634.033318311118,2611.852446627214,3180.7219046661735,2666.949958716264,3420.6458977856946,1964.908953877169,3019.661733606017,2726.6985431508765,3079.196477654537,1419.7795320754562,1177.8971111129822,3163.7364182756496,2575.489282160263,5064.887338507711,4311.60175140554,3566.1762197392977,3189.31175389298,2904.1999351822833,3096.687839401748,4122.324346597954,2845.7944676237266,3557.4490175235883,3892.2053401060334,3581.4623461348865,1844.5129845111953,4008.52706988403,3367.837766197409,3729.3281878223884,3615.983592692663,2852.1482016655355,2953.657035736974,3994.735339071024,2526.803803698729,1566.8156713971719,3261.0185044288864,2732.443660781879,4770.4919094539355,1555.996609023052,3296.7754456830926,4620.079795335847,2272.252481120744,1552.6512436352525,3067.779040911848,2308.0333379478316,3445.997811943035,2223.887498178955,4160.898490841736,3734.2433699207522,3800.522433671158,3947.409463144807,3785.772938847199,3650.7001211653874,4400.367271344924,3032.606788889351,1141.6022494454267,3283.2285682139,3015.5373094881406,3102.2971030245862,2038.754967273833,3882.025949685231,2689.890427455193,4245.830037246191,4088.842903796663,2306.167396700914,3301.248955058587,4359.683034878776,3140.435851556562,2753.6830964595083,3359.60619744391,3220.276699877971,3020.5766392749124,1688.0464677981736,1289.2134584766557,3495.232265517642,3498.7771744128913,3920.3247804604352,4311.673719574648,2701.677440667797,3356.1772561580187,3672.8056482484208,3344.891224859278,3880.627165329478,3937.591047652397,2284.753365491787,3926.423523970322,2061.5732919066713,1961.879315184218,5049.309529815977,2804.4649570236393,3967.6082238477193,3338.027047161451,2609.6402589869076,2830.9139278695675,4140.61787846674,2870.5691789754146,2594.2195162683884,1871.515185507155,4007.174189451169,2821.2278782982457,3683.753838641461,4873.531049616096,4347.145610975429,4092.9005594031714,3003.111283445646,1261.0335748560865,2638.563178074447,3927.538311885748,2515.9549652377,3264.594083660254,3943.777605696451,4776.275769743688,1890.9385352887227,2949.405577194734,1975.7417808181756,4292.217942446825,2277.1026042837525,2555.353164412779,3298.9955556057703,2220.6975578365114,1964.7317003959702,4121.402492044497,2101.7895189387123,2877.694450106433,1769.2272329009909,2141.7064684550674,1701.9508580997453,2571.4625568538368,3202.475939640991,1821.2713215054614,4017.518267896516,2472.6008289155384,1546.658755892011,2041.7505610100766,1314.4323633353467,2883.642484402836,4008.578023732059,3915.3991287855583,3566.771140653674,3031.9310853752727,3215.1094773217983,3097.5241906717183,723.5194382622894,1501.9695518337664,3121.4077723162986,3495.7091974004406,3993.9270435164008,6114.027004387747,3133.678876105738,1352.9095899707802,4184.698225388449,2671.0801473514225,4148.879208707948,3272.9102527912178,2881.2486959761063,3836.108103443282,4369.390921497934,2361.7299339836272,3158.1260862390295,1612.6021584019784,2770.208719920492,3133.781026506069,4280.068106898594,3231.6079250578437,2546.4732921757677,780.5356641412609,3338.8105052105575,1754.3275933650593,3071.6920495955624,4100.081681726364,4026.039136007141,2158.4316815994234,4053.6316166034917,3166.1644375885407,3086.572783904286,4573.619047301051,3857.442145106046,4554.399286785204,510.78466324125884,2166.243659746182,1602.5326647549032,1018.3104696097521,2123.8606830273816,3324.393423237027,3977.13624275463,3560.5209519145683,2491.1494411612853,4699.929826558151,2402.4388156378755,2612.949698749085,3341.767265183716,2362.191030304506,3303.942216595163,4577.52511752184,4278.681711619522,3053.24015095129,2643.886624203824,4974.841874159713,2566.346455843201,1221.666935326199,2233.832515988768,2833.514710688914,4034.1348969453666,3980.633382535897,4254.308648521163,3036.763964502959,2677.9971473578253,1235.08359955669,3237.3458445442798,3840.251002102849,1569.950065385345,3897.173780808029,2953.6844426285543,2685.5535367356897,3168.266037225899,2560.6305819530594,3940.7471547675227,2563.5247955345426,3115.9063843496424,1487.0373247431296,3147.9953099683316,3568.517015152331,2091.7813565275537,2968.490931598774,3654.8270386251656,2993.754585016296,1380.2722483728955,2534.693812506654,2654.7045655252,2830.627931022385,4346.898192921926,2631.7398196521053,1872.913801897079,4092.0708165707333,2493.2553822834216,4203.912061172936,2641.2485949669863,3721.552287970535,3126.7825236077415,4080.9077705388163,1775.6813958384628,2282.249540948826,3622.1689699809067,2766.979352724414,953.1996678129615,4303.033848901307,3593.9124565980733,2597.9517677322847,1241.5640220792445,4086.170306355823,3307.3186589969514,3134.8730603569375,1308.4797374057584,2612.1768795110834,3566.080649281872,4231.953313471325,4877.80197908845,1133.977792019466,3822.3721975229328,2483.36631227314,3433.582765073667,2136.8218140818553,3697.9086421582138,427.21999156208585,4288.473554950988,2941.0875405022693,2603.0294284962274,2096.980943027579,2683.4098247599,2874.5217713842612,3138.268228326516,1887.2678720240478,4244.3175023220665,2607.412485804119,2100.5930904500406,4413.51868904493,496.4995609783541,4066.446311119518,5338.180261276297,3875.2765513375534,3366.4906444824073,1749.0436536220193,3643.0050182100963,1491.9887601497185,3449.9420585821485,2025.632313893457,2083.7232330450443,3101.98932421497,3951.109391231029,2641.4808792316953,3877.0383317324236,2189.5438876395924,2889.1355501070084,2263.548684591002,2832.9163119677,3290.442583073621,3379.0654927595738,2258.6990383235834,2444.962705468149,3486.1776253856287,3115.134590544206,4338.751996134939,4556.998822977812,3417.207286006119,3267.382450621726,2557.941362314763,2846.848843994053,1142.306800333451,1979.6275053232998,5956.454217635857,3876.1742822204405,3104.3953274612854,2960.43566597083,4099.433200962985,3043.0069566507727,2163.67413552154,2373.217679102798,2715.9514684875016,2051.048658107639,2192.459093835326,4398.210668511427,2361.6014022083077,2651.5225479089404,1448.254169480411,4112.356098714311,3216.5610476780507,3511.460391728595,2063.1222307560583,3014.379349056927,1905.5905247418727,2215.0243309092343,3458.3882671162573,4981.5410144416055,2711.7436986941893,4563.172124339354,4154.240980811396,2242.726192299308,3113.204167590797,3468.843937111634,1481.2829171618705,3063.4172951237692,3214.0584682607714,508.0754515286226,1885.9751830950438,4399.365381884699,3835.964025417045,4203.4228169876715,2783.100921431952,2138.4081456006083,3696.045894148727,1617.8943063621937,3173.9245481182543,2760.8151669317735,2478.1432635345977,2789.967608140496,4757.416042617623,4259.947271035941,2031.8133689537344,3889.8230614308854,3966.705796758978,2683.6967735814287,3034.8212360261386,3978.440260948117,4077.4821166819756,4031.1376299533554,3070.9677107115226,866.6147923312387,1616.7098096403854,2487.7570339206763,5531.971808759246,4198.091982226108,2554.79162223399,5125.698941749271,3734.078146782318,4106.02071276087,3409.6267069773266,3424.777497161801,1925.4393670497957,3306.688418270702,3150.4742502394356,2531.464667619325,2908.551584157396,3153.4914083692743,3497.793277132482,544.0835891610732,2895.0034494988176,4035.1183377053703,4688.610862808886,2543.500215925322,2674.1703559891284,3512.4361555524138,4720.355297855083,1712.6157028413058,2699.705715446417,3378.111080872725,4407.698530522928,4767.92974832418,1547.624635080096,705.1877525163072,2232.777654253326,2535.127383620218,2936.6970117659553,2360.2754557417593,5265.5800200318545,2982.566373514247,3412.455352554788,829.0090400152053,2537.434574491152,4074.4530651759956,1874.4855066182022,2717.6441547674726,3988.964554381932,1449.1674201565022,3080.303326370537,3111.2565567639513,1502.2263890743798,2454.956320197103,2139.792733455916,1652.3801622930753,2793.6756537277847,527.4051174253127,2844.069628069084,1397.9899188072905,2402.7379410976537,3556.5985861368727,2885.0563746385633,1820.5803809837814,5025.431118751605,4446.673987713003,2287.212386480314,3020.6582272181154,2743.327368905999,2434.2264969643693,2784.548641985199,3725.4119279023457,2544.039480960837,4333.903849235565,819.6562033688356,2302.8334300580145,3130.282131558775,2059.5170646281167,1544.033428913553,4137.976538736893,2027.5596664016762,2300.1455030860607,2661.3541128832876,3415.957879355142,3998.3500178280765,4185.730728456643,4434.736398556542,3426.860032621628,3595.156859530786,3715.8604122115457,2524.059367093055,2842.640111395803,2372.812137653599,3391.23991728866,3577.0800049631625,3909.9439585987398,3308.983841468217,2725.5307918648687,2205.8716444058045,991.8960837785799,4780.9862589901895,3221.6359135503503,1270.0106935736594,3309.5036586993915,2712.9020804412903,2876.817413432442,3730.619864756463,3049.4938567248123,3619.8038976345083,2009.3857437430233,4249.3064656705665,3022.551660500815,3571.0072123240025,1943.8312101015354,689.9731715877315,3647.1630400922986,4179.1124713654335,5162.099213095074,2546.7140519851937,1939.4349885783663,3010.6604124102546,2562.9757476518066,3044.7818090657884,1685.1915902279982,3752.184202830615,2624.4779429427363,2756.516360835943,4142.602244901399,3743.8329143054234,5114.033918067729,3260.5231720133925,3519.743041309007,3100.9666958657876,2137.2138439424325,4336.154148837394,939.3655968508633,3207.295585449492,4139.689058405953,3734.631042421964,2750.2357185050178,3425.342873270649,3388.5867549984923,2381.0357380501127,4610.29585260481,2016.5212966215206,1440.6846769733215,4290.822201753161,3021.5163534108165,4039.736742449535,4644.592101202541,3301.136611697024,4020.216097316273,4470.571334102314,3609.6991482717117,5793.410355506055,3224.0539996763787,2303.546310952497,2006.4243838100829,2984.248233065193,2232.9304605642187,4148.269502585658,2641.0861762724876,3805.4005861461033,4662.832882447968,2152.067113638127,3651.556005580281,1838.480746667522,2997.420652394995,3215.162124784728,4414.967896259508,2324.717678699398,2167.9459948446965,1773.2877232424885,2704.097459635315,3316.4411037398813,3336.945026969799,2496.9448969754144,2362.0763530996924,1649.6348769363942,3762.833891255077,2200.9543902640385,3444.097130100285,3607.7805372041385,1724.5330826888307,4093.7970568305373,4369.757027886988,2726.7385615214566,3590.4469274645535,3414.468156327577,4020.5906496747393,4604.137152939972,2937.1057614982415,4662.304701230833,3195.1066607496005,1937.128576627897,1844.5196188888801,3625.967790251398,3142.407566120335,2169.715091114107,2400.960774901361,2595.9219199463228,1521.1552741152059,2130.8247624843734,3098.323277873228,3194.7759038345016,3478.4387268145792,2964.8689077145887,3664.73340063231,2275.15855038092,1162.7152130256807,985.0240101603979,2153.884061259398,1984.5446044876844,3406.2193980885586,2848.759168664795,4892.243850558365,695.6831368320491,1464.2212960724007,1921.6007231665465,3069.215354492434,2242.5678100271903,3916.540365949267,3636.0418651814157,2786.0212452480905,2780.3422459200124,3760.449105215712,4474.528887863666,2426.603520633985,2711.5625060232255,3960.7030719378567,2616.261001773691,4139.27188131195,3575.170307280362,2917.9363705304486,3841.0936566137834,5214.806765779216,1755.7074673780976,3767.2210183660864,1557.3674193773454,4623.369234049891,5197.5420774067525,3720.657672772297,3494.1503725906405,2903.344548206518,2850.1898073952393,3352.4439336918176,4151.456244696808,3850.4274331957167,1765.2138952198484,4877.594319273161,3994.179322407863,1084.2385942199817,4872.713561245098,3448.5082701766896,3331.555221894383,2122.603496607361,1136.4582993584443,2298.42240371757,3337.650111774225,1398.6318696515355,1544.5777582472103,1160.572122153543,2909.879659848227,4419.8101745174845,3483.378945856156,2687.665523676277,3070.5352864951906,3038.3709954147307,4294.669999221092,3713.375679898751,3010.526004483286,1912.2868214933114,4330.993228979989,2149.9262600798056,1622.4171169427434,2850.040091274264,3946.973003745935,2704.446218904975,1726.9634653254636,1573.8975427237144,3937.0435782393083,4230.678216259288,5802.228637999693,3291.8526498424753,2659.510849463975,2208.042310576289,4140.107173016988,2053.6377185584265,4145.257948938331,2682.606338227437,3933.4316738531375,4409.310717751205,4298.668328390011,3431.98230906786,2307.9248813843724,3381.5571461862437,2464.5278999558914,1144.6001164656832,2193.6550836173938,3304.0889202982116,3430.279769387636,1470.2266360189178,5457.573371777582,3093.8402378150995,1739.8519448006562,3793.438499932646,3265.4384301535097,2860.7336759629266,4060.433593580261,4171.191303055384,2454.314947393337,3569.612085730099,3317.176736974808,4210.204365473195,2534.396834472758,3643.1161122265453,2863.8792244167053,2199.5584044223006,2683.2746069529835,4787.592708927624,4108.222127495011,4453.399815813091,4531.153000234267,2525.2134887401207,3120.57360808123,4493.755447040834,2882.698976028225,2269.0163461707793,1903.4029231482195,1592.9111924180268,2892.3405486982747,3590.3296790518743,4642.207737520695,5001.732967763199,3434.60424690963,2911.5843224145037,2129.29968741271,3288.1753312005912,2941.0080659239256,3301.710322365699,1515.3002297154453,3449.5572431946707,3868.141554591655,4896.594996307743,3384.1391920375186,2247.389544801526,2250.1311912124006,1446.1251813006706,3598.8927540135273,2033.234625252446,4177.372700245283,3722.380486821422,3383.7037401472476,2857.916393446443,3128.977909794873,1768.3027811033235,3068.187043063269,3511.0065897935438,3110.135198708581,2596.2921021379393,2578.2903812369063,1667.1442457037806,3238.054597873374,3314.382057359471,2212.055045515002,2180.779776089247,2108.6469037222732,3230.0321176992757,3871.1945347751653,1205.2665489395395,3090.9452307405118,2637.150075211673,3371.8197180547595,2980.264934559391,727.6058411448917,4186.052585353025,4761.525205256223,2321.6009585323154,4511.251213799069,2076.1366697156864,3282.677929946605,3070.006836585546,3487.131221610089,3504.2996451524455,3406.861771363878,2916.3568522538685,3618.014812502188,2673.107712890918,2767.1347734121696,3666.6317657109657,1791.1197341060508,2926.9906685464534,3628.358725134024,3681.72052924097,3935.755881184071,3108.1127592949138,2904.1655477421714,2248.396940354205,3571.4883205997576,3624.546589600024,4054.6590982496386,1189.5801475891665,2212.274243930257,3262.941431882824,550.988486135469,1768.9857548352365,2217.5385658996,2211.4591446234417,1675.420143519033,4286.211847893642,3368.775570336534,3043.130313187754,2422.370241129042,2702.4742965949554,4283.186200563055,3714.9333263953467,3997.0846637885948,1824.321757876964,3180.8525515275214,2789.045436473105,2405.6072082575306,3905.4602789302307,1815.114372560086,3791.4872720337435,1521.004573038591,3144.3043269063137,3731.7862187619803,2634.597441249349,2988.9286851171646,1162.8541789768872,4235.498052685198,3800.4985257314274,1811.9599722822384,1659.2061047489246,3694.214437482112,3336.512791762013,3923.2346091133895,3697.6548202972,2551.11915149085,2649.0017012872045,3010.787823597021,2901.8431995520236,4258.409223111514,3101.3345632257965,3506.0895674534927,2877.0814281459543,2829.841921054293,2717.4997720842553,2785.088137860891,3360.3009076950116,3620.2314419161767,4969.681745466094,3503.5806829685994,2984.958520126999,2981.295244966871,2174.5848909209344,2777.9382824284094,2969.780720993745,3286.974628188485,4073.145610073684,3456.466816880243,4284.295301300199,3777.9153572439454,3060.903391783576,2377.4590170139304,3301.912773159452,2820.0534076824283,3383.156127165993,3406.564795792958,2066.587904512368,389.3127781928074,2785.034032311571,2753.496004945558,3184.3195789360207,3397.1440856465642,1702.4365371293766,4706.149709024157,1537.796248875176,3946.968461996252,2960.3648149591286,3995.6409315773685,2917.618604401629,3151.72524220562,3160.0767591521794,3557.3512230867786,1598.9643967943525,2848.497181822052],\"xaxis\":\"x\",\"y\":[\"Insurance charges\",\"Insurance charges\",\"Insurance charges\",\"Insurance charges\",\"Insurance charges\",\"Insurance charges\",\"Insurance charges\",\"Insurance charges\",\"Insurance charges\",\"Insurance charges\",\"Insurance charges\",\"Insurance charges\",\"Insurance charges\",\"Insurance charges\",\"Insurance charges\",\"Insurance charges\",\"Insurance charges\",\"Insurance charges\",\"Insurance charges\",\"Insurance charges\",\"Insurance charges\",\"Insurance charges\",\"Insurance charges\",\"Insurance charges\",\"Insurance charges\",\"Insurance charges\",\"Insurance charges\",\"Insurance charges\",\"Insurance charges\",\"Insurance charges\",\"Insurance charges\",\"Insurance charges\",\"Insurance charges\",\"Insurance charges\",\"Insurance charges\",\"Insurance charges\",\"Insurance charges\",\"Insurance charges\",\"Insurance charges\",\"Insurance charges\",\"Insurance charges\",\"Insurance charges\",\"Insurance charges\",\"Insurance charges\",\"Insurance charges\",\"Insurance charges\",\"Insurance charges\",\"Insurance charges\",\"Insurance charges\",\"Insurance charges\",\"Insurance charges\",\"Insurance charges\",\"Insurance charges\",\"Insurance charges\",\"Insurance charges\",\"Insurance charges\",\"Insurance charges\",\"Insurance charges\",\"Insurance charges\",\"Insurance charges\",\"Insurance charges\",\"Insurance charges\",\"Insurance charges\",\"Insurance charges\",\"Insurance charges\",\"Insurance charges\",\"Insurance charges\",\"Insurance charges\",\"Insurance charges\",\"Insurance charges\",\"Insurance charges\",\"Insurance charges\",\"Insurance charges\",\"Insurance charges\",\"Insurance charges\",\"Insurance charges\",\"Insurance charges\",\"Insurance charges\",\"Insurance charges\",\"Insurance charges\",\"Insurance charges\",\"Insurance charges\",\"Insurance charges\",\"Insurance charges\",\"Insurance charges\",\"Insurance charges\",\"Insurance charges\",\"Insurance charges\",\"Insurance charges\",\"Insurance charges\",\"Insurance charges\",\"Insurance charges\",\"Insurance charges\",\"Insurance charges\",\"Insurance charges\",\"Insurance charges\",\"Insurance charges\",\"Insurance charges\",\"Insurance charges\",\"Insurance charges\",\"Insurance charges\",\"Insurance charges\",\"Insurance charges\",\"Insurance charges\",\"Insurance charges\",\"Insurance charges\",\"Insurance charges\",\"Insurance charges\",\"Insurance charges\",\"Insurance charges\",\"Insurance charges\",\"Insurance charges\",\"Insurance charges\",\"Insurance charges\",\"Insurance charges\",\"Insurance charges\",\"Insurance charges\",\"Insurance charges\",\"Insurance charges\",\"Insurance charges\",\"Insurance charges\",\"Insurance charges\",\"Insurance charges\",\"Insurance charges\",\"Insurance charges\",\"Insurance charges\",\"Insurance charges\",\"Insurance charges\",\"Insurance charges\",\"Insurance charges\",\"Insurance charges\",\"Insurance charges\",\"Insurance charges\",\"Insurance charges\",\"Insurance charges\",\"Insurance charges\",\"Insurance charges\",\"Insurance charges\",\"Insurance charges\",\"Insurance charges\",\"Insurance charges\",\"Insurance charges\",\"Insurance charges\",\"Insurance charges\",\"Insurance charges\",\"Insurance charges\",\"Insurance charges\",\"Insurance charges\",\"Insurance charges\",\"Insurance charges\",\"Insurance charges\",\"Insurance charges\",\"Insurance charges\",\"Insurance charges\",\"Insurance charges\",\"Insurance charges\",\"Insurance charges\",\"Insurance charges\",\"Insurance charges\",\"Insurance charges\",\"Insurance charges\",\"Insurance charges\",\"Insurance charges\",\"Insurance charges\",\"Insurance charges\",\"Insurance charges\",\"Insurance charges\",\"Insurance charges\",\"Insurance charges\",\"Insurance charges\",\"Insurance charges\",\"Insurance charges\",\"Insurance charges\",\"Insurance charges\",\"Insurance charges\",\"Insurance charges\",\"Insurance charges\",\"Insurance charges\",\"Insurance charges\",\"Insurance charges\",\"Insurance charges\",\"Insurance charges\",\"Insurance charges\",\"Insurance charges\",\"Insurance charges\",\"Insurance charges\",\"Insurance charges\",\"Insurance charges\",\"Insurance charges\",\"Insurance charges\",\"Insurance charges\",\"Insurance charges\",\"Insurance charges\",\"Insurance charges\",\"Insurance charges\",\"Insurance charges\",\"Insurance charges\",\"Insurance charges\",\"Insurance charges\",\"Insurance charges\",\"Insurance charges\",\"Insurance charges\",\"Insurance charges\",\"Insurance charges\",\"Insurance charges\",\"Insurance charges\",\"Insurance charges\",\"Insurance charges\",\"Insurance charges\",\"Insurance charges\",\"Insurance charges\",\"Insurance charges\",\"Insurance charges\",\"Insurance charges\",\"Insurance charges\",\"Insurance charges\",\"Insurance charges\",\"Insurance charges\",\"Insurance charges\",\"Insurance charges\",\"Insurance charges\",\"Insurance charges\",\"Insurance charges\",\"Insurance charges\",\"Insurance charges\",\"Insurance charges\",\"Insurance charges\",\"Insurance charges\",\"Insurance charges\",\"Insurance charges\",\"Insurance charges\",\"Insurance charges\",\"Insurance charges\",\"Insurance charges\",\"Insurance charges\",\"Insurance charges\",\"Insurance charges\",\"Insurance charges\",\"Insurance charges\",\"Insurance charges\",\"Insurance charges\",\"Insurance charges\",\"Insurance charges\",\"Insurance charges\",\"Insurance charges\",\"Insurance charges\",\"Insurance charges\",\"Insurance charges\",\"Insurance charges\",\"Insurance charges\",\"Insurance charges\",\"Insurance charges\",\"Insurance charges\",\"Insurance charges\",\"Insurance charges\",\"Insurance charges\",\"Insurance charges\",\"Insurance charges\",\"Insurance charges\",\"Insurance charges\",\"Insurance charges\",\"Insurance charges\",\"Insurance charges\",\"Insurance charges\",\"Insurance charges\",\"Insurance charges\",\"Insurance charges\",\"Insurance charges\",\"Insurance charges\",\"Insurance charges\",\"Insurance charges\",\"Insurance charges\",\"Insurance charges\",\"Insurance charges\",\"Insurance charges\",\"Insurance charges\",\"Insurance charges\",\"Insurance charges\",\"Insurance charges\",\"Insurance charges\",\"Insurance charges\",\"Insurance charges\",\"Insurance charges\",\"Insurance charges\",\"Insurance charges\",\"Insurance charges\",\"Insurance charges\",\"Insurance charges\",\"Insurance charges\",\"Insurance charges\",\"Insurance charges\",\"Insurance charges\",\"Insurance charges\",\"Insurance charges\",\"Insurance charges\",\"Insurance charges\",\"Insurance charges\",\"Insurance charges\",\"Insurance charges\",\"Insurance charges\",\"Insurance charges\",\"Insurance charges\",\"Insurance charges\",\"Insurance charges\",\"Insurance charges\",\"Insurance charges\",\"Insurance charges\",\"Insurance charges\",\"Insurance charges\",\"Insurance charges\",\"Insurance charges\",\"Insurance charges\",\"Insurance charges\",\"Insurance charges\",\"Insurance charges\",\"Insurance charges\",\"Insurance charges\",\"Insurance charges\",\"Insurance charges\",\"Insurance charges\",\"Insurance charges\",\"Insurance charges\",\"Insurance charges\",\"Insurance charges\",\"Insurance charges\",\"Insurance charges\",\"Insurance charges\",\"Insurance charges\",\"Insurance charges\",\"Insurance charges\",\"Insurance charges\",\"Insurance charges\",\"Insurance charges\",\"Insurance charges\",\"Insurance charges\",\"Insurance charges\",\"Insurance charges\",\"Insurance charges\",\"Insurance charges\",\"Insurance charges\",\"Insurance charges\",\"Insurance charges\",\"Insurance charges\",\"Insurance charges\",\"Insurance charges\",\"Insurance charges\",\"Insurance charges\",\"Insurance charges\",\"Insurance charges\",\"Insurance charges\",\"Insurance charges\",\"Insurance charges\",\"Insurance charges\",\"Insurance charges\",\"Insurance charges\",\"Insurance charges\",\"Insurance charges\",\"Insurance charges\",\"Insurance charges\",\"Insurance charges\",\"Insurance charges\",\"Insurance charges\",\"Insurance charges\",\"Insurance charges\",\"Insurance charges\",\"Insurance charges\",\"Insurance charges\",\"Insurance charges\",\"Insurance charges\",\"Insurance charges\",\"Insurance charges\",\"Insurance charges\",\"Insurance charges\",\"Insurance charges\",\"Insurance charges\",\"Insurance charges\",\"Insurance charges\",\"Insurance charges\",\"Insurance charges\",\"Insurance charges\",\"Insurance charges\",\"Insurance charges\",\"Insurance charges\",\"Insurance charges\",\"Insurance charges\",\"Insurance charges\",\"Insurance charges\",\"Insurance charges\",\"Insurance charges\",\"Insurance charges\",\"Insurance charges\",\"Insurance charges\",\"Insurance charges\",\"Insurance charges\",\"Insurance charges\",\"Insurance charges\",\"Insurance charges\",\"Insurance charges\",\"Insurance charges\",\"Insurance charges\",\"Insurance charges\",\"Insurance charges\",\"Insurance charges\",\"Insurance charges\",\"Insurance charges\",\"Insurance charges\",\"Insurance charges\",\"Insurance charges\",\"Insurance charges\",\"Insurance charges\",\"Insurance charges\",\"Insurance charges\",\"Insurance charges\",\"Insurance charges\",\"Insurance charges\",\"Insurance charges\",\"Insurance charges\",\"Insurance charges\",\"Insurance charges\",\"Insurance charges\",\"Insurance charges\",\"Insurance charges\",\"Insurance charges\",\"Insurance charges\",\"Insurance charges\",\"Insurance charges\",\"Insurance charges\",\"Insurance charges\",\"Insurance charges\",\"Insurance charges\",\"Insurance charges\",\"Insurance charges\",\"Insurance charges\",\"Insurance charges\",\"Insurance charges\",\"Insurance charges\",\"Insurance charges\",\"Insurance charges\",\"Insurance charges\",\"Insurance charges\",\"Insurance charges\",\"Insurance charges\",\"Insurance charges\",\"Insurance charges\",\"Insurance charges\",\"Insurance charges\",\"Insurance charges\",\"Insurance charges\",\"Insurance charges\",\"Insurance charges\",\"Insurance charges\",\"Insurance charges\",\"Insurance charges\",\"Insurance charges\",\"Insurance charges\",\"Insurance charges\",\"Insurance charges\",\"Insurance charges\",\"Insurance charges\",\"Insurance charges\",\"Insurance charges\",\"Insurance charges\",\"Insurance charges\",\"Insurance charges\",\"Insurance charges\",\"Insurance charges\",\"Insurance charges\",\"Insurance charges\",\"Insurance charges\",\"Insurance charges\",\"Insurance charges\",\"Insurance charges\",\"Insurance charges\",\"Insurance charges\",\"Insurance charges\",\"Insurance charges\",\"Insurance charges\",\"Insurance charges\",\"Insurance charges\",\"Insurance charges\",\"Insurance charges\",\"Insurance charges\",\"Insurance charges\",\"Insurance charges\",\"Insurance charges\",\"Insurance charges\",\"Insurance charges\",\"Insurance charges\",\"Insurance charges\",\"Insurance charges\",\"Insurance charges\",\"Insurance charges\",\"Insurance charges\",\"Insurance charges\",\"Insurance charges\",\"Insurance charges\",\"Insurance charges\",\"Insurance charges\",\"Insurance charges\",\"Insurance charges\",\"Insurance charges\",\"Insurance charges\",\"Insurance charges\",\"Insurance charges\",\"Insurance charges\",\"Insurance charges\",\"Insurance charges\",\"Insurance charges\",\"Insurance charges\",\"Insurance charges\",\"Insurance charges\",\"Insurance charges\",\"Insurance charges\",\"Insurance charges\",\"Insurance charges\",\"Insurance charges\",\"Insurance charges\",\"Insurance charges\",\"Insurance charges\",\"Insurance charges\",\"Insurance charges\",\"Insurance charges\",\"Insurance charges\",\"Insurance charges\",\"Insurance charges\",\"Insurance charges\",\"Insurance charges\",\"Insurance charges\",\"Insurance charges\",\"Insurance charges\",\"Insurance charges\",\"Insurance charges\",\"Insurance charges\",\"Insurance charges\",\"Insurance charges\",\"Insurance charges\",\"Insurance charges\",\"Insurance charges\",\"Insurance charges\",\"Insurance charges\",\"Insurance charges\",\"Insurance charges\",\"Insurance charges\",\"Insurance charges\",\"Insurance charges\",\"Insurance charges\",\"Insurance charges\",\"Insurance charges\",\"Insurance charges\",\"Insurance charges\",\"Insurance charges\",\"Insurance charges\",\"Insurance charges\",\"Insurance charges\",\"Insurance charges\",\"Insurance charges\",\"Insurance charges\",\"Insurance charges\",\"Insurance charges\",\"Insurance charges\",\"Insurance charges\",\"Insurance charges\",\"Insurance charges\",\"Insurance charges\",\"Insurance charges\",\"Insurance charges\",\"Insurance charges\",\"Insurance charges\",\"Insurance charges\",\"Insurance charges\",\"Insurance charges\",\"Insurance charges\",\"Insurance charges\",\"Insurance charges\",\"Insurance charges\",\"Insurance charges\",\"Insurance charges\",\"Insurance charges\",\"Insurance charges\",\"Insurance charges\",\"Insurance charges\",\"Insurance charges\",\"Insurance charges\",\"Insurance charges\",\"Insurance charges\",\"Insurance charges\",\"Insurance charges\",\"Insurance charges\",\"Insurance charges\",\"Insurance charges\",\"Insurance charges\",\"Insurance charges\",\"Insurance charges\",\"Insurance charges\",\"Insurance charges\",\"Insurance charges\",\"Insurance charges\",\"Insurance charges\",\"Insurance charges\",\"Insurance charges\",\"Insurance charges\",\"Insurance charges\",\"Insurance charges\",\"Insurance charges\",\"Insurance charges\",\"Insurance charges\",\"Insurance charges\",\"Insurance charges\",\"Insurance charges\",\"Insurance charges\",\"Insurance charges\",\"Insurance charges\",\"Insurance charges\",\"Insurance charges\",\"Insurance charges\",\"Insurance charges\",\"Insurance charges\",\"Insurance charges\",\"Insurance charges\",\"Insurance charges\",\"Insurance charges\",\"Insurance charges\",\"Insurance charges\",\"Insurance charges\",\"Insurance charges\",\"Insurance charges\",\"Insurance charges\",\"Insurance charges\",\"Insurance charges\",\"Insurance charges\",\"Insurance charges\",\"Insurance charges\",\"Insurance charges\",\"Insurance charges\",\"Insurance charges\",\"Insurance charges\",\"Insurance charges\",\"Insurance charges\",\"Insurance charges\",\"Insurance charges\",\"Insurance charges\",\"Insurance charges\",\"Insurance charges\",\"Insurance charges\",\"Insurance charges\",\"Insurance charges\",\"Insurance charges\",\"Insurance charges\",\"Insurance charges\",\"Insurance charges\",\"Insurance charges\",\"Insurance charges\",\"Insurance charges\",\"Insurance charges\",\"Insurance charges\",\"Insurance charges\",\"Insurance charges\",\"Insurance charges\",\"Insurance charges\",\"Insurance charges\",\"Insurance charges\",\"Insurance charges\",\"Insurance charges\",\"Insurance charges\",\"Insurance charges\",\"Insurance charges\",\"Insurance charges\",\"Insurance charges\",\"Insurance charges\",\"Insurance charges\",\"Insurance charges\",\"Insurance charges\",\"Insurance charges\",\"Insurance charges\",\"Insurance charges\",\"Insurance charges\",\"Insurance charges\",\"Insurance charges\",\"Insurance charges\",\"Insurance charges\",\"Insurance charges\",\"Insurance charges\",\"Insurance charges\",\"Insurance charges\",\"Insurance charges\",\"Insurance charges\",\"Insurance charges\",\"Insurance charges\",\"Insurance charges\",\"Insurance charges\",\"Insurance charges\",\"Insurance charges\",\"Insurance charges\",\"Insurance charges\",\"Insurance charges\",\"Insurance charges\",\"Insurance charges\",\"Insurance charges\",\"Insurance charges\",\"Insurance charges\",\"Insurance charges\",\"Insurance charges\",\"Insurance charges\",\"Insurance charges\",\"Insurance charges\",\"Insurance charges\",\"Insurance charges\",\"Insurance charges\",\"Insurance charges\",\"Insurance charges\",\"Insurance charges\",\"Insurance charges\",\"Insurance charges\",\"Insurance charges\",\"Insurance charges\",\"Insurance charges\",\"Insurance charges\",\"Insurance charges\",\"Insurance charges\",\"Insurance charges\",\"Insurance charges\",\"Insurance charges\",\"Insurance charges\",\"Insurance charges\",\"Insurance charges\",\"Insurance charges\",\"Insurance charges\",\"Insurance charges\",\"Insurance charges\",\"Insurance charges\",\"Insurance charges\",\"Insurance charges\",\"Insurance charges\",\"Insurance charges\",\"Insurance charges\",\"Insurance charges\",\"Insurance charges\",\"Insurance charges\",\"Insurance charges\",\"Insurance charges\",\"Insurance charges\",\"Insurance charges\",\"Insurance charges\",\"Insurance charges\",\"Insurance charges\",\"Insurance charges\",\"Insurance charges\",\"Insurance charges\",\"Insurance charges\",\"Insurance charges\",\"Insurance charges\",\"Insurance charges\",\"Insurance charges\",\"Insurance charges\",\"Insurance charges\",\"Insurance charges\",\"Insurance charges\",\"Insurance charges\",\"Insurance charges\",\"Insurance charges\",\"Insurance charges\",\"Insurance charges\",\"Insurance charges\",\"Insurance charges\",\"Insurance charges\",\"Insurance charges\",\"Insurance charges\",\"Insurance charges\",\"Insurance charges\",\"Insurance charges\",\"Insurance charges\",\"Insurance charges\",\"Insurance charges\",\"Insurance charges\",\"Insurance charges\",\"Insurance charges\",\"Insurance charges\",\"Insurance charges\",\"Insurance charges\",\"Insurance charges\",\"Insurance charges\",\"Insurance charges\",\"Insurance charges\",\"Insurance charges\",\"Insurance charges\",\"Insurance charges\",\"Insurance charges\",\"Insurance charges\",\"Insurance charges\",\"Insurance charges\",\"Insurance charges\",\"Insurance charges\",\"Insurance charges\",\"Insurance charges\",\"Insurance charges\",\"Insurance charges\",\"Insurance charges\",\"Insurance charges\",\"Insurance charges\",\"Insurance charges\",\"Insurance charges\",\"Insurance charges\",\"Insurance charges\",\"Insurance charges\",\"Insurance charges\",\"Insurance charges\",\"Insurance charges\",\"Insurance charges\",\"Insurance charges\",\"Insurance charges\",\"Insurance charges\",\"Insurance charges\",\"Insurance charges\",\"Insurance charges\",\"Insurance charges\",\"Insurance charges\",\"Insurance charges\",\"Insurance charges\",\"Insurance charges\",\"Insurance charges\",\"Insurance charges\",\"Insurance charges\",\"Insurance charges\",\"Insurance charges\",\"Insurance charges\",\"Insurance charges\",\"Insurance charges\",\"Insurance charges\",\"Insurance charges\",\"Insurance charges\",\"Insurance charges\",\"Insurance charges\",\"Insurance charges\",\"Insurance charges\",\"Insurance charges\",\"Insurance charges\",\"Insurance charges\",\"Insurance charges\",\"Insurance charges\",\"Insurance charges\",\"Insurance charges\",\"Insurance charges\",\"Insurance charges\",\"Insurance charges\",\"Insurance charges\",\"Insurance charges\",\"Insurance charges\",\"Insurance charges\",\"Insurance charges\",\"Insurance charges\",\"Insurance charges\",\"Insurance charges\",\"Insurance charges\",\"Insurance charges\",\"Insurance charges\",\"Insurance charges\",\"Insurance charges\",\"Insurance charges\",\"Insurance charges\",\"Insurance charges\",\"Insurance charges\",\"Insurance charges\",\"Insurance charges\",\"Insurance charges\",\"Insurance charges\",\"Insurance charges\",\"Insurance charges\",\"Insurance charges\",\"Insurance charges\",\"Insurance charges\",\"Insurance charges\",\"Insurance charges\",\"Insurance charges\",\"Insurance charges\",\"Insurance charges\",\"Insurance charges\",\"Insurance charges\",\"Insurance charges\",\"Insurance charges\",\"Insurance charges\",\"Insurance charges\",\"Insurance charges\",\"Insurance charges\",\"Insurance charges\",\"Insurance charges\",\"Insurance charges\",\"Insurance charges\",\"Insurance charges\",\"Insurance charges\",\"Insurance charges\",\"Insurance charges\",\"Insurance charges\",\"Insurance charges\",\"Insurance charges\",\"Insurance charges\",\"Insurance charges\",\"Insurance charges\",\"Insurance charges\",\"Insurance charges\",\"Insurance charges\",\"Insurance charges\",\"Insurance charges\",\"Insurance charges\",\"Insurance charges\",\"Insurance charges\",\"Insurance charges\",\"Insurance charges\",\"Insurance charges\",\"Insurance charges\",\"Insurance charges\",\"Insurance charges\",\"Insurance charges\",\"Insurance charges\",\"Insurance charges\",\"Insurance charges\",\"Insurance charges\",\"Insurance charges\",\"Insurance charges\",\"Insurance charges\",\"Insurance charges\",\"Insurance charges\",\"Insurance charges\",\"Insurance charges\",\"Insurance charges\",\"Insurance charges\",\"Insurance charges\",\"Insurance charges\",\"Insurance charges\",\"Insurance charges\",\"Insurance charges\",\"Insurance charges\",\"Insurance charges\",\"Insurance charges\",\"Insurance charges\",\"Insurance charges\",\"Insurance charges\",\"Insurance charges\",\"Insurance charges\",\"Insurance charges\",\"Insurance charges\",\"Insurance charges\",\"Insurance charges\",\"Insurance charges\",\"Insurance charges\",\"Insurance charges\",\"Insurance charges\",\"Insurance charges\",\"Insurance charges\",\"Insurance charges\",\"Insurance charges\",\"Insurance charges\",\"Insurance charges\",\"Insurance charges\",\"Insurance charges\",\"Insurance charges\",\"Insurance charges\",\"Insurance charges\",\"Insurance charges\",\"Insurance charges\",\"Insurance charges\",\"Insurance charges\",\"Insurance charges\",\"Insurance charges\",\"Insurance charges\",\"Insurance charges\",\"Insurance charges\",\"Insurance charges\",\"Insurance charges\",\"Insurance charges\",\"Insurance charges\",\"Insurance charges\",\"Insurance charges\",\"Insurance charges\",\"Insurance charges\",\"Insurance charges\",\"Insurance charges\",\"Insurance charges\",\"Insurance charges\",\"Insurance charges\",\"Insurance charges\",\"Insurance charges\",\"Insurance charges\",\"Insurance charges\",\"Insurance charges\",\"Insurance charges\",\"Insurance charges\",\"Insurance charges\",\"Insurance charges\",\"Insurance charges\",\"Insurance charges\",\"Insurance charges\",\"Insurance charges\",\"Insurance charges\",\"Insurance charges\",\"Insurance charges\",\"Insurance charges\",\"Insurance charges\",\"Insurance charges\",\"Insurance charges\",\"Insurance charges\"],\"yaxis\":\"y2\",\"type\":\"scatter\"}],                        {\"barmode\":\"overlay\",\"hovermode\":\"closest\",\"legend\":{\"traceorder\":\"reversed\"},\"xaxis\":{\"anchor\":\"y2\",\"domain\":[0.0,1.0],\"zeroline\":false},\"yaxis\":{\"anchor\":\"free\",\"domain\":[0.35,1],\"position\":0.0},\"yaxis2\":{\"anchor\":\"x\",\"domain\":[0,0.25],\"dtick\":1,\"showticklabels\":false},\"template\":{\"data\":{\"bar\":[{\"error_x\":{\"color\":\"#2a3f5f\"},\"error_y\":{\"color\":\"#2a3f5f\"},\"marker\":{\"line\":{\"color\":\"#E5ECF6\",\"width\":0.5},\"pattern\":{\"fillmode\":\"overlay\",\"size\":10,\"solidity\":0.2}},\"type\":\"bar\"}],\"barpolar\":[{\"marker\":{\"line\":{\"color\":\"#E5ECF6\",\"width\":0.5},\"pattern\":{\"fillmode\":\"overlay\",\"size\":10,\"solidity\":0.2}},\"type\":\"barpolar\"}],\"carpet\":[{\"aaxis\":{\"endlinecolor\":\"#2a3f5f\",\"gridcolor\":\"white\",\"linecolor\":\"white\",\"minorgridcolor\":\"white\",\"startlinecolor\":\"#2a3f5f\"},\"baxis\":{\"endlinecolor\":\"#2a3f5f\",\"gridcolor\":\"white\",\"linecolor\":\"white\",\"minorgridcolor\":\"white\",\"startlinecolor\":\"#2a3f5f\"},\"type\":\"carpet\"}],\"choropleth\":[{\"colorbar\":{\"outlinewidth\":0,\"ticks\":\"\"},\"type\":\"choropleth\"}],\"contour\":[{\"colorbar\":{\"outlinewidth\":0,\"ticks\":\"\"},\"colorscale\":[[0.0,\"#0d0887\"],[0.1111111111111111,\"#46039f\"],[0.2222222222222222,\"#7201a8\"],[0.3333333333333333,\"#9c179e\"],[0.4444444444444444,\"#bd3786\"],[0.5555555555555556,\"#d8576b\"],[0.6666666666666666,\"#ed7953\"],[0.7777777777777778,\"#fb9f3a\"],[0.8888888888888888,\"#fdca26\"],[1.0,\"#f0f921\"]],\"type\":\"contour\"}],\"contourcarpet\":[{\"colorbar\":{\"outlinewidth\":0,\"ticks\":\"\"},\"type\":\"contourcarpet\"}],\"heatmap\":[{\"colorbar\":{\"outlinewidth\":0,\"ticks\":\"\"},\"colorscale\":[[0.0,\"#0d0887\"],[0.1111111111111111,\"#46039f\"],[0.2222222222222222,\"#7201a8\"],[0.3333333333333333,\"#9c179e\"],[0.4444444444444444,\"#bd3786\"],[0.5555555555555556,\"#d8576b\"],[0.6666666666666666,\"#ed7953\"],[0.7777777777777778,\"#fb9f3a\"],[0.8888888888888888,\"#fdca26\"],[1.0,\"#f0f921\"]],\"type\":\"heatmap\"}],\"heatmapgl\":[{\"colorbar\":{\"outlinewidth\":0,\"ticks\":\"\"},\"colorscale\":[[0.0,\"#0d0887\"],[0.1111111111111111,\"#46039f\"],[0.2222222222222222,\"#7201a8\"],[0.3333333333333333,\"#9c179e\"],[0.4444444444444444,\"#bd3786\"],[0.5555555555555556,\"#d8576b\"],[0.6666666666666666,\"#ed7953\"],[0.7777777777777778,\"#fb9f3a\"],[0.8888888888888888,\"#fdca26\"],[1.0,\"#f0f921\"]],\"type\":\"heatmapgl\"}],\"histogram\":[{\"marker\":{\"pattern\":{\"fillmode\":\"overlay\",\"size\":10,\"solidity\":0.2}},\"type\":\"histogram\"}],\"histogram2d\":[{\"colorbar\":{\"outlinewidth\":0,\"ticks\":\"\"},\"colorscale\":[[0.0,\"#0d0887\"],[0.1111111111111111,\"#46039f\"],[0.2222222222222222,\"#7201a8\"],[0.3333333333333333,\"#9c179e\"],[0.4444444444444444,\"#bd3786\"],[0.5555555555555556,\"#d8576b\"],[0.6666666666666666,\"#ed7953\"],[0.7777777777777778,\"#fb9f3a\"],[0.8888888888888888,\"#fdca26\"],[1.0,\"#f0f921\"]],\"type\":\"histogram2d\"}],\"histogram2dcontour\":[{\"colorbar\":{\"outlinewidth\":0,\"ticks\":\"\"},\"colorscale\":[[0.0,\"#0d0887\"],[0.1111111111111111,\"#46039f\"],[0.2222222222222222,\"#7201a8\"],[0.3333333333333333,\"#9c179e\"],[0.4444444444444444,\"#bd3786\"],[0.5555555555555556,\"#d8576b\"],[0.6666666666666666,\"#ed7953\"],[0.7777777777777778,\"#fb9f3a\"],[0.8888888888888888,\"#fdca26\"],[1.0,\"#f0f921\"]],\"type\":\"histogram2dcontour\"}],\"mesh3d\":[{\"colorbar\":{\"outlinewidth\":0,\"ticks\":\"\"},\"type\":\"mesh3d\"}],\"parcoords\":[{\"line\":{\"colorbar\":{\"outlinewidth\":0,\"ticks\":\"\"}},\"type\":\"parcoords\"}],\"pie\":[{\"automargin\":true,\"type\":\"pie\"}],\"scatter\":[{\"marker\":{\"colorbar\":{\"outlinewidth\":0,\"ticks\":\"\"}},\"type\":\"scatter\"}],\"scatter3d\":[{\"line\":{\"colorbar\":{\"outlinewidth\":0,\"ticks\":\"\"}},\"marker\":{\"colorbar\":{\"outlinewidth\":0,\"ticks\":\"\"}},\"type\":\"scatter3d\"}],\"scattercarpet\":[{\"marker\":{\"colorbar\":{\"outlinewidth\":0,\"ticks\":\"\"}},\"type\":\"scattercarpet\"}],\"scattergeo\":[{\"marker\":{\"colorbar\":{\"outlinewidth\":0,\"ticks\":\"\"}},\"type\":\"scattergeo\"}],\"scattergl\":[{\"marker\":{\"colorbar\":{\"outlinewidth\":0,\"ticks\":\"\"}},\"type\":\"scattergl\"}],\"scattermapbox\":[{\"marker\":{\"colorbar\":{\"outlinewidth\":0,\"ticks\":\"\"}},\"type\":\"scattermapbox\"}],\"scatterpolar\":[{\"marker\":{\"colorbar\":{\"outlinewidth\":0,\"ticks\":\"\"}},\"type\":\"scatterpolar\"}],\"scatterpolargl\":[{\"marker\":{\"colorbar\":{\"outlinewidth\":0,\"ticks\":\"\"}},\"type\":\"scatterpolargl\"}],\"scatterternary\":[{\"marker\":{\"colorbar\":{\"outlinewidth\":0,\"ticks\":\"\"}},\"type\":\"scatterternary\"}],\"surface\":[{\"colorbar\":{\"outlinewidth\":0,\"ticks\":\"\"},\"colorscale\":[[0.0,\"#0d0887\"],[0.1111111111111111,\"#46039f\"],[0.2222222222222222,\"#7201a8\"],[0.3333333333333333,\"#9c179e\"],[0.4444444444444444,\"#bd3786\"],[0.5555555555555556,\"#d8576b\"],[0.6666666666666666,\"#ed7953\"],[0.7777777777777778,\"#fb9f3a\"],[0.8888888888888888,\"#fdca26\"],[1.0,\"#f0f921\"]],\"type\":\"surface\"}],\"table\":[{\"cells\":{\"fill\":{\"color\":\"#EBF0F8\"},\"line\":{\"color\":\"white\"}},\"header\":{\"fill\":{\"color\":\"#C8D4E3\"},\"line\":{\"color\":\"white\"}},\"type\":\"table\"}]},\"layout\":{\"annotationdefaults\":{\"arrowcolor\":\"#2a3f5f\",\"arrowhead\":0,\"arrowwidth\":1},\"autotypenumbers\":\"strict\",\"coloraxis\":{\"colorbar\":{\"outlinewidth\":0,\"ticks\":\"\"}},\"colorscale\":{\"diverging\":[[0,\"#8e0152\"],[0.1,\"#c51b7d\"],[0.2,\"#de77ae\"],[0.3,\"#f1b6da\"],[0.4,\"#fde0ef\"],[0.5,\"#f7f7f7\"],[0.6,\"#e6f5d0\"],[0.7,\"#b8e186\"],[0.8,\"#7fbc41\"],[0.9,\"#4d9221\"],[1,\"#276419\"]],\"sequential\":[[0.0,\"#0d0887\"],[0.1111111111111111,\"#46039f\"],[0.2222222222222222,\"#7201a8\"],[0.3333333333333333,\"#9c179e\"],[0.4444444444444444,\"#bd3786\"],[0.5555555555555556,\"#d8576b\"],[0.6666666666666666,\"#ed7953\"],[0.7777777777777778,\"#fb9f3a\"],[0.8888888888888888,\"#fdca26\"],[1.0,\"#f0f921\"]],\"sequentialminus\":[[0.0,\"#0d0887\"],[0.1111111111111111,\"#46039f\"],[0.2222222222222222,\"#7201a8\"],[0.3333333333333333,\"#9c179e\"],[0.4444444444444444,\"#bd3786\"],[0.5555555555555556,\"#d8576b\"],[0.6666666666666666,\"#ed7953\"],[0.7777777777777778,\"#fb9f3a\"],[0.8888888888888888,\"#fdca26\"],[1.0,\"#f0f921\"]]},\"colorway\":[\"#636efa\",\"#EF553B\",\"#00cc96\",\"#ab63fa\",\"#FFA15A\",\"#19d3f3\",\"#FF6692\",\"#B6E880\",\"#FF97FF\",\"#FECB52\"],\"font\":{\"color\":\"#2a3f5f\"},\"geo\":{\"bgcolor\":\"white\",\"lakecolor\":\"white\",\"landcolor\":\"#E5ECF6\",\"showlakes\":true,\"showland\":true,\"subunitcolor\":\"white\"},\"hoverlabel\":{\"align\":\"left\"},\"hovermode\":\"closest\",\"mapbox\":{\"style\":\"light\"},\"paper_bgcolor\":\"white\",\"plot_bgcolor\":\"#E5ECF6\",\"polar\":{\"angularaxis\":{\"gridcolor\":\"white\",\"linecolor\":\"white\",\"ticks\":\"\"},\"bgcolor\":\"#E5ECF6\",\"radialaxis\":{\"gridcolor\":\"white\",\"linecolor\":\"white\",\"ticks\":\"\"}},\"scene\":{\"xaxis\":{\"backgroundcolor\":\"#E5ECF6\",\"gridcolor\":\"white\",\"gridwidth\":2,\"linecolor\":\"white\",\"showbackground\":true,\"ticks\":\"\",\"zerolinecolor\":\"white\"},\"yaxis\":{\"backgroundcolor\":\"#E5ECF6\",\"gridcolor\":\"white\",\"gridwidth\":2,\"linecolor\":\"white\",\"showbackground\":true,\"ticks\":\"\",\"zerolinecolor\":\"white\"},\"zaxis\":{\"backgroundcolor\":\"#E5ECF6\",\"gridcolor\":\"white\",\"gridwidth\":2,\"linecolor\":\"white\",\"showbackground\":true,\"ticks\":\"\",\"zerolinecolor\":\"white\"}},\"shapedefaults\":{\"line\":{\"color\":\"#2a3f5f\"}},\"ternary\":{\"aaxis\":{\"gridcolor\":\"white\",\"linecolor\":\"white\",\"ticks\":\"\"},\"baxis\":{\"gridcolor\":\"white\",\"linecolor\":\"white\",\"ticks\":\"\"},\"bgcolor\":\"#E5ECF6\",\"caxis\":{\"gridcolor\":\"white\",\"linecolor\":\"white\",\"ticks\":\"\"}},\"title\":{\"x\":0.05},\"xaxis\":{\"automargin\":true,\"gridcolor\":\"white\",\"linecolor\":\"white\",\"ticks\":\"\",\"title\":{\"standoff\":15},\"zerolinecolor\":\"white\",\"zerolinewidth\":2},\"yaxis\":{\"automargin\":true,\"gridcolor\":\"white\",\"linecolor\":\"white\",\"ticks\":\"\",\"title\":{\"standoff\":15},\"zerolinecolor\":\"white\",\"zerolinewidth\":2}}},\"title\":{\"text\":\"Distribution of Insurance charges\"}},                        {\"responsive\": true}                    ).then(function(){\n",
              "                            \n",
              "var gd = document.getElementById('786f65e0-8f94-4f36-9b69-5f7506a988d3');\n",
              "var x = new MutationObserver(function (mutations, observer) {{\n",
              "        var display = window.getComputedStyle(gd).display;\n",
              "        if (!display || display === 'none') {{\n",
              "            console.log([gd, 'removed!']);\n",
              "            Plotly.purge(gd);\n",
              "            observer.disconnect();\n",
              "        }}\n",
              "}});\n",
              "\n",
              "// Listen for the removal of the full notebook cells\n",
              "var notebookContainer = gd.closest('#notebook-container');\n",
              "if (notebookContainer) {{\n",
              "    x.observe(notebookContainer, {childList: true});\n",
              "}}\n",
              "\n",
              "// Listen for the clearing of the current output cell\n",
              "var outputEl = gd.closest('.output');\n",
              "if (outputEl) {{\n",
              "    x.observe(outputEl, {childList: true});\n",
              "}}\n",
              "\n",
              "                        })                };                            </script>        </div>\n",
              "</body>\n",
              "</html>"
            ]
          },
          "metadata": {}
        }
      ]
    },
    {
      "cell_type": "code",
      "source": [
        "# distribution of age value\n",
        "sns.set()\n",
        "plt.figure(figsize=(6,6))\n",
        "sns.distplot(df1['age'])\n",
        "plt.title('Age Distribution')\n",
        "plt.show()"
      ],
      "metadata": {
        "colab": {
          "base_uri": "https://localhost:8080/",
          "height": 501
        },
        "id": "wDzqYiMUu8Hs",
        "outputId": "6cb03cdf-d4a4-4aff-e790-419772dfd4d5"
      },
      "execution_count": 117,
      "outputs": [
        {
          "output_type": "stream",
          "name": "stderr",
          "text": [
            "/usr/local/lib/python3.7/dist-packages/seaborn/distributions.py:2619: FutureWarning:\n",
            "\n",
            "`distplot` is a deprecated function and will be removed in a future version. Please adapt your code to use either `displot` (a figure-level function with similar flexibility) or `histplot` (an axes-level function for histograms).\n",
            "\n"
          ]
        },
        {
          "output_type": "display_data",
          "data": {
            "text/plain": [
              "<Figure size 432x432 with 1 Axes>"
            ],
            "image/png": "[encoded data removed]"
          },
          "metadata": {}
        }
      ]
    },
    {
      "cell_type": "code",
      "source": [
        "fig = ff.create_distplot(hist_data =[df1.bmi.values.tolist()],\n",
        "                        group_labels = [\"BMI\"],\n",
        "                        bin_size=[200],colors= ['limegreen'])\n",
        "fig[\"layout\"].update(title=\"Distribution of BMI\")\n",
        "fig.show()"
      ],
      "metadata": {
        "colab": {
          "base_uri": "https://localhost:8080/",
          "height": 542
        },
        "id": "aO5-R3sIygBm",
        "outputId": "85211e48-98c1-4f18-fc0f-51c74f8ab307"
      },
      "execution_count": 118,
      "outputs": [
        {
          "output_type": "display_data",
          "data": {
            "text/html": [
              "<html>\n",
              "<head><meta charset=\"utf-8\" /></head>\n",
              "<body>\n",
              "    <div>            <script src=\"https://cdnjs.cloudflare.com/ajax/libs/mathjax/2.7.5/MathJax.js?config=TeX-AMS-MML_SVG\"></script><script type=\"text/javascript\">if (window.MathJax) {MathJax.Hub.Config({SVG: {font: \"STIX-Web\"}});}</script>                <script type=\"text/javascript\">window.PlotlyConfig = {MathJaxConfig: 'local'};</script>\n",
              "        <script src=\"https://cdn.plot.ly/plotly-2.8.3.min.js\"></script>                <div id=\"975f5b6c-f2e3-4d09-8617-72aa63788ffe\" class=\"plotly-graph-div\" style=\"height:525px; width:100%;\"></div>            <script type=\"text/javascript\">                                    window.PLOTLYENV=window.PLOTLYENV || {};                                    if (document.getElementById(\"975f5b6c-f2e3-4d09-8617-72aa63788ffe\")) {                    Plotly.newPlot(                        \"975f5b6c-f2e3-4d09-8617-72aa63788ffe\",                        [{\"autobinx\":false,\"histnorm\":\"probability density\",\"legendgroup\":\"BMI\",\"marker\":{\"color\":\"limegreen\"},\"name\":\"BMI\",\"opacity\":0.7,\"x\":[3824.9394328647686,4492.032115804877,2119.4950066514666,2751.449056460574,3367.2949570182523,2815.818328444421,3664.858384589934,2723.592381926423,4024.136720094233,2946.3059676589273,2966.704229478838,3969.9460044073617,3133.131272127604,2741.828128548454,3619.2145379536005,3100.0750379354854,4387.310959164171,2226.3068686683055,2435.5457443489113,4330.067226535981,2825.855800104613,3890.4032468712503,3297.6124432124907,4674.454246885005,1339.5255293796022,2353.5502526492837,5185.842078058464,2775.7489970972756,3690.2644507314067,2272.239046501135,1317.67439610119,2953.2331878612617,3068.2806789582387,5505.945267745654,4820.430338302617,3930.7458709356033,3048.179287644491,3353.8643403146616,3213.3481472278327,2551.4188985268484,3049.2272072566802,4373.488672965788,1879.3827875390627,1910.9238212096998,219.5621505008512,3872.593691701104,1981.2723713671999,3789.045611729258,3180.9704628706695,3657.3373078806444,3117.8133570783784,3653.7164991733325,3688.5023453813405,4856.347358391334,3318.903047854393,3742.895371412925,925.1791497051968,3562.3254766703303,2773.174292975871,1822.0467360438138,2733.3906205855205,3132.902698911682,4434.024426935541,3727.9421817370953,2816.291294998798,2360.6340942358715,2980.8995320446356,2577.359445004576,2757.7156373370485,3672.9040775246694,2012.242619454032,3188.5257008484755,2803.535196898706,4304.430176567594,2362.287204477895,4087.0571509763604,1888.571703933649,4679.959649231769,1730.1385425974668,4191.372943900006,3038.5746609558523,2951.764225576955,2804.792682443225,4358.873188754625,2140.024417861562,3690.234147155685,4403.204447114874,2022.8963646743287,2763.93564544931,2333.902397237703,2893.333799822505,2723.6120831404337,2415.7011555551026,3888.3040596103533,4100.451205692526,3663.611370094385,2910.934251519315,3756.139873300799,3603.925023892907,2582.546937395858,4235.06908904581,3594.297976902379,4857.650294764373,3900.593564762545,2986.979127718328,2165.473874435058,3930.022092932454,5092.177992790979,2626.0936245863927,2083.9384474004178,2164.6424977569345,1386.5734155496655,3351.923236281181,2527.240741056851,3767.536127111145,2413.6323227619514,1728.306516226159,3277.760682323878,2961.1457336591893,4026.0454987368157,4337.383946944102,1622.0779388597869,4859.678404559141,4961.8028139543085,2082.712859904679,4013.8842027412175,2898.6118970351013,2951.156354765525,3461.4558635461517,2709.4875106211507,4126.966398340933,2619.5731480448344,4101.2819170795,2396.1031336181422,2515.790553739191,1737.9257479400976,4911.125781930655,2927.5562489935387,3482.2636543528733,2764.4432101748585,1872.5647117737506,2181.3452683170035,2711.8471815118733,3474.098843051983,2708.4103379022044,3738.041669354493,3703.6388134544504,2137.9840744597254,4203.114484409129,3775.4715830113546,3293.9855615068223,3758.353308033226,4480.008861728225,1572.7560364090775,3858.9419587905772,3964.874316286604,2868.5179323605944,1913.5011739643967,3478.2502699075253,4083.580465499006,2866.0773606185135,2082.3927620549625,1288.7608915469086,3659.5093878873854,2724.5179230500794,3842.4094135076657,2309.9735701697655,3465.712689620214,2847.504554903328,3324.479859348342,766.2791892242153,2512.980333692841,4331.050027897797,1792.8912897892017,4068.928896560854,3777.993182908966,3590.209311245354,2773.7377014308104,2212.791132557222,2266.974526440683,4518.19643473722,2303.216951264962,3516.737489452713,2437.863680109737,1910.3267639845612,2027.4758895624668,1576.0857992415974,2020.7603892354455,4030.564276444782,1897.0486607910063,3444.603887042598,3824.770246490946,2991.406854635769,2372.714010289792,3240.333641730345,2057.267082118582,3232.327612350733,3303.2600095983544,3945.480202617692,2134.9487928397393,3353.520251514069,2817.5582159193336,5581.458063136866,2657.319213536174,2672.1592654008564,3759.118361851354,4387.252753124422,2775.2152273807937,3772.941054953105,1996.9285025180025,3282.4493976666317,1783.0373948646306,5269.170863086417,2524.3633622471925,2144.497972189684,2650.2907582262637,1447.8685223080065,2410.765012544318,868.1473088452794,1449.9143180719036,3012.8163929944235,3319.3389350701786,4493.425252199479,2251.8831260431953,3239.1591542104184,3019.366154333361,2963.7877922218604,4592.621000056966,4268.940462731665,1865.6812973716208,3184.93166144244,4629.99156135436,1770.9299091886285,3373.4691339281185,3711.4333898353225,2814.085534054932,2754.9766430752798,1871.703514414422,3513.4466010321385,3673.623510594143,5557.204009842733,1442.7900899466879,1065.2259595205605,2113.489112596836,2892.0809301737822,1743.0302120353676,2693.755864846767,2550.5150244755023,2302.869645090654,2868.9967039201842,1833.479938753774,4239.965007911662,2868.5109146025734,2576.8462612299336,3135.1727320997097,1801.2289754932167,1998.579221564917,4346.686131368984,3323.7492486547317,3128.6724225611874,2637.265740152683,3630.2805850250234,1954.3414093033612,3521.752624511339,2385.286605447813,1972.8375630768514,4467.294767004885,4825.439932442681,3744.0033559098565,2364.724688245912,3684.656548752436,3569.294488447848,1925.4193004287422,3719.2728960605814,4228.301152232771,2006.9194817525845,2699.2331272543283,3365.8632817424145,2944.8867521188154,1631.517360291492,3497.5438671214692,1093.0961917661778,1768.6963821678346,2453.943845067432,2476.8511639951275,3726.8961271385137,2481.188612959866,3373.6534098262455,4972.019878042989,2670.708466184738,4024.217748941462,2483.5607077103177,4206.606899611836,1972.8992784632399,2553.710332286849,2206.3691983734434,4053.1766770222466,1788.4467708105892,3295.6011738803722,4119.890734842766,3754.1236963705323,3831.0647739076653,1416.0124635351358,3537.8431621263553,2535.7147538717213,3445.4717397732193,3427.2274917923487,1700.5719425953448,4692.85544244308,3346.1850459088078,3598.2809532375295,4401.792159731533,3216.540854709932,3313.7929383015735,3941.985655414306,3434.4171125941057,2605.885631942944,5489.2896216783365,2672.4867124909542,4661.673991829443,3821.193933713208,4874.619189285633,2786.558845417835,3599.879952704876,4863.307208154032,2673.345764626943,4401.687862888972,3263.285727917905,1276.5204954357707,2554.1276612614483,3420.8218841702146,3048.8266595672726,3154.5110467346494,5422.967023392854,3715.6680219772397,2860.7310112853497,3060.073850638973,4446.925185914014,1111.264330456105,3776.165342796618,1902.8195512683985,2788.95105294619,3253.39341285266,2575.128118334347,1166.6267486635033,1173.4607605738715,3065.9991827841823,2725.5230592341227,3320.8880935956267,3606.01468118669,930.5602476547292,3267.581850892553,2948.0498839353318,1844.0213703485153,3612.1874695426513,3436.603819192474,3907.0940675285206,3041.606560634505,4930.006641319789,3481.7018269789705,2304.3675739893706,1358.7605619193196,3677.0566957135393,5156.080203130208,3900.463511589443,3889.828632520682,2894.3039200916705,2185.157731301576,2123.48962636824,2925.555901837569,3278.7810162090045,3898.544933976757,5859.1093860131095,4506.393764259084,3421.9846653994405,3271.7201303307234,1981.1708591110137,1276.5773537415596,3601.7765175748646,2401.6571979608493,4118.913061116318,3933.474074355784,2225.817963411323,4135.2153814531375,4231.507502126121,3703.3731804962167,5170.569764152622,2136.916377369738,3587.067030595156,3810.109208196155,2671.255812725331,3890.393258657813,3163.620471056139,3664.5487142102,3542.3083811954803,3009.5285549617174,3971.6612073327587,2859.6666417920424,2262.6817164259082,2700.160159846177,1772.971605731182,3470.9170357680478,2955.7012561583115,2057.8296320112368,2088.740680886839,2522.503734436558,3709.576475830031,1950.231456447203,4549.378550883631,2040.186275574039,3610.1199186097692,4206.0087456366655,4286.4711562567445,3006.477050904816,3038.683147352587,2089.0738619546137,3094.700904215384,2380.2980345985593,2501.029198589014,3272.2519626813337,1732.1970891529836,1045.9690654100652,4205.100007007522,3367.1406816900985,3768.488020624845,3243.7726933215463,2214.7583885411964,2616.3192562326217,2783.889846446086,2440.238830712873,1847.357399563928,3381.427226723546,2943.379080034832,3844.1771379682714,3823.1797398843923,1444.6668219018743,2983.8854503840757,2392.424192996512,2002.3529818413394,1135.294327369479,2765.0123972700585,2998.4281343721063,3791.3546862644566,3133.7525760327007,2664.0363486602455,1551.0804646083707,1259.7770315260466,2890.8300779798137,4426.9919026130865,3116.700307157889,3181.6060299765645,2457.734185950147,4522.218667150519,2543.536818671662,3093.7871879461045,3642.2572893385577,1575.385734156098,2927.12250292033,1856.5668346378845,2061.670618659837,3189.759575283411,1760.7843889967896,4267.014865642401,3685.011143720372,1757.5157019883056,3501.1797859758185,3824.117890461078,2525.4305846132656,3329.4739106030224,2478.555062506532,1606.3198806688258,3702.531886166867,3739.472929023025,1304.7357839627932,3437.9587715587036,5400.111618746019,2588.6338917086327,2999.8009019588126,3464.104152815031,3077.506566579191,3142.0250186136213,3239.8457750438106,4839.020603444531,1756.6575972238788,1960.125858727659,2559.2836751181076,2301.9131899679287,1543.7829187787236,2329.9555673491823,2023.7234210452284,2036.99106808029,4165.379304286081,3021.107174880644,1725.6983662945427,2899.5726771008885,4042.8401650607275,1269.1440880019265,1516.3588275258378,2854.557900111572,3096.237817654383,3798.7998633358734,4700.703778988038,4381.237209928493,2232.2408777545907,2609.748812834735,3887.94532745129,2961.1263711442775,2147.9865814142895,5026.005588636862,2285.164217505873,3035.9474167172634,2925.147531914948,2370.2711651514273,3539.0678036178065,3433.6653482497077,3679.733931877127,3856.7459438975466,3442.523259902965,3032.8057886170222,1848.4024718467833,3737.054006951741,3790.663175719612,3590.2958156875275,2662.1643542700685,4797.369515195506,4477.9943938342085,2565.0937627581125,3624.630497116039,2615.161645109016,1252.80943261021,2075.7497484987834,2839.1012885322907,3451.7488190699146,2987.723713960269,3096.760387684462,5840.904166761931,3030.629945658704,214.48996542923078,2572.040519363867,1448.040872419156,4127.190121972146,2524.616600261428,4496.880926298269,3721.213385143603,2287.9479255168144,3455.2994707796283,2992.095717899695,2841.3884089387693,3012.5417459455994,4125.6017840152035,2410.2925172886876,2696.308642127221,2121.6961628505296,3582.8332723592507,2544.0264924053286,1427.148395042894,2921.3675627353414,3028.00924107762,1492.3061493451896,4090.0466406508313,1820.7427187414858,2903.531075529658,2051.5617326768233,1507.3153715294059,3092.689952837144,3025.8407622384784,2654.2819015681803,3994.296164257174,2205.035245287245,3962.8197453167472,1804.0011417402832,3114.8974649137117,3569.2865007513824,3219.6711033341508,3807.2410900911395,2651.711121905025,4316.274331123517,2601.076678971002,2700.2169827638213,4460.908302204942,1251.0412814495182,2246.5990917009594,1906.3574739598503,4117.630397717218,2428.5645855503117,331.8937878800057,3032.0354141926077,3449.2698378232317,2048.5678212962657,2506.3696215054006,2939.2976313462677,1729.7006038635368,3703.6174849273334,2787.3282112112315,3349.672596300768,5160.635880919768,2352.339199870273,3096.3779350985146,3515.3475461379912,4386.69994365144,2795.111255332104,1789.3887665184327,2261.628277707111,2243.418423725993,3579.726108673912,1645.9584327742027,5010.778684781317,3724.223250667182,4133.103830623593,3530.8070618571664,4147.043193983302,3243.82021300218,3559.814664883458,3359.3865575774544,2098.4898504001985,2884.4899229296834,3304.3804492344125,3122.8176688849494,3444.245204058791,2379.2759379856525,3083.8165387776,3843.2497384342555,2752.592628237561,2402.5414668862413,1314.2054118308956,3804.034372855911,3093.0263950189724,3069.8156931539784,3093.1896352472763,4052.786311958018,3244.1866886283397,2492.413835739159,2327.818061444978,2119.1561347164966,2817.046561646534,3283.5610591172176,3495.9169950496935,1552.1163470746285,3081.7851303245593,2645.108815601224,3261.995596885048,1278.5640601437362,4339.565769149672,2408.813101670451,2613.4261713180686,2304.325312864486,2696.6535177953047,4115.084431891209,1310.937029871479,2586.3681664092037,3223.2203193173177,3310.76938792581,2678.7931450136434,2516.8657120534886,3165.8499193359735,873.5546224801415,2556.0403505665654,3552.715255160838,2155.7930807505018,3331.461384503629,2601.1603343977085,3924.822905808383,1312.4087324338582,1569.5542335464886,4754.558655897823,2011.5839644725784,1599.268712451224,4288.654717786816,3792.345494085358,946.8075463515352,706.1076013637494,3897.7033994201784,5301.982732713454,1721.5193778502803,1890.2787493115748,4260.783608037437,2128.309405286279,3806.6576835539718,2542.1369557367025,2429.3700738538723,5164.899068665407,3871.5755261912554,3841.444452670433,3912.9677290059285,3401.909089975755,2667.8385427370504,4391.041831793947,3090.634716783566,3496.0010707372153,3124.1469711535683,2955.2819754274956,3830.8447726123773,3026.703071268443,3258.5874545762495,3328.917263965144,2282.4995693067585,3840.064898893832,3519.0039188001206,3399.8914306576207,4446.556319144126,4702.850724527274,3781.974879940055,2424.1109294123025,3745.3365969690844,1828.525659339339,2909.0825208206757,1787.9718309980465,3874.8059450136716,2989.972150980475,4682.190141539842,3662.6719370447054,3107.6038287888973,1546.486099072567,2785.5701186035467,706.6410893581265,3609.2795103884982,3676.796027397508,5031.115619070802,2946.2774295057197,2853.1234036654573,3994.474346915797,2268.8250209402104,4324.477068635393,1299.4765298888924,5802.159817223794,1717.5590129479358,2150.7071985744687,2910.8867470700557,1462.0038292424306,2910.2387948324904,3031.787361546161,2527.514914544964,5270.400774948856,4587.458776363109,3269.8462795948967,4399.487657131444,2780.5588240867437,4067.078066401933,2107.6735380306345,2649.0634228616786,3354.6804281879304,2364.031341951143,4293.715935727543,2600.664483688537,1995.1888833664611,2601.998669839045,2005.2600230400067,841.3383513394119,2294.2526574817284,2841.52302258744,3470.392495881056,4004.8647361586245,2715.712488650117,1784.931388430865,5649.594189938074,3257.5167638433545,4281.372732528074,4287.719363038842,3400.35353943111,3334.239918941157,3107.3147424440954,3732.072419397454,3482.471373618423,2756.1338778310574,4387.031232089812,3227.6380177895467,1737.4005490148868,1675.7298074384296,2492.4135019147707,2359.384650795535,2756.410249923595,4175.776876306894,2283.3238550201095,1324.7074848089874,3532.815574134298,2598.0134676036296,4413.170478468651,2305.73154581421,3116.9620190280316,7128.0045097341845,3159.4998138288847,2993.952336574094,2603.035603108178,3353.5964760087822,3252.3520292091875,1215.406149056494,3403.8303270993674,4445.533206656751,3342.0825738169715,2901.024613568705,3131.9798492683553,2800.4686855412633,3476.615749701259,2923.9968008227033,2451.5957225290217,1259.205192759617,2252.2562867739734,2204.6210015800852,4726.5028397111555,3152.0372307972134,4830.837621716664,912.1604290228497,1739.7520797481397,3869.005667348687,4800.987685705592,2801.0249639542058,2927.250182011942,3215.8907480466482,2515.171205516662,3742.733505310275,3528.561411276781,2983.7735410632977,2050.0882709111092,2534.6309265732875,3115.3792539219185,4711.25090843365,4700.391312547141,4126.2205677792035,3672.2953828771383,4382.234066559262,1653.1594727458564,1408.881417091508,2857.016271999368,1930.065827103914,3423.10428131094,2789.782843359381,2154.8794306152136,3518.1593749288268,3104.531239701324,1921.0993186294306,2836.276712620845,1742.8384567377796,4204.298627626074,3152.665631115404,2884.971951260326,5559.403487392102,2772.4106610505014,3137.6168103158275,3478.583141160322,1570.96968222139,3414.821008571131,3092.534005649438,2186.2648386009137,1388.906595675696,4016.9776348989985,2206.1075388861386,4065.265279543811,3788.4702217649183,2745.417646841272,4118.219751459781,2500.0234532320774,2150.5789922986937,1754.8964669706838,2639.309951254425,4663.904090044073,3667.3516300223446,2206.922775407476,2508.086973749732,3217.516236847834,3834.474676120897,4463.98367479957,4682.0173109250345,3381.395341295409,1653.4888156140755,6156.14296683009,1463.2956177924873,3266.205289749651,3608.4826011011314,3635.1792416747207,2100.0392145610226,3463.1332190021844,2635.929357322962,2982.7223242394552,3535.9273533596206,2635.4724981525196,3082.8121575104415,2450.328290323229,2876.261848032565,3292.1066494327974,3205.9672219823533,3989.6728875678505,1681.6099482211882,3000.082940882483,1234.138454973433,3355.8739669600036,1903.715542878936,3630.291309400911,4418.6719750463635,3979.8943382277753,4214.32714751425,1340.8619345352126,2092.3580274825176,2980.3159086361065,2610.232386444148,1020.3987848781148,1263.6231399116682,2533.6129303179287,2484.6342624947433,3528.128052371836,2013.2384374062203,3821.4108841614543,2961.6107893719413,4242.221955985368,2811.0319481335277,3986.8844414018677,4193.079178305035,1946.2295644488113,3070.9006366114686,1745.5916811552804,3467.2496945409916,862.7067884250705,2578.2125162731136,3864.468047428576,3728.2724756686757,4392.210705187238,3284.8777177267084,1438.7849042185678,2297.789869047935,1732.8517967336838,5128.268480159335,3261.5543797477912,4080.763188142409,1498.2199956114982,1403.2191408027265,2810.698356299351,2806.764985789368,1029.1978327887284,3546.870631096571,3684.4527908031064,2209.010063851008,1524.9354770115783,2700.840087401407,3377.5630442847373,3712.7753883834393,3621.54793647151,3287.0858798608815,3584.982298660802,4358.512649569812,2918.851442518763,2307.115066957097,3661.4493755847,3648.0428210663445,3212.3603131581995,4689.729433921205,3153.512076038452,1613.4174914566026,2583.954929624093,2759.7835374363603,3782.591160201524,2745.2876004727764,3038.2068519637915,3823.791185240425,3637.0365218179004,4512.0302795206335,2954.9762280660443,3908.4698927415884,2965.4658126161626,3602.2750847154393,5377.726858884187,2825.1843717482125,4180.670908472643,4839.079309984481,3954.061807615252,3528.528940096251,2841.57953266456,3435.7436313838816,5273.52963078783,2989.9638665637904,3210.555240707368,2326.1246269924395,886.8938624246875,2705.673152634113,1407.9127048650637,4225.1216627247895,2841.6822266446075,3198.965052993557,3544.543740141992,3284.762470040596,1793.5418562553482,3672.9352450454253,2404.594453704744,1081.3388646617043,2297.147648766531,4504.228053352981,2043.847592083152,2267.666150428034,2168.850718545848,3197.1518463564616,3078.4236341974224,2474.6493522198425,2547.585755108386,2047.3814489629096,2200.7665612158426,2362.1735857170643,3683.955822081697,4838.00199269845,2514.1344242723335,2629.8970264824584,4345.9106510039,4084.6394633346745],\"xaxis\":\"x\",\"xbins\":{\"end\":7128.0045097341845,\"size\":200,\"start\":214.48996542923078},\"yaxis\":\"y\",\"type\":\"histogram\"},{\"legendgroup\":\"BMI\",\"marker\":{\"color\":\"limegreen\"},\"mode\":\"lines\",\"name\":\"BMI\",\"showlegend\":false,\"x\":[214.48996542923078,228.3169945178407,242.1440236064506,255.9710526950605,269.7980817836704,283.6251108722803,297.45213996089024,311.2791690495001,325.10619813811,338.93322722671996,352.76025631532985,366.58728540393975,380.41431449254964,394.2413435811595,408.0683726697695,421.89540175837936,435.72243084698925,449.5494599355992,463.3764890242091,477.20351811281904,491.03054720142893,504.8575762900388,518.6846053786487,532.5116344672587,546.3386635558685,560.1656926444784,573.9927217330883,587.8197508216982,601.6467799103082,615.473808998918,629.300838087528,643.1278671761379,656.9548962647477,670.7819253533577,684.6089544419676,698.4359835305775,712.2630126191874,726.0900417077974,739.9170707964073,753.7440998850171,767.5711289736271,781.3981580622369,795.2251871508469,809.0522162394567,822.8792453280668,836.7062744166766,850.5333035052865,864.3603325938964,878.1873616825062,892.0143907711162,905.8414198597261,919.668448948336,933.4954780369459,947.3225071255558,961.1495362141657,974.9765653027756,988.8035943913856,1002.6306234799955,1016.4576525686053,1030.2846816572153,1044.1117107458251,1057.9387398344352,1071.765768923045,1085.5927980116548,1099.4198271002647,1113.2468561888745,1127.0738852774846,1140.9009143660944,1154.7279434547045,1168.5549725433143,1182.3820016319241,1196.209030720534,1210.036059809144,1223.8630888977539,1237.690117986364,1251.5171470749738,1265.3441761635838,1279.1712052521937,1292.9982343408035,1306.8252634294136,1320.6522925180234,1334.4793216066332,1348.306350695243,1362.133379783853,1375.960408872463,1389.7874379610728,1403.6144670496826,1417.4414961382925,1431.2685252269027,1445.0955543155126,1458.9225834041224,1472.7496124927322,1486.5766415813423,1500.4036706699521,1514.230699758562,1528.0577288471718,1541.8847579357816,1555.7117870243917,1569.5388161130015,1583.3658452016114,1597.1928742902214,1611.0199033788315,1624.8469324674413,1638.6739615560512,1652.500990644661,1666.328019733271,1680.1550488218809,1693.9820779104907,1707.8091069991005,1721.6361360877106,1735.4631651763204,1749.2901942649305,1763.1172233535403,1776.9442524421502,1790.7712815307602,1804.59831061937,1818.42533970798,1832.2523687965897,1846.0793978851998,1859.9064269738096,1873.7334560624195,1887.5604851510293,1901.3875142396394,1915.2145433282494,1929.0415724168593,1942.868601505469,1956.6956305940791,1970.522659682689,1984.3496887712988,1998.1767178599086,2012.0037469485185,2025.8307760371285,2039.6578051257384,2053.484834214348,2067.311863302958,2081.1388923915683,2094.965921480178,2108.792950568788,2122.619979657398,2136.4470087460077,2150.274037834618,2164.1010669232273,2177.9280960118376,2191.7551251004475,2205.5821541890573,2219.409183277667,2233.236212366277,2247.0632414548872,2260.890270543497,2274.717299632107,2288.5443287207167,2302.3713578093266,2316.198386897937,2330.0254159865467,2343.8524450751565,2357.6794741637664,2371.506503252376,2385.333532340986,2399.1605614295963,2412.987590518206,2426.814619606816,2440.641648695426,2454.4686777840357,2468.2957068726455,2482.1227359612553,2495.949765049865,2509.776794138475,2523.6038232270853,2537.430852315695,2551.257881404305,2565.084910492915,2578.9119395815246,2592.7389686701345,2606.5659977587443,2620.393026847354,2634.220055935965,2648.0470850245747,2661.8741141131845,2675.7011432017944,2689.528172290404,2703.355201379014,2717.182230467624,2731.0092595562337,2744.8362886448435,2758.663317733454,2772.4903468220637,2786.3173759106735,2800.1444049992833,2813.971434087893,2827.798463176503,2841.625492265113,2855.4525213537227,2869.2795504423325,2883.106579530943,2896.9336086195526,2910.7606377081624,2924.5876667967723,2938.414695885382,2952.241724973992,2966.0687540626022,2979.895783151212,2993.7228122398224,3007.549841328432,3021.376870417042,3035.203899505652,3049.0309285942617,3062.8579576828715,3076.6849867714814,3090.512015860091,3104.339044948701,3118.1660740373113,3131.993103125921,3145.820132214531,3159.647161303141,3173.4741903917507,3187.3012194803605,3201.1282485689703,3214.95527765758,3228.7823067461904,3242.6093358348003,3256.43636492341,3270.26339401202,3284.0904231006302,3297.91745218924,3311.74448127785,3325.5715103664597,3339.3985394550696,3353.22556854368,3367.0525976322897,3380.8796267208995,3394.7066558095094,3408.533684898119,3422.360713986729,3436.187743075339,3450.0147721639487,3463.841801252559,3477.668830341169,3491.4958594297786,3505.3228885183885,3519.1499176069983,3532.976946695608,3546.803975784218,3560.631004872828,3574.4580339614376,3588.285063050048,3602.1120921386578,3615.939121227268,3629.766150315878,3643.5931794044877,3657.4202084930976,3671.2472375817074,3685.0742666703172,3698.9012957589275,3712.7283248475374,3726.555353936147,3740.382383024757,3754.209412113367,3768.0364412019767,3781.8634702905865,3795.6904993791964,3809.517528467806,3823.3445575564165,3837.1715866450263,3850.998615733636,3864.825644822246,3878.652673910856,3892.4797029994656,3906.3067320880755,3920.1337611766853,3933.960790265296,3947.787819353906,3961.6148484425157,3975.4418775311256,3989.2689066197354,4003.095935708345,4016.922964796955,4030.749993885565,4044.5770229741747,4058.404052062785,4072.231081151395,4086.0581102400047,4099.885139328615,4113.712168417224,4127.539197505834,4141.366226594444,4155.193255683054,4169.020284771665,4182.847313860274,4196.674342948883,4210.501372037494,4224.328401126104,4238.155430214713,4251.982459303323,4265.809488391933,4279.636517480543,4293.463546569154,4307.290575657764,4321.117604746372,4334.944633834983,4348.771662923593,4362.598692012203,4376.425721100812,4390.252750189422,4404.079779278032,4417.9068083666425,4431.733837455253,4445.560866543863,4459.387895632472,4473.214924721082,4487.041953809692,4500.868982898302,4514.696011986911,4528.523041075521,4542.3500701641315,4556.177099252742,4570.00412834135,4583.831157429962,4597.658186518571,4611.485215607181,4625.312244695791,4639.139273784402,4652.96630287301,4666.79333196162,4680.620361050231,4694.447390138841,4708.2744192274495,4722.10144831606,4735.92847740467,4749.75550649328,4763.582535581891,4777.409564670499,4791.236593759109,4805.06362284772,4818.89065193633,4832.71768102494,4846.5447101135505,4860.371739202159,4874.198768290769,4888.02579737938,4901.85282646799,4915.679855556598,4929.506884645209,4943.333913733819,4957.160942822429,4970.987971911038,4984.815000999648,4998.642030088258,5012.4690591768685,5026.296088265477,5040.123117354087,5053.950146442699,5067.777175531308,5081.604204619918,5095.431233708528,5109.258262797139,5123.085291885747,5136.9123209743575,5150.739350062968,5164.566379151578,5178.393408240187,5192.220437328797,5206.047466417407,5219.874495506017,5233.701524594626,5247.528553683236,5261.3555827718465,5275.182611860457,5289.009640949067,5302.836670037677,5316.663699126286,5330.490728214896,5344.317757303506,5358.144786392117,5371.971815480725,5385.798844569335,5399.625873657946,5413.452902746556,5427.279931835166,5441.106960923775,5454.933990012385,5468.761019100995,5482.588048189606,5496.415077278214,5510.242106366824,5524.069135455435,5537.896164544045,5551.723193632655,5565.5502227212655,5579.377251809874,5593.204280898484,5607.031309987095,5620.858339075705,5634.685368164313,5648.512397252924,5662.339426341534,5676.166455430144,5689.993484518753,5703.820513607363,5717.647542695973,5731.4745717845835,5745.301600873194,5759.128629961802,5772.955659050414,5786.782688139023,5800.609717227633,5814.436746316243,5828.263775404854,5842.090804493462,5855.9178335820725,5869.744862670683,5883.571891759293,5897.3989208479015,5911.225949936512,5925.052979025122,5938.880008113732,5952.707037202341,5966.534066290951,5980.361095379561,5994.188124468172,6008.015153556782,6021.842182645392,6035.669211734003,6049.496240822611,6063.323269911221,6077.150298999832,6090.977328088442,6104.80435717705,6118.631386265661,6132.458415354271,6146.285444442881,6160.11247353149,6173.9395026201,6187.76653170871,6201.593560797321,6215.420589885929,6229.247618974539,6243.07464806315,6256.90167715176,6270.72870624037,6284.5557353289805,6298.382764417589,6312.209793506199,6326.03682259481,6339.86385168342,6353.69088077203,6367.517909860639,6381.344938949249,6395.171968037859,6408.9989971264695,6422.826026215078,6436.653055303688,6450.4800843922985,6464.307113480909,6478.134142569519,6491.961171658129,6505.788200746738,6519.615229835348,6533.442258923958,6547.269288012569,6561.096317101177,6574.9233461897875,6588.750375278398,6602.577404367008,6616.4044334556165,6630.231462544227,6644.058491632837,6657.885520721447,6671.712549810056,6685.539578898666,6699.366607987276,6713.193637075887,6727.020666164497,6740.847695253107,6754.674724341718,6768.501753430326,6782.328782518936,6796.155811607547,6809.982840696157,6823.809869784765,6837.636898873376,6851.463927961986,6865.290957050596,6879.117986139205,6892.945015227815,6906.772044316425,6920.599073405036,6934.426102493644,6948.253131582256,6962.080160670865,6975.907189759475,6989.734218848085,7003.5612479366955,7017.388277025306,7031.215306113914,7045.042335202525,7058.869364291135,7072.696393379745,7086.523422468354,7100.350451556964,7114.177480645574],\"xaxis\":\"x\",\"y\":[5.646571741989556e-06,5.819631953098587e-06,5.995126403362712e-06,6.174157651352689e-06,6.357982923753413e-06,6.5480082215422645e-06,6.745779880228882e-06,6.952973648517535e-06,7.1713814030028054e-06,7.402895669009889e-06,7.649492168191427e-06,7.913210660753207e-06,8.196134393002228e-06,8.500368498163444e-06,8.828017729065399e-06,9.181163924442934e-06,9.561843625488168e-06,9.972026265307653e-06,1.0413593350708705e-05,1.088831904303453e-05,1.1397852522599723e-05,1.1943702489863576e-05,1.2527224116255087e-05,1.3149608709183873e-05,1.3811876300097254e-05,1.4514871302537842e-05,1.5259261320262918e-05,1.6045539115018913e-05,1.687402767107055e-05,1.7744888220731915e-05,1.8658131023677642e-05,1.9613628624517356e-05,2.0611131249787415e-05,2.1650283948904033e-05,2.2730645035402123e-05,2.3851705346491517e-05,2.5012907811958683e-05,2.6213666808862163e-05,2.7453386777183163e-05,2.8731479584156164e-05,3.0047380151636396e-05,3.140055990140401e-05,3.279053762721542e-05,3.4216887468745165e-05,3.5679243739975816e-05,3.717730245136481e-05,3.8710819459168335e-05,4.027960527423886e-05,4.1883516663783844e-05,4.3522445280127794e-05,4.5196303647493026e-05,4.6905008928204475e-05,4.86484649705901e-05,5.042654320940148e-05,5.2239063043285354e-05,5.4085772350501075e-05,5.5966328821943706e-05,5.788028278834727e-05,5.982706219563411e-05,6.180596033869153e-05,6.381612690000063e-05,6.585656275677728e-05,6.79261189205229e-05,7.00234998586521e-05,7.214727132223359e-05,7.429587267040602e-05,7.646763354462462e-05,7.866079460872785e-05,8.087353193818324e-05,8.310398451804687e-05,8.535028419827424e-05,8.761058736084911e-05,8.988310747913313e-05,9.216614769867082e-05,9.445813254254886e-05,9.675763784465772e-05,9.906341804137934e-05,0.0001013744300059893,0.00010368985268922316,0.00010600910193196164,0.0001083318399390058,0.00011065797904289303,0.00011298767953950903,0.00011532134153826985,0.00011765959093397061,0.0001200032597699511,0.00012235336141798382,0.0001247110611443976,0.00012707764275994785,0.00012945447215887267,0.00013184295863715164,0.00013424451493869235,0.0001366605170093634,0.00013909226444173804,0.00014154094256831943,0.00014400758710902525,0.00014649305220183656,0.00014899798254658118,0.00015152279027433858,0.00015406763702299436,0.00015663242155750288,0.00015921677312614817,0.00016182005059628762,0.00016444134726935765,0.00016707950113968044,0.00016973311023874251,0.00017240055259945517,0.0001750800102861004,0.00017776949686708668,0.00018046688766035814,0.00018316995205553644,0.0001858763872120703,0.0001885838524474772,0.00019129000366220733,0.00019399252719517319,0.00019668917256360249,0.00019937778360931455,0.0002020563276474133,0.0002047229222893653,0.00020737585968730446,0.0002100136280173039,0.00021263493008381794,0.0002152386989836105,0.00021782411081388363,0.00022039059444529813,0.0002229378384060128,0.00022546579493828295,0.00022797468129557864,0.0002304649783471333,0.0002329374265501824,0.00023539301934003595,0.00023783299397679567,0.00024025881987723113,0.00024267218445318275,0.00024507497647574,0.000247469266988866,0.0002498572878081902,0.00025224140766096277,0.0002546241060517096,0.0002570079449744704,0.00025939553863564427,0.0002617895213999267,0.0002641925142237246,0.0002666070898935731,0.0002690357374390562,0.0002714808261380102,0.00027394456957392213,0.0002764289902390435,0.0002789358851997721,0.0002814667933515835,0.00028402296478795,0.00028660533279054935,0.0002892144889164387,0.0002918506616121827,0.0002945136987261821,0.0002972030542201702,0.0002999177793011242,0.00030265651810809587,0.00030541750799752034,0.0003081985843784042,0.0003109971899585046,0.00031381038817725627,0.00031663488052366477,0.00031946702737026126,0.0003223028718997437,0.00032513816666081394,0.0003279684022651536,0.0003307888377290219,0.00033359453197052546,0.00033638037599652114,0.00033914112535003536,0.00034187143243818004,0.00034456587841945937,0.00034721900439538224,0.000349825341721434,0.0003523794413235818,0.00035487590197543043,0.0003573093975548939,0.00035967470335496556,0.0003619667215684545,0.00036418050609937684,0.00036631128687261694,0.00036835449381763993,0.00037030578069120735,0.00037216104887863907,0.00037391647127420213,0.00037556851629028966,0.00037711397198430705,0.0003785499702241296,0.0003798740107404995,0.000381083984840844,0.0003821781984868459,0.0003831553943707856,0.00038401477256611006,0.0003847560092785113,0.00038537927318728934,0.00038588523884472404,0.00038627509659488346,0.0003865505584834663,0.00038671385965708175,0.0003867677547933823,0.00038671550916175186,0.00038656088398638706,0.00038630811586774804,0.0003859618901123524,0.000385527307922325,0.0003850098475024794,0.0003844153192514108,0.00038374981531160053,0.000383019653859499,0.00038223131861776533,0.0003813913941664039,0.000380506497715826,0.0003795832080815823,0.0003786279926667006,0.0003776471333125414,0.0003766466519224842,0.00037563223679440915,0.0003746091706178775,0.00037358226110030063,0.0003725557751834294,0.0003715333777974547,0.0003705180760750765,0.00036951216991224173,0.0003685172097159168,0.00036753396212224106,0.0003665623844005855,0.0003656016081802729,0.0003646499330468344,0.00036370483045356037,0.0003627629582817534,0.00036182018625965863,0.00036087163231596697,0.00035991170979977807,0.00035893418534607837,0.000357932247005669,0.0003568985820930138,0.0003558254640371199,0.0003547048473521482,0.00035352846967925716,0.00035228795969280847,0.0003509749495163505,0.00034958119016075743,0.00034809866838255533,0.0003465197232687127,0.0003448371607886862,0.0003430443645185228,0.000341135400738065,0.00033910511613281417,0.00033694922639806253,0.0003346643941448888,0.00033224829464501064,0.00032969966812278147,0.0003270183575053713,0.0003242053307729654,0.0003212626873054271,0.0003181936478952492,0.00031500252838313774,0.0003116946971660691,0.00030827651712167677,0.0003047552727807554,0.0003011390838549698,0.0002974368064831912,0.0002936579237913624,0.00028981242756208195,0.00028591069297658725,0.00028196334851976175,0.0002779811432253539,0.0002739748134819824,0.000269954951619907,0.000265931878454242,0.0002619155218735337,0.00025791530343563903,0.0002539400347686998,0.0002499978253775881,0.0002460960032299879,0.0002422410492463444,0.00023843854654964972,0.00023469314505016633,0.00023100854165249146,0.00022738747608367694,0.00022383174205707913,0.0002203422132127187,0.00021691888301625696,0.00021356091755998772,0.00021026671999471567,0.00020703400513473856,0.00020385988262248075,0.00020074094691712095,0.0001976733722846673,0.00019465301091651325,0.00019167549229007037,0.000188736321908432,0.0001858309776153114,0.00018295500177518365,0.00018010408773448276,0.00017727415913505975,0.00017446144083249615,0.00017166252037540224,0.00016887439922310735,0.00016609453311335594,0.00016332086123371225,0.00016055182409496245,0.00015778637024653312,0.0001550239522073557,0.00015226451220552197,0.0001495084585214688,0.00014675663340778431,0.00014401027371003245,0.0001412709654339148,0.0001385405935920213,0.00013582128871671351,0.00013311537144346954,0.00013042529655152087,0.0001277535977968913,0.00012510283478914038,0.00012247554305010698,0.00011987418825453816,0.00011730112549307534,0.00011475856422271225,0.0001122485393838094,0.00010977288897177332,0.00010733323816112808,0.00010493098989547309,0.00010256732168388111,0.00010024318818736094,9.79593290421231e-05,9.571628125286943e-05,9.351439540161919e-05,9.135385485725969e-05,8.923469713864311e-05,8.715683657935657e-05,8.512008746404765e-05,8.312418685234202e-05,8.11688163742425e-05,7.925362236705493e-05,7.737823382458233e-05,7.554227774044223e-05,7.374539154466978e-05,7.198723245201482e-05,7.026748365748807e-05,6.858585742597631e-05,6.694209522480829e-05,6.533596513816653e-05,6.376725687802024e-05,6.223577476617735e-05,6.074132910522286e-05,5.9283726382238865e-05,5.786275875865346e-05,5.647819329324242e-05,5.512976132463003e-05,5.381714840640952e-05,5.253998514435966e-05,5.129783923349599e-05,5.009020893527355e-05,4.891651817460884e-05,4.777611337480529e-05,4.6668262088138695e-05,4.559215342267119e-05,4.4546900213453284e-05,4.353154283991679e-05,4.254505455190346e-05,4.158634813499424e-05,4.0654283721863285e-05,3.974767754020785e-05,3.886531137907584e-05,3.800594255354755e-05,3.716831415200845e-05,3.635116535978562e-05,3.5553241666782604e-05,3.477330478396834e-05,3.40101421132101e-05,3.3262575636089035e-05,3.2529470109215465e-05,3.1809740475451266e-05,3.1102358421791095e-05,3.0406358034981044e-05,2.972084052494793e-05,2.9044978003538315e-05,2.8378016321803648e-05,2.771927698307722e-05,2.70681581613747e-05,2.6424134865283322e-05,2.57867582965604e-05,2.5155654460238606e-05,2.4530522089215533e-05,2.3911129951180823e-05,2.329731360935608e-05,2.2688971710949962e-05,2.2086061878489818e-05,2.148859627931762e-05,2.0896636947545818e-05,2.0310290930700365e-05,1.9729705330172408e-05,1.9155062300529484e-05,1.8586574067787188e-05,1.8024478021048477e-05,1.7469031925617903e-05,1.692050929898385e-05,1.6379194984119755e-05,1.584538094761355e-05,1.5319362323396844e-05,1.4801433716527426e-05,1.4291885775774932e-05,1.3791002038820598e-05,1.3299056049847902e-05,1.2816308746227488e-05,1.2343006108931891e-05,1.1879377070206946e-05,1.142563167180937e-05,1.0981959467652088e-05,1.0548528165821562e-05,1.0125482506431847e-05,9.71294337344916e-06,9.31100714022329e-06,8.919745249789015e-06,8.539204031851136e-06,8.16940475858314e-06,7.810343940828353e-06,7.461993864935909e-06,7.124303368273451e-06,6.797198848484602e-06,6.4805854979040565e-06,6.174348750354142e-06,5.878355923019436e-06,5.592458031446311e-06,5.316491751188618e-06,5.0502814954548584e-06,4.7936415745441615e-06,4.54637840009519e-06,4.308292695392467e-06,4.079181672304261e-06,3.858841135949153e-06,3.6470674799203734e-06,3.4436595378078397e-06,3.248420260748837e-06,3.0611581956702933e-06,2.881688744565021e-06,2.7098351913508675e-06,2.5454294893452785e-06,2.388312808890031e-06,2.2383358509223546e-06,2.0953589380658947e-06,1.9592518998847083e-06,1.8298937731226023e-06,1.7071723408939533e-06,1.5909835368068413e-06,1.4812307408440321e-06,1.377823993511442e-06,1.280679153353464e-06,1.189717020538591e-06,1.1048624459925587e-06,1.0260434416869244e-06,9.531903033936096e-07,8.862347527188557e-07,8.2510910077015e-07,7.69745431616652e-07,7.200747999948598e-07,6.760264346783967e-07,6.375269367369635e-07,6.044994606770175e-07,5.768628662674878e-07,5.545308297425182e-07,5.374109050281077e-07,5.254035286010412e-07,5.18400965453615e-07,5.162861982611293e-07,5.189317670509418e-07,5.261985722420064e-07,5.379346596308102e-07,5.539740114982952e-07,5.741353732527526e-07,5.982211496601836e-07,6.260164085137347e-07,6.57288032347181e-07,6.917840603234253e-07,7.292332625843868e-07,7.693449880340074e-07,8.118093236892299e-07,8.562975993753628e-07,9.024632657151655e-07,9.499431661721121e-07,9.983592155151644e-07,1.0473204876810458e-06,1.096425705867994e-06,1.1452661170857073e-06,1.1934287226190166e-06,1.2404998252654802e-06,1.286068844111984e-06,1.3297323383526778e-06,1.3710981735316029e-06,1.409789756906008e-06,1.4454502636176406e-06,1.4777467722328304e-06,1.5063742271146125e-06,1.531059146108884e-06,1.5515629951838398e-06,1.5676851569130145e-06,1.579265426926756e-06,1.5861859815008495e-06],\"yaxis\":\"y\",\"type\":\"scatter\"},{\"legendgroup\":\"BMI\",\"marker\":{\"color\":\"limegreen\",\"symbol\":\"line-ns-open\"},\"mode\":\"markers\",\"name\":\"BMI\",\"showlegend\":false,\"x\":[3824.9394328647686,4492.032115804877,2119.4950066514666,2751.449056460574,3367.2949570182523,2815.818328444421,3664.858384589934,2723.592381926423,4024.136720094233,2946.3059676589273,2966.704229478838,3969.9460044073617,3133.131272127604,2741.828128548454,3619.2145379536005,3100.0750379354854,4387.310959164171,2226.3068686683055,2435.5457443489113,4330.067226535981,2825.855800104613,3890.4032468712503,3297.6124432124907,4674.454246885005,1339.5255293796022,2353.5502526492837,5185.842078058464,2775.7489970972756,3690.2644507314067,2272.239046501135,1317.67439610119,2953.2331878612617,3068.2806789582387,5505.945267745654,4820.430338302617,3930.7458709356033,3048.179287644491,3353.8643403146616,3213.3481472278327,2551.4188985268484,3049.2272072566802,4373.488672965788,1879.3827875390627,1910.9238212096998,219.5621505008512,3872.593691701104,1981.2723713671999,3789.045611729258,3180.9704628706695,3657.3373078806444,3117.8133570783784,3653.7164991733325,3688.5023453813405,4856.347358391334,3318.903047854393,3742.895371412925,925.1791497051968,3562.3254766703303,2773.174292975871,1822.0467360438138,2733.3906205855205,3132.902698911682,4434.024426935541,3727.9421817370953,2816.291294998798,2360.6340942358715,2980.8995320446356,2577.359445004576,2757.7156373370485,3672.9040775246694,2012.242619454032,3188.5257008484755,2803.535196898706,4304.430176567594,2362.287204477895,4087.0571509763604,1888.571703933649,4679.959649231769,1730.1385425974668,4191.372943900006,3038.5746609558523,2951.764225576955,2804.792682443225,4358.873188754625,2140.024417861562,3690.234147155685,4403.204447114874,2022.8963646743287,2763.93564544931,2333.902397237703,2893.333799822505,2723.6120831404337,2415.7011555551026,3888.3040596103533,4100.451205692526,3663.611370094385,2910.934251519315,3756.139873300799,3603.925023892907,2582.546937395858,4235.06908904581,3594.297976902379,4857.650294764373,3900.593564762545,2986.979127718328,2165.473874435058,3930.022092932454,5092.177992790979,2626.0936245863927,2083.9384474004178,2164.6424977569345,1386.5734155496655,3351.923236281181,2527.240741056851,3767.536127111145,2413.6323227619514,1728.306516226159,3277.760682323878,2961.1457336591893,4026.0454987368157,4337.383946944102,1622.0779388597869,4859.678404559141,4961.8028139543085,2082.712859904679,4013.8842027412175,2898.6118970351013,2951.156354765525,3461.4558635461517,2709.4875106211507,4126.966398340933,2619.5731480448344,4101.2819170795,2396.1031336181422,2515.790553739191,1737.9257479400976,4911.125781930655,2927.5562489935387,3482.2636543528733,2764.4432101748585,1872.5647117737506,2181.3452683170035,2711.8471815118733,3474.098843051983,2708.4103379022044,3738.041669354493,3703.6388134544504,2137.9840744597254,4203.114484409129,3775.4715830113546,3293.9855615068223,3758.353308033226,4480.008861728225,1572.7560364090775,3858.9419587905772,3964.874316286604,2868.5179323605944,1913.5011739643967,3478.2502699075253,4083.580465499006,2866.0773606185135,2082.3927620549625,1288.7608915469086,3659.5093878873854,2724.5179230500794,3842.4094135076657,2309.9735701697655,3465.712689620214,2847.504554903328,3324.479859348342,766.2791892242153,2512.980333692841,4331.050027897797,1792.8912897892017,4068.928896560854,3777.993182908966,3590.209311245354,2773.7377014308104,2212.791132557222,2266.974526440683,4518.19643473722,2303.216951264962,3516.737489452713,2437.863680109737,1910.3267639845612,2027.4758895624668,1576.0857992415974,2020.7603892354455,4030.564276444782,1897.0486607910063,3444.603887042598,3824.770246490946,2991.406854635769,2372.714010289792,3240.333641730345,2057.267082118582,3232.327612350733,3303.2600095983544,3945.480202617692,2134.9487928397393,3353.520251514069,2817.5582159193336,5581.458063136866,2657.319213536174,2672.1592654008564,3759.118361851354,4387.252753124422,2775.2152273807937,3772.941054953105,1996.9285025180025,3282.4493976666317,1783.0373948646306,5269.170863086417,2524.3633622471925,2144.497972189684,2650.2907582262637,1447.8685223080065,2410.765012544318,868.1473088452794,1449.9143180719036,3012.8163929944235,3319.3389350701786,4493.425252199479,2251.8831260431953,3239.1591542104184,3019.366154333361,2963.7877922218604,4592.621000056966,4268.940462731665,1865.6812973716208,3184.93166144244,4629.99156135436,1770.9299091886285,3373.4691339281185,3711.4333898353225,2814.085534054932,2754.9766430752798,1871.703514414422,3513.4466010321385,3673.623510594143,5557.204009842733,1442.7900899466879,1065.2259595205605,2113.489112596836,2892.0809301737822,1743.0302120353676,2693.755864846767,2550.5150244755023,2302.869645090654,2868.9967039201842,1833.479938753774,4239.965007911662,2868.5109146025734,2576.8462612299336,3135.1727320997097,1801.2289754932167,1998.579221564917,4346.686131368984,3323.7492486547317,3128.6724225611874,2637.265740152683,3630.2805850250234,1954.3414093033612,3521.752624511339,2385.286605447813,1972.8375630768514,4467.294767004885,4825.439932442681,3744.0033559098565,2364.724688245912,3684.656548752436,3569.294488447848,1925.4193004287422,3719.2728960605814,4228.301152232771,2006.9194817525845,2699.2331272543283,3365.8632817424145,2944.8867521188154,1631.517360291492,3497.5438671214692,1093.0961917661778,1768.6963821678346,2453.943845067432,2476.8511639951275,3726.8961271385137,2481.188612959866,3373.6534098262455,4972.019878042989,2670.708466184738,4024.217748941462,2483.5607077103177,4206.606899611836,1972.8992784632399,2553.710332286849,2206.3691983734434,4053.1766770222466,1788.4467708105892,3295.6011738803722,4119.890734842766,3754.1236963705323,3831.0647739076653,1416.0124635351358,3537.8431621263553,2535.7147538717213,3445.4717397732193,3427.2274917923487,1700.5719425953448,4692.85544244308,3346.1850459088078,3598.2809532375295,4401.792159731533,3216.540854709932,3313.7929383015735,3941.985655414306,3434.4171125941057,2605.885631942944,5489.2896216783365,2672.4867124909542,4661.673991829443,3821.193933713208,4874.619189285633,2786.558845417835,3599.879952704876,4863.307208154032,2673.345764626943,4401.687862888972,3263.285727917905,1276.5204954357707,2554.1276612614483,3420.8218841702146,3048.8266595672726,3154.5110467346494,5422.967023392854,3715.6680219772397,2860.7310112853497,3060.073850638973,4446.925185914014,1111.264330456105,3776.165342796618,1902.8195512683985,2788.95105294619,3253.39341285266,2575.128118334347,1166.6267486635033,1173.4607605738715,3065.9991827841823,2725.5230592341227,3320.8880935956267,3606.01468118669,930.5602476547292,3267.581850892553,2948.0498839353318,1844.0213703485153,3612.1874695426513,3436.603819192474,3907.0940675285206,3041.606560634505,4930.006641319789,3481.7018269789705,2304.3675739893706,1358.7605619193196,3677.0566957135393,5156.080203130208,3900.463511589443,3889.828632520682,2894.3039200916705,2185.157731301576,2123.48962636824,2925.555901837569,3278.7810162090045,3898.544933976757,5859.1093860131095,4506.393764259084,3421.9846653994405,3271.7201303307234,1981.1708591110137,1276.5773537415596,3601.7765175748646,2401.6571979608493,4118.913061116318,3933.474074355784,2225.817963411323,4135.2153814531375,4231.507502126121,3703.3731804962167,5170.569764152622,2136.916377369738,3587.067030595156,3810.109208196155,2671.255812725331,3890.393258657813,3163.620471056139,3664.5487142102,3542.3083811954803,3009.5285549617174,3971.6612073327587,2859.6666417920424,2262.6817164259082,2700.160159846177,1772.971605731182,3470.9170357680478,2955.7012561583115,2057.8296320112368,2088.740680886839,2522.503734436558,3709.576475830031,1950.231456447203,4549.378550883631,2040.186275574039,3610.1199186097692,4206.0087456366655,4286.4711562567445,3006.477050904816,3038.683147352587,2089.0738619546137,3094.700904215384,2380.2980345985593,2501.029198589014,3272.2519626813337,1732.1970891529836,1045.9690654100652,4205.100007007522,3367.1406816900985,3768.488020624845,3243.7726933215463,2214.7583885411964,2616.3192562326217,2783.889846446086,2440.238830712873,1847.357399563928,3381.427226723546,2943.379080034832,3844.1771379682714,3823.1797398843923,1444.6668219018743,2983.8854503840757,2392.424192996512,2002.3529818413394,1135.294327369479,2765.0123972700585,2998.4281343721063,3791.3546862644566,3133.7525760327007,2664.0363486602455,1551.0804646083707,1259.7770315260466,2890.8300779798137,4426.9919026130865,3116.700307157889,3181.6060299765645,2457.734185950147,4522.218667150519,2543.536818671662,3093.7871879461045,3642.2572893385577,1575.385734156098,2927.12250292033,1856.5668346378845,2061.670618659837,3189.759575283411,1760.7843889967896,4267.014865642401,3685.011143720372,1757.5157019883056,3501.1797859758185,3824.117890461078,2525.4305846132656,3329.4739106030224,2478.555062506532,1606.3198806688258,3702.531886166867,3739.472929023025,1304.7357839627932,3437.9587715587036,5400.111618746019,2588.6338917086327,2999.8009019588126,3464.104152815031,3077.506566579191,3142.0250186136213,3239.8457750438106,4839.020603444531,1756.6575972238788,1960.125858727659,2559.2836751181076,2301.9131899679287,1543.7829187787236,2329.9555673491823,2023.7234210452284,2036.99106808029,4165.379304286081,3021.107174880644,1725.6983662945427,2899.5726771008885,4042.8401650607275,1269.1440880019265,1516.3588275258378,2854.557900111572,3096.237817654383,3798.7998633358734,4700.703778988038,4381.237209928493,2232.2408777545907,2609.748812834735,3887.94532745129,2961.1263711442775,2147.9865814142895,5026.005588636862,2285.164217505873,3035.9474167172634,2925.147531914948,2370.2711651514273,3539.0678036178065,3433.6653482497077,3679.733931877127,3856.7459438975466,3442.523259902965,3032.8057886170222,1848.4024718467833,3737.054006951741,3790.663175719612,3590.2958156875275,2662.1643542700685,4797.369515195506,4477.9943938342085,2565.0937627581125,3624.630497116039,2615.161645109016,1252.80943261021,2075.7497484987834,2839.1012885322907,3451.7488190699146,2987.723713960269,3096.760387684462,5840.904166761931,3030.629945658704,214.48996542923078,2572.040519363867,1448.040872419156,4127.190121972146,2524.616600261428,4496.880926298269,3721.213385143603,2287.9479255168144,3455.2994707796283,2992.095717899695,2841.3884089387693,3012.5417459455994,4125.6017840152035,2410.2925172886876,2696.308642127221,2121.6961628505296,3582.8332723592507,2544.0264924053286,1427.148395042894,2921.3675627353414,3028.00924107762,1492.3061493451896,4090.0466406508313,1820.7427187414858,2903.531075529658,2051.5617326768233,1507.3153715294059,3092.689952837144,3025.8407622384784,2654.2819015681803,3994.296164257174,2205.035245287245,3962.8197453167472,1804.0011417402832,3114.8974649137117,3569.2865007513824,3219.6711033341508,3807.2410900911395,2651.711121905025,4316.274331123517,2601.076678971002,2700.2169827638213,4460.908302204942,1251.0412814495182,2246.5990917009594,1906.3574739598503,4117.630397717218,2428.5645855503117,331.8937878800057,3032.0354141926077,3449.2698378232317,2048.5678212962657,2506.3696215054006,2939.2976313462677,1729.7006038635368,3703.6174849273334,2787.3282112112315,3349.672596300768,5160.635880919768,2352.339199870273,3096.3779350985146,3515.3475461379912,4386.69994365144,2795.111255332104,1789.3887665184327,2261.628277707111,2243.418423725993,3579.726108673912,1645.9584327742027,5010.778684781317,3724.223250667182,4133.103830623593,3530.8070618571664,4147.043193983302,3243.82021300218,3559.814664883458,3359.3865575774544,2098.4898504001985,2884.4899229296834,3304.3804492344125,3122.8176688849494,3444.245204058791,2379.2759379856525,3083.8165387776,3843.2497384342555,2752.592628237561,2402.5414668862413,1314.2054118308956,3804.034372855911,3093.0263950189724,3069.8156931539784,3093.1896352472763,4052.786311958018,3244.1866886283397,2492.413835739159,2327.818061444978,2119.1561347164966,2817.046561646534,3283.5610591172176,3495.9169950496935,1552.1163470746285,3081.7851303245593,2645.108815601224,3261.995596885048,1278.5640601437362,4339.565769149672,2408.813101670451,2613.4261713180686,2304.325312864486,2696.6535177953047,4115.084431891209,1310.937029871479,2586.3681664092037,3223.2203193173177,3310.76938792581,2678.7931450136434,2516.8657120534886,3165.8499193359735,873.5546224801415,2556.0403505665654,3552.715255160838,2155.7930807505018,3331.461384503629,2601.1603343977085,3924.822905808383,1312.4087324338582,1569.5542335464886,4754.558655897823,2011.5839644725784,1599.268712451224,4288.654717786816,3792.345494085358,946.8075463515352,706.1076013637494,3897.7033994201784,5301.982732713454,1721.5193778502803,1890.2787493115748,4260.783608037437,2128.309405286279,3806.6576835539718,2542.1369557367025,2429.3700738538723,5164.899068665407,3871.5755261912554,3841.444452670433,3912.9677290059285,3401.909089975755,2667.8385427370504,4391.041831793947,3090.634716783566,3496.0010707372153,3124.1469711535683,2955.2819754274956,3830.8447726123773,3026.703071268443,3258.5874545762495,3328.917263965144,2282.4995693067585,3840.064898893832,3519.0039188001206,3399.8914306576207,4446.556319144126,4702.850724527274,3781.974879940055,2424.1109294123025,3745.3365969690844,1828.525659339339,2909.0825208206757,1787.9718309980465,3874.8059450136716,2989.972150980475,4682.190141539842,3662.6719370447054,3107.6038287888973,1546.486099072567,2785.5701186035467,706.6410893581265,3609.2795103884982,3676.796027397508,5031.115619070802,2946.2774295057197,2853.1234036654573,3994.474346915797,2268.8250209402104,4324.477068635393,1299.4765298888924,5802.159817223794,1717.5590129479358,2150.7071985744687,2910.8867470700557,1462.0038292424306,2910.2387948324904,3031.787361546161,2527.514914544964,5270.400774948856,4587.458776363109,3269.8462795948967,4399.487657131444,2780.5588240867437,4067.078066401933,2107.6735380306345,2649.0634228616786,3354.6804281879304,2364.031341951143,4293.715935727543,2600.664483688537,1995.1888833664611,2601.998669839045,2005.2600230400067,841.3383513394119,2294.2526574817284,2841.52302258744,3470.392495881056,4004.8647361586245,2715.712488650117,1784.931388430865,5649.594189938074,3257.5167638433545,4281.372732528074,4287.719363038842,3400.35353943111,3334.239918941157,3107.3147424440954,3732.072419397454,3482.471373618423,2756.1338778310574,4387.031232089812,3227.6380177895467,1737.4005490148868,1675.7298074384296,2492.4135019147707,2359.384650795535,2756.410249923595,4175.776876306894,2283.3238550201095,1324.7074848089874,3532.815574134298,2598.0134676036296,4413.170478468651,2305.73154581421,3116.9620190280316,7128.0045097341845,3159.4998138288847,2993.952336574094,2603.035603108178,3353.5964760087822,3252.3520292091875,1215.406149056494,3403.8303270993674,4445.533206656751,3342.0825738169715,2901.024613568705,3131.9798492683553,2800.4686855412633,3476.615749701259,2923.9968008227033,2451.5957225290217,1259.205192759617,2252.2562867739734,2204.6210015800852,4726.5028397111555,3152.0372307972134,4830.837621716664,912.1604290228497,1739.7520797481397,3869.005667348687,4800.987685705592,2801.0249639542058,2927.250182011942,3215.8907480466482,2515.171205516662,3742.733505310275,3528.561411276781,2983.7735410632977,2050.0882709111092,2534.6309265732875,3115.3792539219185,4711.25090843365,4700.391312547141,4126.2205677792035,3672.2953828771383,4382.234066559262,1653.1594727458564,1408.881417091508,2857.016271999368,1930.065827103914,3423.10428131094,2789.782843359381,2154.8794306152136,3518.1593749288268,3104.531239701324,1921.0993186294306,2836.276712620845,1742.8384567377796,4204.298627626074,3152.665631115404,2884.971951260326,5559.403487392102,2772.4106610505014,3137.6168103158275,3478.583141160322,1570.96968222139,3414.821008571131,3092.534005649438,2186.2648386009137,1388.906595675696,4016.9776348989985,2206.1075388861386,4065.265279543811,3788.4702217649183,2745.417646841272,4118.219751459781,2500.0234532320774,2150.5789922986937,1754.8964669706838,2639.309951254425,4663.904090044073,3667.3516300223446,2206.922775407476,2508.086973749732,3217.516236847834,3834.474676120897,4463.98367479957,4682.0173109250345,3381.395341295409,1653.4888156140755,6156.14296683009,1463.2956177924873,3266.205289749651,3608.4826011011314,3635.1792416747207,2100.0392145610226,3463.1332190021844,2635.929357322962,2982.7223242394552,3535.9273533596206,2635.4724981525196,3082.8121575104415,2450.328290323229,2876.261848032565,3292.1066494327974,3205.9672219823533,3989.6728875678505,1681.6099482211882,3000.082940882483,1234.138454973433,3355.8739669600036,1903.715542878936,3630.291309400911,4418.6719750463635,3979.8943382277753,4214.32714751425,1340.8619345352126,2092.3580274825176,2980.3159086361065,2610.232386444148,1020.3987848781148,1263.6231399116682,2533.6129303179287,2484.6342624947433,3528.128052371836,2013.2384374062203,3821.4108841614543,2961.6107893719413,4242.221955985368,2811.0319481335277,3986.8844414018677,4193.079178305035,1946.2295644488113,3070.9006366114686,1745.5916811552804,3467.2496945409916,862.7067884250705,2578.2125162731136,3864.468047428576,3728.2724756686757,4392.210705187238,3284.8777177267084,1438.7849042185678,2297.789869047935,1732.8517967336838,5128.268480159335,3261.5543797477912,4080.763188142409,1498.2199956114982,1403.2191408027265,2810.698356299351,2806.764985789368,1029.1978327887284,3546.870631096571,3684.4527908031064,2209.010063851008,1524.9354770115783,2700.840087401407,3377.5630442847373,3712.7753883834393,3621.54793647151,3287.0858798608815,3584.982298660802,4358.512649569812,2918.851442518763,2307.115066957097,3661.4493755847,3648.0428210663445,3212.3603131581995,4689.729433921205,3153.512076038452,1613.4174914566026,2583.954929624093,2759.7835374363603,3782.591160201524,2745.2876004727764,3038.2068519637915,3823.791185240425,3637.0365218179004,4512.0302795206335,2954.9762280660443,3908.4698927415884,2965.4658126161626,3602.2750847154393,5377.726858884187,2825.1843717482125,4180.670908472643,4839.079309984481,3954.061807615252,3528.528940096251,2841.57953266456,3435.7436313838816,5273.52963078783,2989.9638665637904,3210.555240707368,2326.1246269924395,886.8938624246875,2705.673152634113,1407.9127048650637,4225.1216627247895,2841.6822266446075,3198.965052993557,3544.543740141992,3284.762470040596,1793.5418562553482,3672.9352450454253,2404.594453704744,1081.3388646617043,2297.147648766531,4504.228053352981,2043.847592083152,2267.666150428034,2168.850718545848,3197.1518463564616,3078.4236341974224,2474.6493522198425,2547.585755108386,2047.3814489629096,2200.7665612158426,2362.1735857170643,3683.955822081697,4838.00199269845,2514.1344242723335,2629.8970264824584,4345.9106510039,4084.6394633346745],\"xaxis\":\"x\",\"y\":[\"BMI\",\"BMI\",\"BMI\",\"BMI\",\"BMI\",\"BMI\",\"BMI\",\"BMI\",\"BMI\",\"BMI\",\"BMI\",\"BMI\",\"BMI\",\"BMI\",\"BMI\",\"BMI\",\"BMI\",\"BMI\",\"BMI\",\"BMI\",\"BMI\",\"BMI\",\"BMI\",\"BMI\",\"BMI\",\"BMI\",\"BMI\",\"BMI\",\"BMI\",\"BMI\",\"BMI\",\"BMI\",\"BMI\",\"BMI\",\"BMI\",\"BMI\",\"BMI\",\"BMI\",\"BMI\",\"BMI\",\"BMI\",\"BMI\",\"BMI\",\"BMI\",\"BMI\",\"BMI\",\"BMI\",\"BMI\",\"BMI\",\"BMI\",\"BMI\",\"BMI\",\"BMI\",\"BMI\",\"BMI\",\"BMI\",\"BMI\",\"BMI\",\"BMI\",\"BMI\",\"BMI\",\"BMI\",\"BMI\",\"BMI\",\"BMI\",\"BMI\",\"BMI\",\"BMI\",\"BMI\",\"BMI\",\"BMI\",\"BMI\",\"BMI\",\"BMI\",\"BMI\",\"BMI\",\"BMI\",\"BMI\",\"BMI\",\"BMI\",\"BMI\",\"BMI\",\"BMI\",\"BMI\",\"BMI\",\"BMI\",\"BMI\",\"BMI\",\"BMI\",\"BMI\",\"BMI\",\"BMI\",\"BMI\",\"BMI\",\"BMI\",\"BMI\",\"BMI\",\"BMI\",\"BMI\",\"BMI\",\"BMI\",\"BMI\",\"BMI\",\"BMI\",\"BMI\",\"BMI\",\"BMI\",\"BMI\",\"BMI\",\"BMI\",\"BMI\",\"BMI\",\"BMI\",\"BMI\",\"BMI\",\"BMI\",\"BMI\",\"BMI\",\"BMI\",\"BMI\",\"BMI\",\"BMI\",\"BMI\",\"BMI\",\"BMI\",\"BMI\",\"BMI\",\"BMI\",\"BMI\",\"BMI\",\"BMI\",\"BMI\",\"BMI\",\"BMI\",\"BMI\",\"BMI\",\"BMI\",\"BMI\",\"BMI\",\"BMI\",\"BMI\",\"BMI\",\"BMI\",\"BMI\",\"BMI\",\"BMI\",\"BMI\",\"BMI\",\"BMI\",\"BMI\",\"BMI\",\"BMI\",\"BMI\",\"BMI\",\"BMI\",\"BMI\",\"BMI\",\"BMI\",\"BMI\",\"BMI\",\"BMI\",\"BMI\",\"BMI\",\"BMI\",\"BMI\",\"BMI\",\"BMI\",\"BMI\",\"BMI\",\"BMI\",\"BMI\",\"BMI\",\"BMI\",\"BMI\",\"BMI\",\"BMI\",\"BMI\",\"BMI\",\"BMI\",\"BMI\",\"BMI\",\"BMI\",\"BMI\",\"BMI\",\"BMI\",\"BMI\",\"BMI\",\"BMI\",\"BMI\",\"BMI\",\"BMI\",\"BMI\",\"BMI\",\"BMI\",\"BMI\",\"BMI\",\"BMI\",\"BMI\",\"BMI\",\"BMI\",\"BMI\",\"BMI\",\"BMI\",\"BMI\",\"BMI\",\"BMI\",\"BMI\",\"BMI\",\"BMI\",\"BMI\",\"BMI\",\"BMI\",\"BMI\",\"BMI\",\"BMI\",\"BMI\",\"BMI\",\"BMI\",\"BMI\",\"BMI\",\"BMI\",\"BMI\",\"BMI\",\"BMI\",\"BMI\",\"BMI\",\"BMI\",\"BMI\",\"BMI\",\"BMI\",\"BMI\",\"BMI\",\"BMI\",\"BMI\",\"BMI\",\"BMI\",\"BMI\",\"BMI\",\"BMI\",\"BMI\",\"BMI\",\"BMI\",\"BMI\",\"BMI\",\"BMI\",\"BMI\",\"BMI\",\"BMI\",\"BMI\",\"BMI\",\"BMI\",\"BMI\",\"BMI\",\"BMI\",\"BMI\",\"BMI\",\"BMI\",\"BMI\",\"BMI\",\"BMI\",\"BMI\",\"BMI\",\"BMI\",\"BMI\",\"BMI\",\"BMI\",\"BMI\",\"BMI\",\"BMI\",\"BMI\",\"BMI\",\"BMI\",\"BMI\",\"BMI\",\"BMI\",\"BMI\",\"BMI\",\"BMI\",\"BMI\",\"BMI\",\"BMI\",\"BMI\",\"BMI\",\"BMI\",\"BMI\",\"BMI\",\"BMI\",\"BMI\",\"BMI\",\"BMI\",\"BMI\",\"BMI\",\"BMI\",\"BMI\",\"BMI\",\"BMI\",\"BMI\",\"BMI\",\"BMI\",\"BMI\",\"BMI\",\"BMI\",\"BMI\",\"BMI\",\"BMI\",\"BMI\",\"BMI\",\"BMI\",\"BMI\",\"BMI\",\"BMI\",\"BMI\",\"BMI\",\"BMI\",\"BMI\",\"BMI\",\"BMI\",\"BMI\",\"BMI\",\"BMI\",\"BMI\",\"BMI\",\"BMI\",\"BMI\",\"BMI\",\"BMI\",\"BMI\",\"BMI\",\"BMI\",\"BMI\",\"BMI\",\"BMI\",\"BMI\",\"BMI\",\"BMI\",\"BMI\",\"BMI\",\"BMI\",\"BMI\",\"BMI\",\"BMI\",\"BMI\",\"BMI\",\"BMI\",\"BMI\",\"BMI\",\"BMI\",\"BMI\",\"BMI\",\"BMI\",\"BMI\",\"BMI\",\"BMI\",\"BMI\",\"BMI\",\"BMI\",\"BMI\",\"BMI\",\"BMI\",\"BMI\",\"BMI\",\"BMI\",\"BMI\",\"BMI\",\"BMI\",\"BMI\",\"BMI\",\"BMI\",\"BMI\",\"BMI\",\"BMI\",\"BMI\",\"BMI\",\"BMI\",\"BMI\",\"BMI\",\"BMI\",\"BMI\",\"BMI\",\"BMI\",\"BMI\",\"BMI\",\"BMI\",\"BMI\",\"BMI\",\"BMI\",\"BMI\",\"BMI\",\"BMI\",\"BMI\",\"BMI\",\"BMI\",\"BMI\",\"BMI\",\"BMI\",\"BMI\",\"BMI\",\"BMI\",\"BMI\",\"BMI\",\"BMI\",\"BMI\",\"BMI\",\"BMI\",\"BMI\",\"BMI\",\"BMI\",\"BMI\",\"BMI\",\"BMI\",\"BMI\",\"BMI\",\"BMI\",\"BMI\",\"BMI\",\"BMI\",\"BMI\",\"BMI\",\"BMI\",\"BMI\",\"BMI\",\"BMI\",\"BMI\",\"BMI\",\"BMI\",\"BMI\",\"BMI\",\"BMI\",\"BMI\",\"BMI\",\"BMI\",\"BMI\",\"BMI\",\"BMI\",\"BMI\",\"BMI\",\"BMI\",\"BMI\",\"BMI\",\"BMI\",\"BMI\",\"BMI\",\"BMI\",\"BMI\",\"BMI\",\"BMI\",\"BMI\",\"BMI\",\"BMI\",\"BMI\",\"BMI\",\"BMI\",\"BMI\",\"BMI\",\"BMI\",\"BMI\",\"BMI\",\"BMI\",\"BMI\",\"BMI\",\"BMI\",\"BMI\",\"BMI\",\"BMI\",\"BMI\",\"BMI\",\"BMI\",\"BMI\",\"BMI\",\"BMI\",\"BMI\",\"BMI\",\"BMI\",\"BMI\",\"BMI\",\"BMI\",\"BMI\",\"BMI\",\"BMI\",\"BMI\",\"BMI\",\"BMI\",\"BMI\",\"BMI\",\"BMI\",\"BMI\",\"BMI\",\"BMI\",\"BMI\",\"BMI\",\"BMI\",\"BMI\",\"BMI\",\"BMI\",\"BMI\",\"BMI\",\"BMI\",\"BMI\",\"BMI\",\"BMI\",\"BMI\",\"BMI\",\"BMI\",\"BMI\",\"BMI\",\"BMI\",\"BMI\",\"BMI\",\"BMI\",\"BMI\",\"BMI\",\"BMI\",\"BMI\",\"BMI\",\"BMI\",\"BMI\",\"BMI\",\"BMI\",\"BMI\",\"BMI\",\"BMI\",\"BMI\",\"BMI\",\"BMI\",\"BMI\",\"BMI\",\"BMI\",\"BMI\",\"BMI\",\"BMI\",\"BMI\",\"BMI\",\"BMI\",\"BMI\",\"BMI\",\"BMI\",\"BMI\",\"BMI\",\"BMI\",\"BMI\",\"BMI\",\"BMI\",\"BMI\",\"BMI\",\"BMI\",\"BMI\",\"BMI\",\"BMI\",\"BMI\",\"BMI\",\"BMI\",\"BMI\",\"BMI\",\"BMI\",\"BMI\",\"BMI\",\"BMI\",\"BMI\",\"BMI\",\"BMI\",\"BMI\",\"BMI\",\"BMI\",\"BMI\",\"BMI\",\"BMI\",\"BMI\",\"BMI\",\"BMI\",\"BMI\",\"BMI\",\"BMI\",\"BMI\",\"BMI\",\"BMI\",\"BMI\",\"BMI\",\"BMI\",\"BMI\",\"BMI\",\"BMI\",\"BMI\",\"BMI\",\"BMI\",\"BMI\",\"BMI\",\"BMI\",\"BMI\",\"BMI\",\"BMI\",\"BMI\",\"BMI\",\"BMI\",\"BMI\",\"BMI\",\"BMI\",\"BMI\",\"BMI\",\"BMI\",\"BMI\",\"BMI\",\"BMI\",\"BMI\",\"BMI\",\"BMI\",\"BMI\",\"BMI\",\"BMI\",\"BMI\",\"BMI\",\"BMI\",\"BMI\",\"BMI\",\"BMI\",\"BMI\",\"BMI\",\"BMI\",\"BMI\",\"BMI\",\"BMI\",\"BMI\",\"BMI\",\"BMI\",\"BMI\",\"BMI\",\"BMI\",\"BMI\",\"BMI\",\"BMI\",\"BMI\",\"BMI\",\"BMI\",\"BMI\",\"BMI\",\"BMI\",\"BMI\",\"BMI\",\"BMI\",\"BMI\",\"BMI\",\"BMI\",\"BMI\",\"BMI\",\"BMI\",\"BMI\",\"BMI\",\"BMI\",\"BMI\",\"BMI\",\"BMI\",\"BMI\",\"BMI\",\"BMI\",\"BMI\",\"BMI\",\"BMI\",\"BMI\",\"BMI\",\"BMI\",\"BMI\",\"BMI\",\"BMI\",\"BMI\",\"BMI\",\"BMI\",\"BMI\",\"BMI\",\"BMI\",\"BMI\",\"BMI\",\"BMI\",\"BMI\",\"BMI\",\"BMI\",\"BMI\",\"BMI\",\"BMI\",\"BMI\",\"BMI\",\"BMI\",\"BMI\",\"BMI\",\"BMI\",\"BMI\",\"BMI\",\"BMI\",\"BMI\",\"BMI\",\"BMI\",\"BMI\",\"BMI\",\"BMI\",\"BMI\",\"BMI\",\"BMI\",\"BMI\",\"BMI\",\"BMI\",\"BMI\",\"BMI\",\"BMI\",\"BMI\",\"BMI\",\"BMI\",\"BMI\",\"BMI\",\"BMI\",\"BMI\",\"BMI\",\"BMI\",\"BMI\",\"BMI\",\"BMI\",\"BMI\",\"BMI\",\"BMI\",\"BMI\",\"BMI\",\"BMI\",\"BMI\",\"BMI\",\"BMI\",\"BMI\",\"BMI\",\"BMI\",\"BMI\",\"BMI\",\"BMI\",\"BMI\",\"BMI\",\"BMI\",\"BMI\",\"BMI\",\"BMI\",\"BMI\",\"BMI\",\"BMI\",\"BMI\",\"BMI\",\"BMI\",\"BMI\",\"BMI\",\"BMI\",\"BMI\",\"BMI\",\"BMI\",\"BMI\",\"BMI\",\"BMI\",\"BMI\",\"BMI\",\"BMI\",\"BMI\",\"BMI\",\"BMI\",\"BMI\",\"BMI\",\"BMI\",\"BMI\",\"BMI\",\"BMI\",\"BMI\",\"BMI\",\"BMI\",\"BMI\",\"BMI\",\"BMI\",\"BMI\",\"BMI\",\"BMI\",\"BMI\",\"BMI\",\"BMI\",\"BMI\",\"BMI\",\"BMI\",\"BMI\",\"BMI\",\"BMI\",\"BMI\",\"BMI\",\"BMI\",\"BMI\",\"BMI\",\"BMI\",\"BMI\",\"BMI\",\"BMI\",\"BMI\",\"BMI\",\"BMI\",\"BMI\",\"BMI\",\"BMI\",\"BMI\",\"BMI\",\"BMI\",\"BMI\",\"BMI\",\"BMI\",\"BMI\",\"BMI\",\"BMI\",\"BMI\",\"BMI\",\"BMI\",\"BMI\",\"BMI\",\"BMI\",\"BMI\",\"BMI\",\"BMI\",\"BMI\",\"BMI\",\"BMI\",\"BMI\",\"BMI\",\"BMI\",\"BMI\",\"BMI\",\"BMI\",\"BMI\",\"BMI\",\"BMI\",\"BMI\",\"BMI\",\"BMI\",\"BMI\",\"BMI\",\"BMI\",\"BMI\",\"BMI\",\"BMI\",\"BMI\",\"BMI\",\"BMI\",\"BMI\",\"BMI\",\"BMI\",\"BMI\",\"BMI\",\"BMI\",\"BMI\",\"BMI\",\"BMI\",\"BMI\",\"BMI\",\"BMI\",\"BMI\",\"BMI\",\"BMI\",\"BMI\",\"BMI\",\"BMI\",\"BMI\",\"BMI\",\"BMI\",\"BMI\",\"BMI\",\"BMI\",\"BMI\",\"BMI\",\"BMI\",\"BMI\",\"BMI\",\"BMI\",\"BMI\",\"BMI\",\"BMI\",\"BMI\",\"BMI\",\"BMI\",\"BMI\",\"BMI\",\"BMI\",\"BMI\",\"BMI\",\"BMI\",\"BMI\",\"BMI\",\"BMI\",\"BMI\",\"BMI\",\"BMI\",\"BMI\",\"BMI\",\"BMI\",\"BMI\",\"BMI\",\"BMI\",\"BMI\",\"BMI\",\"BMI\",\"BMI\",\"BMI\",\"BMI\",\"BMI\",\"BMI\",\"BMI\",\"BMI\",\"BMI\",\"BMI\",\"BMI\",\"BMI\",\"BMI\",\"BMI\",\"BMI\",\"BMI\",\"BMI\",\"BMI\",\"BMI\",\"BMI\",\"BMI\",\"BMI\",\"BMI\",\"BMI\",\"BMI\",\"BMI\",\"BMI\",\"BMI\",\"BMI\",\"BMI\",\"BMI\",\"BMI\",\"BMI\",\"BMI\",\"BMI\",\"BMI\",\"BMI\",\"BMI\",\"BMI\",\"BMI\",\"BMI\",\"BMI\",\"BMI\",\"BMI\",\"BMI\",\"BMI\",\"BMI\",\"BMI\",\"BMI\",\"BMI\",\"BMI\",\"BMI\",\"BMI\",\"BMI\",\"BMI\",\"BMI\",\"BMI\",\"BMI\",\"BMI\",\"BMI\",\"BMI\",\"BMI\",\"BMI\",\"BMI\",\"BMI\",\"BMI\",\"BMI\",\"BMI\",\"BMI\",\"BMI\",\"BMI\",\"BMI\",\"BMI\",\"BMI\",\"BMI\",\"BMI\",\"BMI\",\"BMI\",\"BMI\",\"BMI\",\"BMI\",\"BMI\",\"BMI\",\"BMI\",\"BMI\",\"BMI\",\"BMI\",\"BMI\",\"BMI\",\"BMI\",\"BMI\",\"BMI\",\"BMI\",\"BMI\",\"BMI\",\"BMI\",\"BMI\",\"BMI\",\"BMI\",\"BMI\",\"BMI\",\"BMI\",\"BMI\",\"BMI\",\"BMI\",\"BMI\",\"BMI\",\"BMI\"],\"yaxis\":\"y2\",\"type\":\"scatter\"}],                        {\"barmode\":\"overlay\",\"hovermode\":\"closest\",\"legend\":{\"traceorder\":\"reversed\"},\"xaxis\":{\"anchor\":\"y2\",\"domain\":[0.0,1.0],\"zeroline\":false},\"yaxis\":{\"anchor\":\"free\",\"domain\":[0.35,1],\"position\":0.0},\"yaxis2\":{\"anchor\":\"x\",\"domain\":[0,0.25],\"dtick\":1,\"showticklabels\":false},\"template\":{\"data\":{\"bar\":[{\"error_x\":{\"color\":\"#2a3f5f\"},\"error_y\":{\"color\":\"#2a3f5f\"},\"marker\":{\"line\":{\"color\":\"#E5ECF6\",\"width\":0.5},\"pattern\":{\"fillmode\":\"overlay\",\"size\":10,\"solidity\":0.2}},\"type\":\"bar\"}],\"barpolar\":[{\"marker\":{\"line\":{\"color\":\"#E5ECF6\",\"width\":0.5},\"pattern\":{\"fillmode\":\"overlay\",\"size\":10,\"solidity\":0.2}},\"type\":\"barpolar\"}],\"carpet\":[{\"aaxis\":{\"endlinecolor\":\"#2a3f5f\",\"gridcolor\":\"white\",\"linecolor\":\"white\",\"minorgridcolor\":\"white\",\"startlinecolor\":\"#2a3f5f\"},\"baxis\":{\"endlinecolor\":\"#2a3f5f\",\"gridcolor\":\"white\",\"linecolor\":\"white\",\"minorgridcolor\":\"white\",\"startlinecolor\":\"#2a3f5f\"},\"type\":\"carpet\"}],\"choropleth\":[{\"colorbar\":{\"outlinewidth\":0,\"ticks\":\"\"},\"type\":\"choropleth\"}],\"contour\":[{\"colorbar\":{\"outlinewidth\":0,\"ticks\":\"\"},\"colorscale\":[[0.0,\"#0d0887\"],[0.1111111111111111,\"#46039f\"],[0.2222222222222222,\"#7201a8\"],[0.3333333333333333,\"#9c179e\"],[0.4444444444444444,\"#bd3786\"],[0.5555555555555556,\"#d8576b\"],[0.6666666666666666,\"#ed7953\"],[0.7777777777777778,\"#fb9f3a\"],[0.8888888888888888,\"#fdca26\"],[1.0,\"#f0f921\"]],\"type\":\"contour\"}],\"contourcarpet\":[{\"colorbar\":{\"outlinewidth\":0,\"ticks\":\"\"},\"type\":\"contourcarpet\"}],\"heatmap\":[{\"colorbar\":{\"outlinewidth\":0,\"ticks\":\"\"},\"colorscale\":[[0.0,\"#0d0887\"],[0.1111111111111111,\"#46039f\"],[0.2222222222222222,\"#7201a8\"],[0.3333333333333333,\"#9c179e\"],[0.4444444444444444,\"#bd3786\"],[0.5555555555555556,\"#d8576b\"],[0.6666666666666666,\"#ed7953\"],[0.7777777777777778,\"#fb9f3a\"],[0.8888888888888888,\"#fdca26\"],[1.0,\"#f0f921\"]],\"type\":\"heatmap\"}],\"heatmapgl\":[{\"colorbar\":{\"outlinewidth\":0,\"ticks\":\"\"},\"colorscale\":[[0.0,\"#0d0887\"],[0.1111111111111111,\"#46039f\"],[0.2222222222222222,\"#7201a8\"],[0.3333333333333333,\"#9c179e\"],[0.4444444444444444,\"#bd3786\"],[0.5555555555555556,\"#d8576b\"],[0.6666666666666666,\"#ed7953\"],[0.7777777777777778,\"#fb9f3a\"],[0.8888888888888888,\"#fdca26\"],[1.0,\"#f0f921\"]],\"type\":\"heatmapgl\"}],\"histogram\":[{\"marker\":{\"pattern\":{\"fillmode\":\"overlay\",\"size\":10,\"solidity\":0.2}},\"type\":\"histogram\"}],\"histogram2d\":[{\"colorbar\":{\"outlinewidth\":0,\"ticks\":\"\"},\"colorscale\":[[0.0,\"#0d0887\"],[0.1111111111111111,\"#46039f\"],[0.2222222222222222,\"#7201a8\"],[0.3333333333333333,\"#9c179e\"],[0.4444444444444444,\"#bd3786\"],[0.5555555555555556,\"#d8576b\"],[0.6666666666666666,\"#ed7953\"],[0.7777777777777778,\"#fb9f3a\"],[0.8888888888888888,\"#fdca26\"],[1.0,\"#f0f921\"]],\"type\":\"histogram2d\"}],\"histogram2dcontour\":[{\"colorbar\":{\"outlinewidth\":0,\"ticks\":\"\"},\"colorscale\":[[0.0,\"#0d0887\"],[0.1111111111111111,\"#46039f\"],[0.2222222222222222,\"#7201a8\"],[0.3333333333333333,\"#9c179e\"],[0.4444444444444444,\"#bd3786\"],[0.5555555555555556,\"#d8576b\"],[0.6666666666666666,\"#ed7953\"],[0.7777777777777778,\"#fb9f3a\"],[0.8888888888888888,\"#fdca26\"],[1.0,\"#f0f921\"]],\"type\":\"histogram2dcontour\"}],\"mesh3d\":[{\"colorbar\":{\"outlinewidth\":0,\"ticks\":\"\"},\"type\":\"mesh3d\"}],\"parcoords\":[{\"line\":{\"colorbar\":{\"outlinewidth\":0,\"ticks\":\"\"}},\"type\":\"parcoords\"}],\"pie\":[{\"automargin\":true,\"type\":\"pie\"}],\"scatter\":[{\"marker\":{\"colorbar\":{\"outlinewidth\":0,\"ticks\":\"\"}},\"type\":\"scatter\"}],\"scatter3d\":[{\"line\":{\"colorbar\":{\"outlinewidth\":0,\"ticks\":\"\"}},\"marker\":{\"colorbar\":{\"outlinewidth\":0,\"ticks\":\"\"}},\"type\":\"scatter3d\"}],\"scattercarpet\":[{\"marker\":{\"colorbar\":{\"outlinewidth\":0,\"ticks\":\"\"}},\"type\":\"scattercarpet\"}],\"scattergeo\":[{\"marker\":{\"colorbar\":{\"outlinewidth\":0,\"ticks\":\"\"}},\"type\":\"scattergeo\"}],\"scattergl\":[{\"marker\":{\"colorbar\":{\"outlinewidth\":0,\"ticks\":\"\"}},\"type\":\"scattergl\"}],\"scattermapbox\":[{\"marker\":{\"colorbar\":{\"outlinewidth\":0,\"ticks\":\"\"}},\"type\":\"scattermapbox\"}],\"scatterpolar\":[{\"marker\":{\"colorbar\":{\"outlinewidth\":0,\"ticks\":\"\"}},\"type\":\"scatterpolar\"}],\"scatterpolargl\":[{\"marker\":{\"colorbar\":{\"outlinewidth\":0,\"ticks\":\"\"}},\"type\":\"scatterpolargl\"}],\"scatterternary\":[{\"marker\":{\"colorbar\":{\"outlinewidth\":0,\"ticks\":\"\"}},\"type\":\"scatterternary\"}],\"surface\":[{\"colorbar\":{\"outlinewidth\":0,\"ticks\":\"\"},\"colorscale\":[[0.0,\"#0d0887\"],[0.1111111111111111,\"#46039f\"],[0.2222222222222222,\"#7201a8\"],[0.3333333333333333,\"#9c179e\"],[0.4444444444444444,\"#bd3786\"],[0.5555555555555556,\"#d8576b\"],[0.6666666666666666,\"#ed7953\"],[0.7777777777777778,\"#fb9f3a\"],[0.8888888888888888,\"#fdca26\"],[1.0,\"#f0f921\"]],\"type\":\"surface\"}],\"table\":[{\"cells\":{\"fill\":{\"color\":\"#EBF0F8\"},\"line\":{\"color\":\"white\"}},\"header\":{\"fill\":{\"color\":\"#C8D4E3\"},\"line\":{\"color\":\"white\"}},\"type\":\"table\"}]},\"layout\":{\"annotationdefaults\":{\"arrowcolor\":\"#2a3f5f\",\"arrowhead\":0,\"arrowwidth\":1},\"autotypenumbers\":\"strict\",\"coloraxis\":{\"colorbar\":{\"outlinewidth\":0,\"ticks\":\"\"}},\"colorscale\":{\"diverging\":[[0,\"#8e0152\"],[0.1,\"#c51b7d\"],[0.2,\"#de77ae\"],[0.3,\"#f1b6da\"],[0.4,\"#fde0ef\"],[0.5,\"#f7f7f7\"],[0.6,\"#e6f5d0\"],[0.7,\"#b8e186\"],[0.8,\"#7fbc41\"],[0.9,\"#4d9221\"],[1,\"#276419\"]],\"sequential\":[[0.0,\"#0d0887\"],[0.1111111111111111,\"#46039f\"],[0.2222222222222222,\"#7201a8\"],[0.3333333333333333,\"#9c179e\"],[0.4444444444444444,\"#bd3786\"],[0.5555555555555556,\"#d8576b\"],[0.6666666666666666,\"#ed7953\"],[0.7777777777777778,\"#fb9f3a\"],[0.8888888888888888,\"#fdca26\"],[1.0,\"#f0f921\"]],\"sequentialminus\":[[0.0,\"#0d0887\"],[0.1111111111111111,\"#46039f\"],[0.2222222222222222,\"#7201a8\"],[0.3333333333333333,\"#9c179e\"],[0.4444444444444444,\"#bd3786\"],[0.5555555555555556,\"#d8576b\"],[0.6666666666666666,\"#ed7953\"],[0.7777777777777778,\"#fb9f3a\"],[0.8888888888888888,\"#fdca26\"],[1.0,\"#f0f921\"]]},\"colorway\":[\"#636efa\",\"#EF553B\",\"#00cc96\",\"#ab63fa\",\"#FFA15A\",\"#19d3f3\",\"#FF6692\",\"#B6E880\",\"#FF97FF\",\"#FECB52\"],\"font\":{\"color\":\"#2a3f5f\"},\"geo\":{\"bgcolor\":\"white\",\"lakecolor\":\"white\",\"landcolor\":\"#E5ECF6\",\"showlakes\":true,\"showland\":true,\"subunitcolor\":\"white\"},\"hoverlabel\":{\"align\":\"left\"},\"hovermode\":\"closest\",\"mapbox\":{\"style\":\"light\"},\"paper_bgcolor\":\"white\",\"plot_bgcolor\":\"#E5ECF6\",\"polar\":{\"angularaxis\":{\"gridcolor\":\"white\",\"linecolor\":\"white\",\"ticks\":\"\"},\"bgcolor\":\"#E5ECF6\",\"radialaxis\":{\"gridcolor\":\"white\",\"linecolor\":\"white\",\"ticks\":\"\"}},\"scene\":{\"xaxis\":{\"backgroundcolor\":\"#E5ECF6\",\"gridcolor\":\"white\",\"gridwidth\":2,\"linecolor\":\"white\",\"showbackground\":true,\"ticks\":\"\",\"zerolinecolor\":\"white\"},\"yaxis\":{\"backgroundcolor\":\"#E5ECF6\",\"gridcolor\":\"white\",\"gridwidth\":2,\"linecolor\":\"white\",\"showbackground\":true,\"ticks\":\"\",\"zerolinecolor\":\"white\"},\"zaxis\":{\"backgroundcolor\":\"#E5ECF6\",\"gridcolor\":\"white\",\"gridwidth\":2,\"linecolor\":\"white\",\"showbackground\":true,\"ticks\":\"\",\"zerolinecolor\":\"white\"}},\"shapedefaults\":{\"line\":{\"color\":\"#2a3f5f\"}},\"ternary\":{\"aaxis\":{\"gridcolor\":\"white\",\"linecolor\":\"white\",\"ticks\":\"\"},\"baxis\":{\"gridcolor\":\"white\",\"linecolor\":\"white\",\"ticks\":\"\"},\"bgcolor\":\"#E5ECF6\",\"caxis\":{\"gridcolor\":\"white\",\"linecolor\":\"white\",\"ticks\":\"\"}},\"title\":{\"x\":0.05},\"xaxis\":{\"automargin\":true,\"gridcolor\":\"white\",\"linecolor\":\"white\",\"ticks\":\"\",\"title\":{\"standoff\":15},\"zerolinecolor\":\"white\",\"zerolinewidth\":2},\"yaxis\":{\"automargin\":true,\"gridcolor\":\"white\",\"linecolor\":\"white\",\"ticks\":\"\",\"title\":{\"standoff\":15},\"zerolinecolor\":\"white\",\"zerolinewidth\":2}}},\"title\":{\"text\":\"Distribution of BMI\"}},                        {\"responsive\": true}                    ).then(function(){\n",
              "                            \n",
              "var gd = document.getElementById('975f5b6c-f2e3-4d09-8617-72aa63788ffe');\n",
              "var x = new MutationObserver(function (mutations, observer) {{\n",
              "        var display = window.getComputedStyle(gd).display;\n",
              "        if (!display || display === 'none') {{\n",
              "            console.log([gd, 'removed!']);\n",
              "            Plotly.purge(gd);\n",
              "            observer.disconnect();\n",
              "        }}\n",
              "}});\n",
              "\n",
              "// Listen for the removal of the full notebook cells\n",
              "var notebookContainer = gd.closest('#notebook-container');\n",
              "if (notebookContainer) {{\n",
              "    x.observe(notebookContainer, {childList: true});\n",
              "}}\n",
              "\n",
              "// Listen for the clearing of the current output cell\n",
              "var outputEl = gd.closest('.output');\n",
              "if (outputEl) {{\n",
              "    x.observe(outputEl, {childList: true});\n",
              "}}\n",
              "\n",
              "                        })                };                            </script>        </div>\n",
              "</body>\n",
              "</html>"
            ]
          },
          "metadata": {}
        }
      ]
    },
    {
      "cell_type": "code",
      "source": [
        "df.head()"
      ],
      "metadata": {
        "colab": {
          "base_uri": "https://localhost:8080/",
          "height": 206
        },
        "id": "ABFpr3tebxTo",
        "outputId": "91fa9a59-43a4-46db-b114-50e80bec130b"
      },
      "execution_count": 119,
      "outputs": [
        {
          "output_type": "execute_result",
          "data": {
            "text/plain": [
              "   age     sex     bmi  children smoker     region      charges\n",
              "0   19  female  27.900         0    yes  southwest  16884.92400\n",
              "1   18    male  33.770         1     no  southeast   1725.55230\n",
              "2   28    male  33.000         3     no  southeast   4449.46200\n",
              "3   33    male  22.705         0     no  northwest  21984.47061\n",
              "4   32    male  28.880         0     no  northwest   3866.85520"
            ],
            "text/html": [
              "\n",
              "  <div id=\"df-e6cf0ac8-8655-41ac-b978-8cb49241248e\">\n",
              "    <div class=\"colab-df-container\">\n",
              "      <div>\n",
              "<style scoped>\n",
              "    .dataframe tbody tr th:only-of-type {\n",
              "        vertical-align: middle;\n",
              "    }\n",
              "\n",
              "    .dataframe tbody tr th {\n",
              "        vertical-align: top;\n",
              "    }\n",
              "\n",
              "    .dataframe thead th {\n",
              "        text-align: right;\n",
              "    }\n",
              "</style>\n",
              "<table border=\"1\" class=\"dataframe\">\n",
              "  <thead>\n",
              "    <tr style=\"text-align: right;\">\n",
              "      <th></th>\n",
              "      <th>age</th>\n",
              "      <th>sex</th>\n",
              "      <th>bmi</th>\n",
              "      <th>children</th>\n",
              "      <th>smoker</th>\n",
              "      <th>region</th>\n",
              "      <th>charges</th>\n",
              "    </tr>\n",
              "  </thead>\n",
              "  <tbody>\n",
              "    <tr>\n",
              "      <th>0</th>\n",
              "      <td>19</td>\n",
              "      <td>female</td>\n",
              "      <td>27.900</td>\n",
              "      <td>0</td>\n",
              "      <td>yes</td>\n",
              "      <td>southwest</td>\n",
              "      <td>16884.92400</td>\n",
              "    </tr>\n",
              "    <tr>\n",
              "      <th>1</th>\n",
              "      <td>18</td>\n",
              "      <td>male</td>\n",
              "      <td>33.770</td>\n",
              "      <td>1</td>\n",
              "      <td>no</td>\n",
              "      <td>southeast</td>\n",
              "      <td>1725.55230</td>\n",
              "    </tr>\n",
              "    <tr>\n",
              "      <th>2</th>\n",
              "      <td>28</td>\n",
              "      <td>male</td>\n",
              "      <td>33.000</td>\n",
              "      <td>3</td>\n",
              "      <td>no</td>\n",
              "      <td>southeast</td>\n",
              "      <td>4449.46200</td>\n",
              "    </tr>\n",
              "    <tr>\n",
              "      <th>3</th>\n",
              "      <td>33</td>\n",
              "      <td>male</td>\n",
              "      <td>22.705</td>\n",
              "      <td>0</td>\n",
              "      <td>no</td>\n",
              "      <td>northwest</td>\n",
              "      <td>21984.47061</td>\n",
              "    </tr>\n",
              "    <tr>\n",
              "      <th>4</th>\n",
              "      <td>32</td>\n",
              "      <td>male</td>\n",
              "      <td>28.880</td>\n",
              "      <td>0</td>\n",
              "      <td>no</td>\n",
              "      <td>northwest</td>\n",
              "      <td>3866.85520</td>\n",
              "    </tr>\n",
              "  </tbody>\n",
              "</table>\n",
              "</div>\n",
              "      <button class=\"colab-df-convert\" onclick=\"convertToInteractive('df-e6cf0ac8-8655-41ac-b978-8cb49241248e')\"\n",
              "              title=\"Convert this dataframe to an interactive table.\"\n",
              "              style=\"display:none;\">\n",
              "        \n",
              "  <svg xmlns=\"http://www.w3.org/2000/svg\" height=\"24px\"viewBox=\"0 0 24 24\"\n",
              "       width=\"24px\">\n",
              "    <path d=\"M0 0h24v24H0V0z\" fill=\"none\"/>\n",
              "    <path d=\"M18.56 5.44l.94 2.06.94-2.06 2.06-.94-2.06-.94-.94-2.06-.94 2.06-2.06.94zm-11 1L8.5 8.5l.94-2.06 2.06-.94-2.06-.94L8.5 2.5l-.94 2.06-2.06.94zm10 10l.94 2.06.94-2.06 2.06-.94-2.06-.94-.94-2.06-.94 2.06-2.06.94z\"/><path d=\"M17.41 7.96l-1.37-1.37c-.4-.4-.92-.59-1.43-.59-.52 0-1.04.2-1.43.59L10.3 9.45l-7.72 7.72c-.78.78-.78 2.05 0 2.83L4 21.41c.39.39.9.59 1.41.59.51 0 1.02-.2 1.41-.59l7.78-7.78 2.81-2.81c.8-.78.8-2.07 0-2.86zM5.41 20L4 18.59l7.72-7.72 1.47 1.35L5.41 20z\"/>\n",
              "  </svg>\n",
              "      </button>\n",
              "      \n",
              "  <style>\n",
              "    .colab-df-container {\n",
              "      display:flex;\n",
              "      flex-wrap:wrap;\n",
              "      gap: 12px;\n",
              "    }\n",
              "\n",
              "    .colab-df-convert {\n",
              "      background-color: #E8F0FE;\n",
              "      border: none;\n",
              "      border-radius: 50%;\n",
              "      cursor: pointer;\n",
              "      display: none;\n",
              "      fill: #1967D2;\n",
              "      height: 32px;\n",
              "      padding: 0 0 0 0;\n",
              "      width: 32px;\n",
              "    }\n",
              "\n",
              "    .colab-df-convert:hover {\n",
              "      background-color: #E2EBFA;\n",
              "      box-shadow: 0px 1px 2px rgba(60, 64, 67, 0.3), 0px 1px 3px 1px rgba(60, 64, 67, 0.15);\n",
              "      fill: #174EA6;\n",
              "    }\n",
              "\n",
              "    [theme=dark] .colab-df-convert {\n",
              "      background-color: #3B4455;\n",
              "      fill: #D2E3FC;\n",
              "    }\n",
              "\n",
              "    [theme=dark] .colab-df-convert:hover {\n",
              "      background-color: #434B5C;\n",
              "      box-shadow: 0px 1px 3px 1px rgba(0, 0, 0, 0.15);\n",
              "      filter: drop-shadow(0px 1px 2px rgba(0, 0, 0, 0.3));\n",
              "      fill: #FFFFFF;\n",
              "    }\n",
              "  </style>\n",
              "\n",
              "      <script>\n",
              "        const buttonEl =\n",
              "          document.querySelector('#df-e6cf0ac8-8655-41ac-b978-8cb49241248e button.colab-df-convert');\n",
              "        buttonEl.style.display =\n",
              "          google.colab.kernel.accessAllowed ? 'block' : 'none';\n",
              "\n",
              "        async function convertToInteractive(key) {\n",
              "          const element = document.querySelector('#df-e6cf0ac8-8655-41ac-b978-8cb49241248e');\n",
              "          const dataTable =\n",
              "            await google.colab.kernel.invokeFunction('convertToInteractive',\n",
              "                                                     [key], {});\n",
              "          if (!dataTable) return;\n",
              "\n",
              "          const docLinkHtml = 'Like what you see? Visit the ' +\n",
              "            '<a target=\"_blank\" href=https://colab.research.google.com/notebooks/data_table.ipynb>data table notebook</a>'\n",
              "            + ' to learn more about interactive tables.';\n",
              "          element.innerHTML = '';\n",
              "          dataTable['output_type'] = 'display_data';\n",
              "          await google.colab.output.renderOutput(dataTable, element);\n",
              "          const docLink = document.createElement('div');\n",
              "          docLink.innerHTML = docLinkHtml;\n",
              "          element.appendChild(docLink);\n",
              "        }\n",
              "      </script>\n",
              "    </div>\n",
              "  </div>\n",
              "  "
            ]
          },
          "metadata": {},
          "execution_count": 119
        }
      ]
    },
    {
      "cell_type": "code",
      "source": [
        "# children column\n",
        "plt.figure(figsize=(6,6))\n",
        "sns.countplot(x='children', data=df)\n",
        "plt.title('Children')\n",
        "plt.show()"
      ],
      "metadata": {
        "colab": {
          "base_uri": "https://localhost:8080/",
          "height": 410
        },
        "id": "ktN2V38ayKOT",
        "outputId": "a9e9948d-91b8-4325-fb98-322795d3cbde"
      },
      "execution_count": 120,
      "outputs": [
        {
          "output_type": "display_data",
          "data": {
            "text/plain": [
              "<Figure size 432x432 with 1 Axes>"
            ],
            "image/png": "[encoded data removed]"
          },
          "metadata": {}
        }
      ]
    },
    {
      "cell_type": "code",
      "source": [
        "df['children'].value_counts()"
      ],
      "metadata": {
        "colab": {
          "base_uri": "https://localhost:8080/"
        },
        "id": "QquL43Vpd2EQ",
        "outputId": "3ce23001-0d7b-4652-a802-80e372e8a5d7"
      },
      "execution_count": 121,
      "outputs": [
        {
          "output_type": "execute_result",
          "data": {
            "text/plain": [
              "0    574\n",
              "1    324\n",
              "2    240\n",
              "3    157\n",
              "4     25\n",
              "5     18\n",
              "Name: children, dtype: int64"
            ]
          },
          "metadata": {},
          "execution_count": 121
        }
      ]
    },
    {
      "cell_type": "code",
      "source": [
        "# smoker column\n",
        "plt.figure(figsize=(6,6))\n",
        "sns.countplot(x='smoker', data=df)\n",
        "plt.title('smoker')\n",
        "plt.show()"
      ],
      "metadata": {
        "colab": {
          "base_uri": "https://localhost:8080/",
          "height": 410
        },
        "id": "32MXPvnkd6tY",
        "outputId": "0e5f1416-63c0-4472-836a-e36f9c7be01b"
      },
      "execution_count": 122,
      "outputs": [
        {
          "output_type": "display_data",
          "data": {
            "text/plain": [
              "<Figure size 432x432 with 1 Axes>"
            ],
            "image/png": "[encoded data removed]"
          },
          "metadata": {}
        }
      ]
    },
    {
      "cell_type": "code",
      "source": [
        "df['smoker'].value_counts()"
      ],
      "metadata": {
        "colab": {
          "base_uri": "https://localhost:8080/"
        },
        "id": "9gBHrtjeeB6U",
        "outputId": "c523b0f4-a65d-420a-854a-4cedb50e7c7c"
      },
      "execution_count": 123,
      "outputs": [
        {
          "output_type": "execute_result",
          "data": {
            "text/plain": [
              "no     1064\n",
              "yes     274\n",
              "Name: smoker, dtype: int64"
            ]
          },
          "metadata": {},
          "execution_count": 123
        }
      ]
    },
    {
      "cell_type": "code",
      "source": [
        "# region column\n",
        "plt.figure(figsize=(6,6))\n",
        "sns.countplot(x='region', data=df)\n",
        "plt.title('region')\n",
        "plt.show()"
      ],
      "metadata": {
        "colab": {
          "base_uri": "https://localhost:8080/",
          "height": 410
        },
        "id": "zqMRmjGieGYP",
        "outputId": "1300f67c-3f5a-4146-9156-62182acaf41f"
      },
      "execution_count": 124,
      "outputs": [
        {
          "output_type": "display_data",
          "data": {
            "text/plain": [
              "<Figure size 432x432 with 1 Axes>"
            ],
            "image/png": "[encoded data removed]"
          },
          "metadata": {}
        }
      ]
    },
    {
      "cell_type": "code",
      "source": [
        "df['region'].value_counts()"
      ],
      "metadata": {
        "colab": {
          "base_uri": "https://localhost:8080/"
        },
        "id": "xilVICaUfdD5",
        "outputId": "37d5bbe7-8aac-4556-9d3d-000f4f2913f3"
      },
      "execution_count": 125,
      "outputs": [
        {
          "output_type": "execute_result",
          "data": {
            "text/plain": [
              "southeast    364\n",
              "southwest    325\n",
              "northwest    325\n",
              "northeast    324\n",
              "Name: region, dtype: int64"
            ]
          },
          "metadata": {},
          "execution_count": 125
        }
      ]
    },
    {
      "cell_type": "code",
      "source": [
        "# encoding \n",
        "#sex column\n",
        "df.replace({'sex':{'male':0,'female':1}}, inplace=True)\n",
        "\n",
        "3 #smoker column\n",
        "df.replace({'smoker':{'yes':0,'no':1}}, inplace=True)\n",
        "\n",
        "# region column\n",
        "df.replace({'region':{'southeast':1,'southwest':2,'northeast':3,'northwest':4}}, inplace=True)"
      ],
      "metadata": {
        "id": "eO-KfEX8g7ph"
      },
      "execution_count": 126,
      "outputs": []
    },
    {
      "cell_type": "code",
      "source": [
        "#Splitting the data into  Features and Target variable"
      ],
      "metadata": {
        "id": "YXmPNXSZhPQq"
      },
      "execution_count": null,
      "outputs": []
    },
    {
      "cell_type": "code",
      "source": [
        "X = df.drop(columns='charges', axis=1)\n",
        "Y = df['charges']"
      ],
      "metadata": {
        "id": "cZibWwFxhU0g"
      },
      "execution_count": 128,
      "outputs": []
    },
    {
      "cell_type": "code",
      "source": [
        "print(X)\n"
      ],
      "metadata": {
        "colab": {
          "base_uri": "https://localhost:8080/"
        },
        "id": "9qgUNMc0hc7O",
        "outputId": "086bd2bd-5499-4441-a961-fc2766d7cc5d"
      },
      "execution_count": 132,
      "outputs": [
        {
          "output_type": "stream",
          "name": "stdout",
          "text": [
            "      age  sex     bmi  children  smoker  region\n",
            "0      19    1  27.900         0       0       2\n",
            "1      18    0  33.770         1       1       1\n",
            "2      28    0  33.000         3       1       1\n",
            "3      33    0  22.705         0       1       4\n",
            "4      32    0  28.880         0       1       4\n",
            "...   ...  ...     ...       ...     ...     ...\n",
            "1333   50    0  30.970         3       1       4\n",
            "1334   18    1  31.920         0       1       3\n",
            "1335   18    1  36.850         0       1       1\n",
            "1336   21    1  25.800         0       1       2\n",
            "1337   61    1  29.070         0       0       4\n",
            "\n",
            "[1338 rows x 6 columns]\n"
          ]
        }
      ]
    },
    {
      "cell_type": "code",
      "source": [
        "print(Y)"
      ],
      "metadata": {
        "colab": {
          "base_uri": "https://localhost:8080/"
        },
        "id": "mgnkn4oohooL",
        "outputId": "4cbcecd2-af19-429b-995a-466a67c9ca39"
      },
      "execution_count": 133,
      "outputs": [
        {
          "output_type": "stream",
          "name": "stdout",
          "text": [
            "0       16884.92400\n",
            "1        1725.55230\n",
            "2        4449.46200\n",
            "3       21984.47061\n",
            "4        3866.85520\n",
            "           ...     \n",
            "1333    10600.54830\n",
            "1334     2205.98080\n",
            "1335     1629.83350\n",
            "1336     2007.94500\n",
            "1337    29141.36030\n",
            "Name: charges, Length: 1338, dtype: float64\n"
          ]
        }
      ]
    },
    {
      "cell_type": "code",
      "source": [
        "#Splitting the dataset into Training & Testing Data\n",
        "X_train, X_test, Y_train, Y_test = train_test_split(X, Y, test_size=0.2, random_state=2)"
      ],
      "metadata": {
        "id": "rJfKwRmNhtU8"
      },
      "execution_count": 134,
      "outputs": []
    },
    {
      "cell_type": "markdown",
      "source": [
        "Model Training"
      ],
      "metadata": {
        "id": "_cjzkiG5iG-s"
      }
    },
    {
      "cell_type": "code",
      "source": [
        "#Linear Regression\n",
        "# loading the Linear Regression model\n",
        "linear_reg_model = LinearRegression()\n",
        "linear_reg_model.fit(X_train, Y_train)"
      ],
      "metadata": {
        "colab": {
          "base_uri": "https://localhost:8080/"
        },
        "id": "TDKyKHSph-PO",
        "outputId": "f8fd6658-4deb-4d5b-9eba-7c20fb62bb9a"
      },
      "execution_count": 135,
      "outputs": [
        {
          "output_type": "execute_result",
          "data": {
            "text/plain": [
              "LinearRegression()"
            ]
          },
          "metadata": {},
          "execution_count": 135
        }
      ]
    },
    {
      "cell_type": "markdown",
      "source": [
        "Model Evaluation"
      ],
      "metadata": {
        "id": "i2JM4t-wiaiS"
      }
    },
    {
      "cell_type": "code",
      "source": [
        "# prediction on training data\n",
        "train_prediction =linear_reg_model.predict(X_train)"
      ],
      "metadata": {
        "id": "GT9oTDl2ib5q"
      },
      "execution_count": 136,
      "outputs": []
    },
    {
      "cell_type": "code",
      "source": [
        "# R squared value\n",
        "r2_train = metrics.r2_score(Y_train, train_prediction)\n",
        "print('R squared vale : ', r2_train)"
      ],
      "metadata": {
        "colab": {
          "base_uri": "https://localhost:8080/"
        },
        "id": "c-mp-phMlTA2",
        "outputId": "b95a9b82-2e8c-4ffe-c35e-a2b05e797b3b"
      },
      "execution_count": 137,
      "outputs": [
        {
          "output_type": "stream",
          "name": "stdout",
          "text": [
            "R squared vale :  0.751505643411174\n"
          ]
        }
      ]
    },
    {
      "cell_type": "code",
      "source": [
        "# prediction for test data\n",
        "test_prediction =linear_reg_model.predict(X_test)"
      ],
      "metadata": {
        "id": "H4MLnrvAliqZ"
      },
      "execution_count": 138,
      "outputs": []
    },
    {
      "cell_type": "code",
      "source": [
        "# R squared value\n",
        "r2_test = metrics.r2_score(Y_test, test_prediction)\n",
        "print('R squared vale : ', r2_test)"
      ],
      "metadata": {
        "colab": {
          "base_uri": "https://localhost:8080/"
        },
        "id": "XfIxwX4alsBo",
        "outputId": "4b901c4a-be65-4179-cf2c-36b33df9e252"
      },
      "execution_count": 139,
      "outputs": [
        {
          "output_type": "stream",
          "name": "stdout",
          "text": [
            "R squared vale :  0.7447273869684077\n"
          ]
        }
      ]
    },
    {
      "cell_type": "code",
      "source": [
        "input_data = (31,1,25.74,0,1,0)\n",
        "\n",
        "# changing input_data to a numpy array\n",
        "input = np.asarray(input_data)\n",
        "\n",
        "# reshape the array\n",
        "input_data_reshaped = input.reshape(1,-1)\n",
        "\n",
        "prediction = linear_reg_model.predict(input_data_reshaped)\n",
        "print(prediction)\n",
        "\n",
        "print('The insurance cost is USD ', prediction[0])"
      ],
      "metadata": {
        "colab": {
          "base_uri": "https://localhost:8080/"
        },
        "id": "5lJhRTclnDGf",
        "outputId": "105aad11-dcc6-4e2e-99cf-9b620b3769cd"
      },
      "execution_count": 140,
      "outputs": [
        {
          "output_type": "stream",
          "name": "stdout",
          "text": [
            "[3547.85814921]\n",
            "The insurance cost is USD  3547.858149212736\n"
          ]
        },
        {
          "output_type": "stream",
          "name": "stderr",
          "text": [
            "/usr/local/lib/python3.7/dist-packages/sklearn/base.py:451: UserWarning:\n",
            "\n",
            "X does not have valid feature names, but LinearRegression was fitted with feature names\n",
            "\n"
          ]
        }
      ]
    }
  ]
}